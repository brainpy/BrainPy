{
 "cells": [
  {
   "cell_type": "markdown",
   "metadata": {},
   "source": [
    "# Customizing General Dynamical Systems\n",
    "\n",
    "[![Colab](https://colab.research.google.com/assets/colab-badge.svg)](https://colab.research.google.com/github/brainpy/brainpy/blob/master/docs_version2/tutorial_building/customize_dynamical_systems.ipynb)\n",
    "[![Open in Kaggle](https://kaggle.com/static/images/open-in-kaggle.svg)](https://kaggle.com/kernels/welcome?src=https://github.com/brainpy/brainpy/blob/master/docs_version2/tutorial_building/customize_dynamical_systems.ipynb)"
   ]
  },
  {
   "cell_type": "markdown",
   "metadata": {},
   "source": [
    "@[Xiaoyu Chen](mailto:c-xy17@tsinghua.org.cn) @[Chaoming Wang](mailto:adaduo@outlook.com)"
   ]
  },
  {
   "cell_type": "markdown",
   "metadata": {},
   "source": [
    "The previous sections have shown how to build neuron models, synapse models, and network models. In fact, these brain objects all inherit the base class [brainpy.DynamicalSystem](../apis/auto/dyn/generated/brainpy.dyn.base.DynamicalSystem.rst), ``brainpy.DynamicalSystem`` is the universal language to define dynamical models in BrainPy.\n",
    "\n",
    "To begin with, let's make a brief summary of previous dynamic models and give the definition of a dynamical system."
   ]
  },
  {
   "cell_type": "code",
   "metadata": {
    "ExecuteTime": {
     "end_time": "2025-10-06T03:48:50.395266Z",
     "start_time": "2025-10-06T03:48:46.480433Z"
    }
   },
   "source": [
    "import brainpy as bp\n",
    "import brainpy.math as bm\n",
    "\n",
    "bm.set_platform('cpu')\n",
    "\n",
    "bp.__version__"
   ],
   "outputs": [
    {
     "data": {
      "text/plain": [
       "'3.0.0'"
      ]
     },
     "execution_count": 1,
     "metadata": {},
     "output_type": "execute_result"
    }
   ],
   "execution_count": 1
  },
  {
   "cell_type": "markdown",
   "metadata": {},
   "source": [
    "## What is a dynamical system?"
   ]
  },
  {
   "cell_type": "markdown",
   "metadata": {},
   "source": [
    "Looking back to the neuron and synapse models defined in the previous sections, they share a common feature that **they all contain some variables that change over time**. Because of these variables, the models become 'dynamic' and behave differently at different times.\n",
    "\n",
    "Actually, a *dynamical system* is defined as a system with time-dependent states. These time-dependent states are displayed as variables in the previous models.\n",
    "\n",
    "Mathematically, the change of a state $X$ can be expressed as\n",
    "\n",
    "$$\n",
    "\\dot{X} = f(X, t)\n",
    "$$\n",
    "\n",
    "where $X$ is the state of the system, $t$ is the time, and $f$ is a function describing the time dependence of the state. \n",
    "\n",
    "Alternatively, the evolution of the system over time can be given by\n",
    "\n",
    "$$\n",
    "X(t+dt) = F\\left(X(t), t, dt\\right)\n",
    "$$\n",
    "\n",
    "where $dt$ is the time step and $F$ is the evolution rule to update the system's state."
   ]
  },
  {
   "cell_type": "markdown",
   "metadata": {},
   "source": [
    "## Customizing your dynamical systems\n",
    "\n",
    "According to the mathematical expression of a dynamical system, any subclass of ``brainpy.DynamicalSystem`` must implement an updating rule in the ``update(self, tdi)`` function.\n",
    "\n",
    "To define a dynamical system, the following requirements should be satisfied:\n",
    "- Inherit from `brainpy.DynamicalSystem`.\n",
    "- Implement the `update(self, tdi)` function.\n",
    "- When defining variables, they should be declared as `brainpy.math.Variable`.\n",
    "- When updating the variables, it should be realized by [in-place operations](./tutorial_basics/arrays_and_variables.ipynb).\n",
    "\n",
    "Below is a simple example of a dynamical system."
   ]
  },
  {
   "cell_type": "code",
   "metadata": {
    "ExecuteTime": {
     "end_time": "2025-10-06T03:48:50.407961Z",
     "start_time": "2025-10-06T03:48:50.398886Z"
    }
   },
   "source": [
    "class FitzHughNagumoModel(bp.DynamicalSystem):\n",
    "    def __init__(self, a=0.8, b=0.7, tau=12.5, **kwargs):\n",
    "        super(FitzHughNagumoModel, self).__init__(**kwargs)\n",
    "        \n",
    "        # parameters\n",
    "        self.a = a\n",
    "        self.b = b\n",
    "        self.tau = tau\n",
    "        \n",
    "        # variables should be packed by brainpy.math.Variable\n",
    "        self.v = bm.Variable([0.])\n",
    "        self.w = bm.Variable([0.])\n",
    "        self.I = bm.Variable([0.])\n",
    "        \n",
    "    def update(self, tdi):\n",
    "        t, dt = tdi.t, tdi.dt\n",
    "        # t : the current time, the system keyword\n",
    "        # dt : the time step, the system keyword\n",
    "        \n",
    "        # in-place update\n",
    "        self.w += (self.v + self.a - self.b * self.w) / self.tau * dt\n",
    "        self.v += (self.v - self.v ** 3 / 3 - self.w + self.I) * dt\n",
    "        self.I[:] = 0."
   ],
   "outputs": [],
   "execution_count": 2
  },
  {
   "cell_type": "markdown",
   "metadata": {},
   "source": [
    "Here, we have defined a dynamical system called [FitzHugh–Nagumo neuron model](https://en.wikipedia.org/wiki/FitzHugh%E2%80%93Nagumo_model), whose dynamics is given by: \n",
    "\n",
    "$$\n",
    "{\\dot {v}}=v-{\\frac {v^{3}}{3}}-w+I, \\\\\n",
    "\\tau {\\dot {w}}=v+a-bw.\n",
    "$$\n",
    "\n",
    "By using the [Euler method](../apis/integrators/generated/brainpy.integrators.ode.explicit_rk.Euler.rst), this system can be updated by the following rule:\n",
    "\n",
    "$$\n",
    "\\begin{aligned}\n",
    "v(t+dt) &= v(t) + [v(t)-{v(t)^{3}/3}-w(t)+RI] * dt, \\\\\n",
    "w(t + dt) &= w(t) + [v(t) + a - b w(t)] * dt.\n",
    "\\end{aligned}\n",
    "$$"
   ]
  },
  {
   "cell_type": "markdown",
   "metadata": {},
   "source": "## Advantages of using `brainpy.DynamicalSystem`"
  },
  {
   "cell_type": "markdown",
   "metadata": {},
   "source": "There are several advantages of defining a dynamical system as `brainpy.DynamicalSystem`."
  },
  {
   "cell_type": "markdown",
   "metadata": {},
   "source": [
    "### 1. A systematic naming system. "
   ]
  },
  {
   "cell_type": "markdown",
   "metadata": {},
   "source": [
    "First, every instance of ``DynamicalSystem`` has its unique name."
   ]
  },
  {
   "cell_type": "code",
   "metadata": {
    "collapsed": false,
    "ExecuteTime": {
     "end_time": "2025-10-06T03:48:50.849489Z",
     "start_time": "2025-10-06T03:48:50.832862Z"
    }
   },
   "source": [
    "fhn = FitzHughNagumoModel()"
   ],
   "outputs": [],
   "execution_count": 3
  },
  {
   "cell_type": "code",
   "metadata": {
    "ExecuteTime": {
     "end_time": "2025-10-06T03:48:50.867518Z",
     "start_time": "2025-10-06T03:48:50.863719Z"
    }
   },
   "source": [
    "fhn.name  # name for \"fhn\" instance"
   ],
   "outputs": [
    {
     "data": {
      "text/plain": [
       "'FitzHughNagumoModel0'"
      ]
     },
     "execution_count": 4,
     "metadata": {},
     "output_type": "execute_result"
    }
   ],
   "execution_count": 4
  },
  {
   "cell_type": "markdown",
   "metadata": {},
   "source": [
    "Every instance has its unique name:"
   ]
  },
  {
   "cell_type": "code",
   "metadata": {
    "ExecuteTime": {
     "end_time": "2025-10-06T03:48:50.903476Z",
     "start_time": "2025-10-06T03:48:50.895433Z"
    }
   },
   "source": [
    "for _ in range(3):\n",
    "    print(FitzHughNagumoModel().name)"
   ],
   "outputs": [
    {
     "name": "stdout",
     "output_type": "stream",
     "text": [
      "FitzHughNagumoModel1\n",
      "FitzHughNagumoModel2\n",
      "FitzHughNagumoModel3\n"
     ]
    }
   ],
   "execution_count": 5
  },
  {
   "cell_type": "markdown",
   "metadata": {},
   "source": [
    "Users can also specify the name of a dynamic system:"
   ]
  },
  {
   "cell_type": "code",
   "metadata": {
    "ExecuteTime": {
     "end_time": "2025-10-06T03:48:50.923226Z",
     "start_time": "2025-10-06T03:48:50.918227Z"
    }
   },
   "source": [
    "fhn2 = FitzHughNagumoModel(name='X')\n",
    "\n",
    "fhn2.name"
   ],
   "outputs": [
    {
     "data": {
      "text/plain": [
       "'X'"
      ]
     },
     "execution_count": 6,
     "metadata": {},
     "output_type": "execute_result"
    }
   ],
   "execution_count": 6
  },
  {
   "cell_type": "code",
   "metadata": {
    "ExecuteTime": {
     "end_time": "2025-10-06T03:48:50.961017Z",
     "start_time": "2025-10-06T03:48:50.956304Z"
    }
   },
   "source": [
    "# same name will cause error\n",
    "\n",
    "try:\n",
    "    FitzHughNagumoModel(name='X')\n",
    "except bp.errors.UniqueNameError as e:\n",
    "    print(e)"
   ],
   "outputs": [
    {
     "name": "stdout",
     "output_type": "stream",
     "text": [
      "In BrainPy, each object should have a unique name. However, we detect that None(mode=NonBatchingMode) has a used name \"X\". \n",
      "If you try to run multiple trials, you may need \n",
      "\n",
      ">>> brainpy.math.clear_name_cache() \n",
      "\n",
      "to clear all cached names. \n"
     ]
    }
   ],
   "execution_count": 7
  },
  {
   "cell_type": "markdown",
   "metadata": {},
   "source": [
    "Second, variables, children nodes, etc. inside an instance can be easily accessed by their *absolute* or *relative* path. "
   ]
  },
  {
   "cell_type": "code",
   "metadata": {
    "ExecuteTime": {
     "end_time": "2025-10-06T03:48:50.991836Z",
     "start_time": "2025-10-06T03:48:50.986190Z"
    }
   },
   "source": [
    "# All variables can be acessed by \n",
    "# 1). the absolute path\n",
    "\n",
    "fhn2.vars()"
   ],
   "outputs": [
    {
     "data": {
      "text/plain": [
       "{'X.v': Variable(\n",
       "   value=[\n",
       "     ShapedArray(float32[], weak_type=True)\n",
       "   ],\n",
       "   _batch_axis=None,\n",
       "   axis_names=None\n",
       " ),\n",
       " 'X.w': Variable(\n",
       "   value=[\n",
       "     ShapedArray(float32[], weak_type=True)\n",
       "   ],\n",
       "   _batch_axis=None,\n",
       "   axis_names=None\n",
       " ),\n",
       " 'X.I': Variable(\n",
       "   value=[\n",
       "     ShapedArray(float32[], weak_type=True)\n",
       "   ],\n",
       "   _batch_axis=None,\n",
       "   axis_names=None\n",
       " )}"
      ]
     },
     "execution_count": 8,
     "metadata": {},
     "output_type": "execute_result"
    }
   ],
   "execution_count": 8
  },
  {
   "cell_type": "code",
   "metadata": {
    "scrolled": true,
    "ExecuteTime": {
     "end_time": "2025-10-06T03:48:51.040088Z",
     "start_time": "2025-10-06T03:48:51.034949Z"
    }
   },
   "source": [
    "# 2). or, the relative path\n",
    "\n",
    "fhn2.vars(method='relative')"
   ],
   "outputs": [
    {
     "data": {
      "text/plain": [
       "{'v': Variable(\n",
       "   value=[\n",
       "     ShapedArray(float32[], weak_type=True)\n",
       "   ],\n",
       "   _batch_axis=None,\n",
       "   axis_names=None\n",
       " ),\n",
       " 'w': Variable(\n",
       "   value=[\n",
       "     ShapedArray(float32[], weak_type=True)\n",
       "   ],\n",
       "   _batch_axis=None,\n",
       "   axis_names=None\n",
       " ),\n",
       " 'I': Variable(\n",
       "   value=[\n",
       "     ShapedArray(float32[], weak_type=True)\n",
       "   ],\n",
       "   _batch_axis=None,\n",
       "   axis_names=None\n",
       " )}"
      ]
     },
     "execution_count": 9,
     "metadata": {},
     "output_type": "execute_result"
    }
   ],
   "execution_count": 9
  },
  {
   "cell_type": "markdown",
   "metadata": {},
   "source": [
    "### 2. Convenient operations for simulation and analysis.\n",
    "Brainpy provides different runners for dynamics simulation and analyzers for dynamics analysis, both of which require the dynamic model to be `Brainpy.DynamicalSystem`. For example, dynamic models can be packed by a runner for simulation:"
   ]
  },
  {
   "cell_type": "code",
   "metadata": {
    "ExecuteTime": {
     "end_time": "2025-10-06T03:48:51.431966Z",
     "start_time": "2025-10-06T03:48:51.056286Z"
    }
   },
   "source": [
    "runner = bp.DSRunner(fhn2, monitors=['v', 'w'], inputs=('I', 1.5))\n",
    "runner(duration=100)\n",
    "\n",
    "bp.visualize.line_plot(runner.mon.ts, runner.mon.v, legend='v', show=False)\n",
    "bp.visualize.line_plot(runner.mon.ts, runner.mon.w, legend='w', show=True)"
   ],
   "outputs": [
    {
     "name": "stderr",
     "output_type": "stream",
     "text": [
      "D:\\codes\\projects\\BrainPy\\brainpy\\version2\\dynsys.py:325: UserWarning: \n",
      "From brainpy>=2.4.3, update() function no longer needs to receive a global shared argument.\n",
      "\n",
      "Instead of using:\n",
      "\n",
      "  def update(self, tdi, *args, **kwagrs):\n",
      "     t = tdi['t']\n",
      "     ...\n",
      "\n",
      "Please use:\n",
      "\n",
      "  def update(self, *args, **kwagrs):\n",
      "     t = bp.share['t']\n",
      "     ...\n",
      "\n",
      "  warnings.warn(_update_deprecate_msg, UserWarning)\n"
     ]
    },
    {
     "data": {
      "text/plain": [
       "  0%|          | 0/1000 [00:00<?, ?it/s]"
      ],
      "application/vnd.jupyter.widget-view+json": {
       "version_major": 2,
       "version_minor": 0,
       "model_id": "9ff86618d3844817952b656d5ee9b35a"
      }
     },
     "metadata": {},
     "output_type": "display_data",
     "jetTransient": {
      "display_id": null
     }
    },
    {
     "data": {
      "text/plain": [
       "<Figure size 640x480 with 1 Axes>"
      ],
      "image/png": "[encoded data removed]"
     },
     "metadata": {},
     "output_type": "display_data",
     "jetTransient": {
      "display_id": null
     }
    },
    {
     "data": {
      "text/plain": [
       "<module 'matplotlib.pyplot' from 'C:\\\\Users\\\\adadu\\\\miniconda3\\\\envs\\\\bdp\\\\Lib\\\\site-packages\\\\matplotlib\\\\pyplot.py'>"
      ]
     },
     "execution_count": 10,
     "metadata": {},
     "output_type": "execute_result"
    }
   ],
   "execution_count": 10
  },
  {
   "cell_type": "markdown",
   "metadata": {},
   "source": [
    "Please see [Runners](../tutorial_toolbox/runners.ipynb) to know more about the operations in runners."
   ]
  },
  {
   "cell_type": "markdown",
   "metadata": {},
   "source": [
    "### 3. Efficient computation.\n",
    "\n",
    "``brainpy.DynamicalSystem`` is a subclass of [brainpy.BrainPyObject](../apis/generated/brainpy.base.BrainPyObject.rst), and therefore, any instance of ``brainpy.DynamicalSystem`` can be complied [just-in-time](../tutorial_basics/jit_compilation.ipynb) into efficient machine codes targeting on CPUs, GPUs, and TPUs."
   ]
  },
  {
   "cell_type": "code",
   "metadata": {
    "scrolled": true,
    "ExecuteTime": {
     "end_time": "2025-10-06T03:48:51.603121Z",
     "start_time": "2025-10-06T03:48:51.440498Z"
    }
   },
   "source": [
    "runner = bp.DSRunner(fhn2, monitors=['v', 'w'], inputs=('I', 1.5), jit=True)\n",
    "runner(duration=100)\n",
    "\n",
    "bp.visualize.line_plot(runner.mon.ts, runner.mon.v, legend='v', show=False)\n",
    "bp.visualize.line_plot(runner.mon.ts, runner.mon.w, legend='w', show=True)"
   ],
   "outputs": [
    {
     "data": {
      "text/plain": [
       "  0%|          | 0/1000 [00:00<?, ?it/s]"
      ],
      "application/vnd.jupyter.widget-view+json": {
       "version_major": 2,
       "version_minor": 0,
       "model_id": "74da90927f0e4d1182215d5f630dea4d"
      }
     },
     "metadata": {},
     "output_type": "display_data",
     "jetTransient": {
      "display_id": null
     }
    },
    {
     "data": {
      "text/plain": [
       "<Figure size 640x480 with 1 Axes>"
      ],
      "image/png": "[encoded data removed]"
     },
     "metadata": {},
     "output_type": "display_data",
     "jetTransient": {
      "display_id": null
     }
    },
    {
     "data": {
      "text/plain": [
       "<module 'matplotlib.pyplot' from 'C:\\\\Users\\\\adadu\\\\miniconda3\\\\envs\\\\bdp\\\\Lib\\\\site-packages\\\\matplotlib\\\\pyplot.py'>"
      ]
     },
     "execution_count": 11,
     "metadata": {},
     "output_type": "execute_result"
    }
   ],
   "execution_count": 11
  },
  {
   "cell_type": "markdown",
   "metadata": {},
   "source": [
    "### 4. Support composable programming.\n",
    "Instances of ``brainpy.DynamicalSystem`` can be combined at will. The combined system is also a `brainpy.DynamicalSystem` and enjoys all the properties, methods, and interfaces provided by `brainpy.DynamicalSystem`."
   ]
  },
  {
   "cell_type": "markdown",
   "metadata": {},
   "source": "For example, if the instances are wrapped into a container, i.e. `brainpy.Network`, variables and nodes can also be accessed by their absolute or relative path."
  },
  {
   "cell_type": "code",
   "metadata": {
    "ExecuteTime": {
     "end_time": "2025-10-06T03:48:51.613346Z",
     "start_time": "2025-10-06T03:48:51.608252Z"
    }
   },
   "source": "fhn_net = bp.Network(f1=fhn, f2=fhn2)",
   "outputs": [],
   "execution_count": 12
  },
  {
   "cell_type": "code",
   "metadata": {
    "ExecuteTime": {
     "end_time": "2025-10-06T03:48:51.637408Z",
     "start_time": "2025-10-06T03:48:51.631226Z"
    }
   },
   "source": [
    "# absolute access of variables\n",
    "\n",
    "fhn_net.vars()"
   ],
   "outputs": [
    {
     "data": {
      "text/plain": [
       "{'FitzHughNagumoModel0.v': Variable(\n",
       "   value=[\n",
       "     ShapedArray(float32[], weak_type=True)\n",
       "   ],\n",
       "   _batch_axis=None,\n",
       "   axis_names=None\n",
       " ),\n",
       " 'FitzHughNagumoModel0.w': Variable(\n",
       "   value=[\n",
       "     ShapedArray(float32[], weak_type=True)\n",
       "   ],\n",
       "   _batch_axis=None,\n",
       "   axis_names=None\n",
       " ),\n",
       " 'FitzHughNagumoModel0.I': Variable(\n",
       "   value=[\n",
       "     ShapedArray(float32[], weak_type=True)\n",
       "   ],\n",
       "   _batch_axis=None,\n",
       "   axis_names=None\n",
       " ),\n",
       " 'X.v': Variable(\n",
       "   value=[\n",
       "     ShapedArray(float32[], weak_type=True)\n",
       "   ],\n",
       "   _batch_axis=None,\n",
       "   axis_names=None\n",
       " ),\n",
       " 'X.w': Variable(\n",
       "   value=[\n",
       "     ShapedArray(float32[], weak_type=True)\n",
       "   ],\n",
       "   _batch_axis=None,\n",
       "   axis_names=None\n",
       " ),\n",
       " 'X.I': Variable(\n",
       "   value=[\n",
       "     ShapedArray(float32[], weak_type=True)\n",
       "   ],\n",
       "   _batch_axis=None,\n",
       "   axis_names=None\n",
       " )}"
      ]
     },
     "execution_count": 13,
     "metadata": {},
     "output_type": "execute_result"
    }
   ],
   "execution_count": 13
  },
  {
   "cell_type": "code",
   "metadata": {
    "ExecuteTime": {
     "end_time": "2025-10-06T03:48:51.658951Z",
     "start_time": "2025-10-06T03:48:51.653756Z"
    }
   },
   "source": [
    "# relative access of variables\n",
    "\n",
    "fhn_net.vars(method='relative')"
   ],
   "outputs": [
    {
     "data": {
      "text/plain": [
       "{'children.f1.v': Variable(\n",
       "   value=[\n",
       "     ShapedArray(float32[], weak_type=True)\n",
       "   ],\n",
       "   _batch_axis=None,\n",
       "   axis_names=None\n",
       " ),\n",
       " 'children.f1.w': Variable(\n",
       "   value=[\n",
       "     ShapedArray(float32[], weak_type=True)\n",
       "   ],\n",
       "   _batch_axis=None,\n",
       "   axis_names=None\n",
       " ),\n",
       " 'children.f1.I': Variable(\n",
       "   value=[\n",
       "     ShapedArray(float32[], weak_type=True)\n",
       "   ],\n",
       "   _batch_axis=None,\n",
       "   axis_names=None\n",
       " ),\n",
       " 'children.f2.v': Variable(\n",
       "   value=[\n",
       "     ShapedArray(float32[], weak_type=True)\n",
       "   ],\n",
       "   _batch_axis=None,\n",
       "   axis_names=None\n",
       " ),\n",
       " 'children.f2.w': Variable(\n",
       "   value=[\n",
       "     ShapedArray(float32[], weak_type=True)\n",
       "   ],\n",
       "   _batch_axis=None,\n",
       "   axis_names=None\n",
       " ),\n",
       " 'children.f2.I': Variable(\n",
       "   value=[\n",
       "     ShapedArray(float32[], weak_type=True)\n",
       "   ],\n",
       "   _batch_axis=None,\n",
       "   axis_names=None\n",
       " )}"
      ]
     },
     "execution_count": 14,
     "metadata": {},
     "output_type": "execute_result"
    }
   ],
   "execution_count": 14
  },
  {
   "cell_type": "code",
   "metadata": {
    "ExecuteTime": {
     "end_time": "2025-10-06T03:48:51.680761Z",
     "start_time": "2025-10-06T03:48:51.676005Z"
    }
   },
   "source": [
    "# absolute access of nodes\n",
    "\n",
    "fhn_net.nodes()"
   ],
   "outputs": [
    {
     "data": {
      "text/plain": [
       "{'DynSysGroup0': DynSysGroup0(mode=NonBatchingMode),\n",
       " 'FitzHughNagumoModel0': FitzHughNagumoModel0(mode=NonBatchingMode),\n",
       " 'X': X(mode=NonBatchingMode)}"
      ]
     },
     "execution_count": 15,
     "metadata": {},
     "output_type": "execute_result"
    }
   ],
   "execution_count": 15
  },
  {
   "cell_type": "code",
   "metadata": {
    "scrolled": false,
    "ExecuteTime": {
     "end_time": "2025-10-06T03:48:51.703465Z",
     "start_time": "2025-10-06T03:48:51.699297Z"
    }
   },
   "source": [
    "# relative access of nodes\n",
    "\n",
    "fhn_net.nodes(method='relative')"
   ],
   "outputs": [
    {
     "data": {
      "text/plain": [
       "{'': DynSysGroup0(mode=NonBatchingMode),\n",
       " 'children.f1': FitzHughNagumoModel0(mode=NonBatchingMode),\n",
       " 'children.f2': X(mode=NonBatchingMode)}"
      ]
     },
     "execution_count": 16,
     "metadata": {},
     "output_type": "execute_result"
    }
   ],
   "execution_count": 16
  },
  {
   "cell_type": "code",
   "metadata": {
    "scrolled": true,
    "ExecuteTime": {
     "end_time": "2025-10-06T03:49:26.199246Z",
     "start_time": "2025-10-06T03:49:26.024111Z"
    }
   },
   "source": [
    "runner = bp.DSRunner(fhn_net,\n",
    "                         monitors=['f1.v', 'f2.v'],\n",
    "                         inputs=[('f1.I', 1.5),   # relative access to variable \"I\" in 'fhn1'\n",
    "                                 ('f2.I', 1.0),])  # absolute access to variable \"I\" in 'fhn2'\n",
    "runner(duration=100)\n",
    "\n",
    "bp.visualize.line_plot(runner.mon.ts, runner.mon['f1.v'], legend='fhn1.v', show=False)\n",
    "bp.visualize.line_plot(runner.mon.ts, runner.mon['f2.v'], legend='fhn2.v', show=True)"
   ],
   "outputs": [
    {
     "name": "stderr",
     "output_type": "stream",
     "text": [
      "D:\\codes\\projects\\BrainPy\\brainpy\\version2\\dynsys.py:325: UserWarning: \n",
      "From brainpy>=2.4.3, update() function no longer needs to receive a global shared argument.\n",
      "\n",
      "Instead of using:\n",
      "\n",
      "  def update(self, tdi, *args, **kwagrs):\n",
      "     t = tdi['t']\n",
      "     ...\n",
      "\n",
      "Please use:\n",
      "\n",
      "  def update(self, *args, **kwagrs):\n",
      "     t = bp.share['t']\n",
      "     ...\n",
      "\n",
      "  warnings.warn(_update_deprecate_msg, UserWarning)\n"
     ]
    },
    {
     "data": {
      "text/plain": [
       "  0%|          | 0/1000 [00:00<?, ?it/s]"
      ],
      "application/vnd.jupyter.widget-view+json": {
       "version_major": 2,
       "version_minor": 0,
       "model_id": "23cfc8954691495090ac9cf73f4addfc"
      }
     },
     "metadata": {},
     "output_type": "display_data",
     "jetTransient": {
      "display_id": null
     }
    },
    {
     "data": {
      "text/plain": [
       "<Figure size 640x480 with 1 Axes>"
      ],
      "image/png": "[encoded data removed]"
     },
     "metadata": {},
     "output_type": "display_data",
     "jetTransient": {
      "display_id": null
     }
    },
    {
     "data": {
      "text/plain": [
       "<module 'matplotlib.pyplot' from 'C:\\\\Users\\\\adadu\\\\miniconda3\\\\envs\\\\bdp\\\\Lib\\\\site-packages\\\\matplotlib\\\\pyplot.py'>"
      ]
     },
     "execution_count": 18,
     "metadata": {},
     "output_type": "execute_result"
    }
   ],
   "execution_count": 18
  },
  {
   "metadata": {},
   "cell_type": "code",
   "outputs": [],
   "execution_count": null,
   "source": ""
  }
 ],
 "metadata": {
  "hide_input": false,
  "jupytext": {
   "encoding": "# -*- coding: utf-8 -*-"
  },
  "kernelspec": {
   "display_name": "Python 3 (ipykernel)",
   "language": "python",
   "name": "python3"
  },
  "language_info": {
   "codemirror_mode": {
    "name": "ipython",
    "version": 3
   },
   "file_extension": ".py",
   "mimetype": "text/x-python",
   "name": "python",
   "nbconvert_exporter": "python",
   "pygments_lexer": "ipython3",
   "version": "3.9.7"
  },
  "latex_envs": {
   "LaTeX_envs_menu_present": true,
   "autoclose": false,
   "autocomplete": true,
   "bibliofile": "biblio.bib",
   "cite_by": "apalike",
   "current_citInitial": 1,
   "eqLabelWithNumbers": true,
   "eqNumInitial": 1,
   "hotkeys": {
    "equation": "Ctrl-E",
    "itemize": "Ctrl-I"
   },
   "labels_anchors": false,
   "latex_user_defs": false,
   "report_style_numbering": false,
   "user_envs_cfg": false
  },
  "toc": {
   "base_numbering": 1,
   "nav_menu": {
    "height": "411px",
    "width": "316px"
   },
   "number_sections": false,
   "sideBar": true,
   "skip_h1_title": false,
   "title_cell": "Table of Contents",
   "title_sidebar": "Contents",
   "toc_cell": false,
   "toc_position": {
    "height": "calc(100% - 180px)",
    "left": "10px",
    "top": "150px",
    "width": "243.068px"
   },
   "toc_section_display": true,
   "toc_window_display": true
  },
  "varInspector": {
   "cols": {
    "lenName": 16,
    "lenType": 16,
    "lenVar": 40
   },
   "kernels_config": {
    "python": {
     "delete_cmd_postfix": "",
     "delete_cmd_prefix": "del ",
     "library": "var_list.py",
     "varRefreshCmd": "print(var_dic_list())"
    },
    "r": {
     "delete_cmd_postfix": ") ",
     "delete_cmd_prefix": "rm(",
     "library": "var_list.r",
     "varRefreshCmd": "cat(var_dic_list()) "
    }
   },
   "types_to_exclude": [
    "module",
    "function",
    "builtin_function_or_method",
    "instance",
    "_Feature"
   ],
   "window_display": false
  }
 },
 "nbformat": 4,
 "nbformat_minor": 4
}
