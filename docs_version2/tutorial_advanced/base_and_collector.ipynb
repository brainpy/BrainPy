{
 "cells": [
  {
   "cell_type": "markdown",
   "id": "1aaab85c",
   "metadata": {},
   "source": [
    "# ``BrainPyObject`` and ``Collector``\n",
    "\n",
    "[![Colab](https://colab.research.google.com/assets/colab-badge.svg)](https://colab.research.google.com/github/brainpy/brainpy/blob/master/docs/tutorial_advanced/base_and_collector.ipynb)\n",
    "[![Open in Kaggle](https://kaggle.com/static/images/open-in-kaggle.svg)](https://kaggle.com/kernels/welcome?src=https://github.com/brainpy/brainpy/blob/master/docs/tutorial_advanced/base_and_collector.ipynb)"
   ]
  },
  {
   "cell_type": "markdown",
   "id": "17e64f22",
   "metadata": {},
   "source": [
    "@[Chaoming Wang](https://github.com/chaoming0625)\n",
    "@[Xiaoyu Chen](mailto:c-xy17@tsinghua.org.cn)"
   ]
  },
  {
   "cell_type": "markdown",
   "id": "b8c07b0c",
   "metadata": {},
   "source": [
    "In this section, we are going to talk about:\n",
    "\n",
    "- The ``BrainPyObject`` class for the BrainPy ecosystem\n",
    "- The ``Collector`` to facilitate variable collection and manipulation."
   ]
  },
  {
   "cell_type": "code",
   "execution_count": 1,
   "id": "1a9986eb",
   "metadata": {},
   "outputs": [],
   "source": [
    "import brainpy as bp\n",
    "import brainpy.math as bm\n",
    "\n",
    "# bm.set_platform('cpu')"
   ]
  },
  {
   "cell_type": "markdown",
   "id": "45babeb2",
   "metadata": {},
   "source": [
    "## `brainpy.BrainPyObject`"
   ]
  },
  {
   "cell_type": "markdown",
   "id": "fa23d77e",
   "metadata": {},
   "source": [
    "The foundation of BrainPy is [brainpy.BrainPyObject](../apis/auto/generated/brainpy.base.BrainPyObject.rst). A BrainPyObject instance is an object which has variables and methods. All methods in the BrainPyObject object can be [JIT compiled](./compilation.ipynb) or [automatically differentiated](./differentiation.ipynb). In other words, any **class objects** that will be JIT compiled or automatically differentiated must inherent from ``brainpy.BrainPyObject``. "
   ]
  },
  {
   "cell_type": "markdown",
   "id": "d9e372bc",
   "metadata": {},
   "source": [
    "A BrainPyObject object can have many variables, children BrainPyObject objects, integrators, and methods. Below is the implemention of a [FitzHugh-Nagumo neuron model](https://brainmodels.readthedocs.io/en/brainpy-2.x/apis/generated/brainmodels.neurons.FHN.html) as an example. "
   ]
  },
  {
   "cell_type": "code",
   "execution_count": 2,
   "id": "0c0b30c2",
   "metadata": {},
   "outputs": [],
   "source": [
    "class FHN(bp.BrainPyObject):\n",
    "  def __init__(self, num, a=0.7, b=0.8, tau=12.5, Vth=1.9, name=None):\n",
    "    super(FHN, self).__init__(name=name)\n",
    "\n",
    "    # parameters\n",
    "    self.num = num\n",
    "    self.a = a\n",
    "    self.b = b\n",
    "    self.tau = tau\n",
    "    self.Vth = Vth\n",
    "\n",
    "    # variables\n",
    "    self.V = bm.Variable(bm.zeros(num))\n",
    "    self.w = bm.Variable(bm.zeros(num))\n",
    "    self.spike = bm.Variable(bm.zeros(num, dtype=bool))\n",
    "\n",
    "    # integral\n",
    "    self.integral = bp.odeint(method='rk4', f=self.derivative)\n",
    "\n",
    "  def derivative(self, V, w, t, Iext):\n",
    "    dw = (V + self.a - self.b * w) / self.tau\n",
    "    dV = V - V * V * V / 3 - w + Iext\n",
    "    return dV, dw\n",
    "\n",
    "  def update(self, _t, _dt, x):\n",
    "    V, w = self.integral(self.V, self.w, _t, x)\n",
    "    self.spike[:] = bm.logical_and(V > self.Vth, self.V <= self.Vth)\n",
    "    self.w[:] = w\n",
    "    self.V[:] = V"
   ]
  },
  {
   "cell_type": "markdown",
   "id": "50e1d9f4",
   "metadata": {},
   "source": [
    "Note this model has three variables: ``self.V``, ``self.w``, and ``self.spike``. It also has an integrator ``self.integral``. "
   ]
  },
  {
   "cell_type": "markdown",
   "id": "530d0156",
   "metadata": {},
   "source": [
    "### The naming system"
   ]
  },
  {
   "cell_type": "markdown",
   "id": "de4f203d",
   "metadata": {},
   "source": [
    "Every BrainPyObject object has a unique name. Users can specify a unique name when you instantiate a BrainPyObject class. A used name will cause an error. "
   ]
  },
  {
   "cell_type": "code",
   "execution_count": 3,
   "id": "e3c3be92",
   "metadata": {},
   "outputs": [
    {
     "data": {
      "text/plain": [
       "'X'"
      ]
     },
     "execution_count": 3,
     "metadata": {},
     "output_type": "execute_result"
    }
   ],
   "source": [
    "FHN(10, name='X').name"
   ]
  },
  {
   "cell_type": "code",
   "execution_count": 4,
   "id": "0d60e778",
   "metadata": {},
   "outputs": [
    {
     "data": {
      "text/plain": [
       "'Y'"
      ]
     },
     "execution_count": 4,
     "metadata": {},
     "output_type": "execute_result"
    }
   ],
   "source": [
    "FHN(10, name='Y').name"
   ]
  },
  {
   "cell_type": "code",
   "execution_count": 5,
   "id": "3444aa16",
   "metadata": {},
   "outputs": [
    {
     "name": "stdout",
     "output_type": "stream",
     "text": [
      "UniqueNameError : In BrainPy, each object should have a unique name. However, we detect that <__main__.FHN object at 0x0000013BEA0DDF10> has a used name \"Y\". \n",
      "If you try to run multiple trials, you may need \n",
      "\n",
      ">>> brainpy.base.clear_name_cache() \n",
      "\n",
      "to clear all cached names. \n"
     ]
    }
   ],
   "source": [
    "try:\n",
    "    FHN(10, name='Y').name\n",
    "except Exception as e:\n",
    "    print(type(e).__name__, ':', e)"
   ]
  },
  {
   "cell_type": "markdown",
   "id": "af29b018",
   "metadata": {},
   "source": [
    "If a name is not specified to the BrainPyObject oject, BrainPy will assign a name for this object automatically. The rule for generating object name is ``class_name +  number_of_instances``. For example, ``FHN0``, ``FHN1``, etc."
   ]
  },
  {
   "cell_type": "code",
   "execution_count": 6,
   "id": "9a4db12e",
   "metadata": {},
   "outputs": [
    {
     "data": {
      "text/plain": [
       "'FHN0'"
      ]
     },
     "execution_count": 6,
     "metadata": {},
     "output_type": "execute_result"
    }
   ],
   "source": [
    "FHN(10).name"
   ]
  },
  {
   "cell_type": "code",
   "execution_count": 7,
   "id": "293c2a6e",
   "metadata": {},
   "outputs": [
    {
     "data": {
      "text/plain": [
       "'FHN1'"
      ]
     },
     "execution_count": 7,
     "metadata": {},
     "output_type": "execute_result"
    }
   ],
   "source": [
    "FHN(10).name"
   ]
  },
  {
   "cell_type": "markdown",
   "id": "05ec44a4",
   "metadata": {},
   "source": [
    "Therefore, in BrainPy, you can access any object by its unique name, no matter how insignificant this object is."
   ]
  },
  {
   "cell_type": "markdown",
   "id": "001de0c7",
   "metadata": {},
   "source": [
    "### Collection functions"
   ]
  },
  {
   "cell_type": "markdown",
   "id": "f64009e3",
   "metadata": {},
   "source": [
    "Three important collection functions are implemented for each BrainPyObject object. Specifically, they are:\n",
    "\n",
    "- ``nodes()``: to collect all instances of BrainPyObject objects, including children nodes in a node.\n",
    "- ``vars()``: to collect all variables defined in the BrainPyObject node and in its children nodes."
   ]
  },
  {
   "cell_type": "code",
   "execution_count": 8,
   "id": "a21f85f5",
   "metadata": {},
   "outputs": [],
   "source": [
    "fhn = FHN(10)"
   ]
  },
  {
   "cell_type": "markdown",
   "id": "923cb0fc",
   "metadata": {},
   "source": [
    "All variables in a BrainPyObject object can be collected through ``BrainPyObject.vars()``. The returned container is a [ArrayCollector](../apis/auto/generated/brainpy.base.ArrayCollector.rst) (a subclass of ``Collector``)."
   ]
  },
  {
   "cell_type": "code",
   "execution_count": 9,
   "id": "bc97484a",
   "metadata": {},
   "outputs": [
    {
     "data": {
      "text/plain": [
       "{'FHN2.V': Variable([0., 0., 0., 0., 0., 0., 0., 0., 0., 0.], dtype=float32),\n",
       " 'FHN2.spike': Variable([False, False, False, False, False, False, False, False, False,\n",
       "           False], dtype=bool),\n",
       " 'FHN2.w': Variable([0., 0., 0., 0., 0., 0., 0., 0., 0., 0.], dtype=float32)}"
      ]
     },
     "execution_count": 9,
     "metadata": {},
     "output_type": "execute_result"
    }
   ],
   "source": [
    "vars = fhn.vars()\n",
    "\n",
    "vars"
   ]
  },
  {
   "cell_type": "code",
   "execution_count": 10,
   "id": "4996b36f",
   "metadata": {},
   "outputs": [
    {
     "data": {
      "text/plain": [
       "brainpy.base.collector.ArrayCollector"
      ]
     },
     "execution_count": 10,
     "metadata": {},
     "output_type": "execute_result"
    }
   ],
   "source": [
    "type(vars)"
   ]
  },
  {
   "cell_type": "markdown",
   "id": "e8dd1dbb",
   "metadata": {},
   "source": [
    "All nodes in the model can also be collected through one method ``BrainPyObject.nodes()``. The result container is an instance of [Collector](../apis/auto/generated/brainpy.base.Collector.rst)."
   ]
  },
  {
   "cell_type": "code",
   "execution_count": 11,
   "id": "5a687cbf",
   "metadata": {},
   "outputs": [
    {
     "data": {
      "text/plain": [
       "{'FHN2': <__main__.FHN at 0x13bea0ddb20>,\n",
       " 'RK44': <brainpy.integrators.ode.explicit_rk.RK4 at 0x13bea1200a0>}"
      ]
     },
     "execution_count": 11,
     "metadata": {},
     "output_type": "execute_result"
    }
   ],
   "source": [
    "nodes = fhn.nodes()\n",
    "\n",
    "nodes  # note: integrator is also a node"
   ]
  },
  {
   "cell_type": "code",
   "execution_count": 12,
   "id": "e43569c6",
   "metadata": {},
   "outputs": [
    {
     "data": {
      "text/plain": [
       "brainpy.base.collector.Collector"
      ]
     },
     "execution_count": 12,
     "metadata": {},
     "output_type": "execute_result"
    }
   ],
   "source": [
    "type(nodes)"
   ]
  },
  {
   "cell_type": "markdown",
   "id": "7891c4e0",
   "metadata": {},
   "source": [
    "All integrators can be collected by:"
   ]
  },
  {
   "cell_type": "code",
   "execution_count": 13,
   "id": "7f6ecf69",
   "metadata": {},
   "outputs": [
    {
     "data": {
      "text/plain": [
       "{'RK44': <brainpy.integrators.ode.explicit_rk.RK4 at 0x13bea1200a0>}"
      ]
     },
     "execution_count": 13,
     "metadata": {},
     "output_type": "execute_result"
    }
   ],
   "source": [
    "ints = fhn.nodes().subset(bp.integrators.Integrator)\n",
    "\n",
    "ints"
   ]
  },
  {
   "cell_type": "code",
   "execution_count": 14,
   "id": "d489949b",
   "metadata": {},
   "outputs": [
    {
     "data": {
      "text/plain": [
       "brainpy.base.collector.Collector"
      ]
     },
     "execution_count": 14,
     "metadata": {},
     "output_type": "execute_result"
    }
   ],
   "source": [
    "type(ints)"
   ]
  },
  {
   "cell_type": "markdown",
   "id": "49eca479",
   "metadata": {},
   "source": [
    "Now, let's make a more complicated model by using the previously defined model ``FHN``. "
   ]
  },
  {
   "cell_type": "code",
   "execution_count": 15,
   "id": "e636baa0",
   "metadata": {},
   "outputs": [],
   "source": [
    "class FeedForwardCircuit(bp.BrainPyObject):\n",
    "    def __init__(self, num1, num2, w=0.1, a=0.7, b=0.8, tau=12.5, Vth=1.9, name=None):\n",
    "        super(FeedForwardCircuit, self).__init__(name=name)\n",
    "        \n",
    "        self.pre = FHN(num1, a=a, b=b, tau=tau, Vth=Vth)\n",
    "        self.post = FHN(num2, a=a, b=b, tau=tau, Vth=Vth)\n",
    "        \n",
    "        self.conn = bm.ones((num1, num2), dtype=bool) * w\n",
    "        bm.fill_diagonal(self.conn, 0.)\n",
    "\n",
    "    def update(self, _t, _dt, x):\n",
    "        self.pre.update(_t, _dt, x)\n",
    "        x2 = self.pre.spike @ self.conn\n",
    "        self.post.update(_t, _dt, x2)"
   ]
  },
  {
   "cell_type": "markdown",
   "id": "2a0e9bcc",
   "metadata": {},
   "source": [
    "This model ``FeedForwardCircuit`` defines two layers. Each layer is modeled as a FitzHugh-Nagumo model (``FHN``). The first layer is densely connected to the second layer. The input to the second layer is the product of the first layer's spike and the connection strength ``w``. "
   ]
  },
  {
   "cell_type": "code",
   "execution_count": 16,
   "id": "6aafd6c0",
   "metadata": {},
   "outputs": [],
   "source": [
    "net = FeedForwardCircuit(8, 5)"
   ]
  },
  {
   "cell_type": "markdown",
   "id": "54808da9",
   "metadata": {},
   "source": [
    "We can retrieve all variables by ``.vars()``:"
   ]
  },
  {
   "cell_type": "code",
   "execution_count": 17,
   "id": "c2f7692a",
   "metadata": {},
   "outputs": [
    {
     "data": {
      "text/plain": [
       "{'FHN3.V': Variable([0., 0., 0., 0., 0., 0., 0., 0.], dtype=float32),\n",
       " 'FHN3.spike': Variable([False, False, False, False, False, False, False, False], dtype=bool),\n",
       " 'FHN3.w': Variable([0., 0., 0., 0., 0., 0., 0., 0.], dtype=float32),\n",
       " 'FHN4.V': Variable([0., 0., 0., 0., 0.], dtype=float32),\n",
       " 'FHN4.spike': Variable([False, False, False, False, False], dtype=bool),\n",
       " 'FHN4.w': Variable([0., 0., 0., 0., 0.], dtype=float32)}"
      ]
     },
     "execution_count": 17,
     "metadata": {},
     "output_type": "execute_result"
    }
   ],
   "source": [
    "net.vars()"
   ]
  },
  {
   "cell_type": "markdown",
   "id": "4c9eec24",
   "metadata": {},
   "source": [
    "And retrieve all nodes (instances of the BrainPyObject class) by ``.nodes()``:"
   ]
  },
  {
   "cell_type": "code",
   "execution_count": 18,
   "id": "bd98a238",
   "metadata": {},
   "outputs": [
    {
     "data": {
      "text/plain": [
       "{'FeedForwardCircuit0': <__main__.FeedForwardCircuit at 0x13bea120dc0>,\n",
       " 'FHN3': <__main__.FHN at 0x13bea139eb0>,\n",
       " 'FHN4': <__main__.FHN at 0x13bea120430>,\n",
       " 'RK45': <brainpy.integrators.ode.explicit_rk.RK4 at 0x13bea139a00>,\n",
       " 'RK46': <brainpy.integrators.ode.explicit_rk.RK4 at 0x13bea13bcd0>}"
      ]
     },
     "execution_count": 18,
     "metadata": {},
     "output_type": "execute_result"
    }
   ],
   "source": [
    "net.nodes()"
   ]
  },
  {
   "cell_type": "markdown",
   "id": "8d859dca",
   "metadata": {},
   "source": [
    "If we only care about a subtype of class, we can retrieve them through:"
   ]
  },
  {
   "cell_type": "code",
   "execution_count": 19,
   "id": "89dc3aeb",
   "metadata": {},
   "outputs": [
    {
     "data": {
      "text/plain": [
       "{'RK45': <brainpy.integrators.ode.explicit_rk.RK4 at 0x13bea139a00>,\n",
       " 'RK46': <brainpy.integrators.ode.explicit_rk.RK4 at 0x13bea13bcd0>}"
      ]
     },
     "execution_count": 19,
     "metadata": {},
     "output_type": "execute_result"
    }
   ],
   "source": [
    "net.nodes().subset(bp.ode.ODEIntegrator)"
   ]
  },
  {
   "cell_type": "markdown",
   "id": "32906d25",
   "metadata": {},
   "source": [
    "#### Absolute paths\n",
    "\n",
    "It's worthy to note that there are two ways to access variables, integrators, and nodes. They are \"absolute\" paths and \"relative\" paths. The default way is the absolute path. "
   ]
  },
  {
   "cell_type": "markdown",
   "id": "1abda9ea",
   "metadata": {},
   "source": [
    "For absolute paths, all keys in the resulting Collector (``BrainPyObject.nodes()``) has the format of ``key = node_name [+ field_name]``. "
   ]
  },
  {
   "cell_type": "markdown",
   "id": "8ce8ea30",
   "metadata": {},
   "source": [
    "**.nodes() example 1**: In the above ``fhn`` instance, there are two nodes: \"fnh\" and its integrator \"fhn.integral\"."
   ]
  },
  {
   "cell_type": "code",
   "execution_count": 20,
   "id": "1b947d76",
   "metadata": {},
   "outputs": [
    {
     "data": {
      "text/plain": [
       "('RK44', 'FHN2')"
      ]
     },
     "execution_count": 20,
     "metadata": {},
     "output_type": "execute_result"
    }
   ],
   "source": [
    "fhn.integral.name, fhn.name"
   ]
  },
  {
   "cell_type": "markdown",
   "id": "434edabf",
   "metadata": {},
   "source": [
    "Calling ``.nodes()`` returns their names and models. "
   ]
  },
  {
   "cell_type": "code",
   "execution_count": 21,
   "id": "05faecf5",
   "metadata": {},
   "outputs": [
    {
     "data": {
      "text/plain": [
       "dict_keys(['FHN2', 'RK44'])"
      ]
     },
     "execution_count": 21,
     "metadata": {},
     "output_type": "execute_result"
    }
   ],
   "source": [
    "fhn.nodes().keys()"
   ]
  },
  {
   "cell_type": "markdown",
   "id": "cc3fb400",
   "metadata": {},
   "source": [
    "**.nodes() example 2**: In the above ``net`` instance, there are five nodes:"
   ]
  },
  {
   "cell_type": "code",
   "execution_count": 22,
   "id": "bc3b0041",
   "metadata": {},
   "outputs": [
    {
     "data": {
      "text/plain": [
       "('FHN3', 'FHN4', 'RK45', 'RK46', 'FeedForwardCircuit0')"
      ]
     },
     "execution_count": 22,
     "metadata": {},
     "output_type": "execute_result"
    }
   ],
   "source": [
    "net.pre.name, net.post.name, net.pre.integral.name, net.post.integral.name, net.name"
   ]
  },
  {
   "cell_type": "markdown",
   "id": "37e3835d",
   "metadata": {},
   "source": [
    "Calling ``.nodes()`` also returns the names and instances of all models. "
   ]
  },
  {
   "cell_type": "code",
   "execution_count": 23,
   "id": "a6757d5e",
   "metadata": {},
   "outputs": [
    {
     "data": {
      "text/plain": [
       "dict_keys(['FeedForwardCircuit0', 'FHN3', 'FHN4', 'RK45', 'RK46'])"
      ]
     },
     "execution_count": 23,
     "metadata": {},
     "output_type": "execute_result"
    }
   ],
   "source": [
    "net.nodes().keys()"
   ]
  },
  {
   "cell_type": "markdown",
   "id": "fe07b062",
   "metadata": {},
   "source": [
    "**.vars() example 1**: In the above ``fhn`` instance, there are three variables: \"V\", \"w\" and \"input\". Calling ``.vars()`` returns a dict of `<node_name + var_name, var_value>`. "
   ]
  },
  {
   "cell_type": "code",
   "execution_count": 24,
   "id": "e7b0014e",
   "metadata": {},
   "outputs": [
    {
     "data": {
      "text/plain": [
       "{'FHN2.V': Variable([0., 0., 0., 0., 0., 0., 0., 0., 0., 0.], dtype=float32),\n",
       " 'FHN2.spike': Variable([False, False, False, False, False, False, False, False, False,\n",
       "           False], dtype=bool),\n",
       " 'FHN2.w': Variable([0., 0., 0., 0., 0., 0., 0., 0., 0., 0.], dtype=float32)}"
      ]
     },
     "execution_count": 24,
     "metadata": {},
     "output_type": "execute_result"
    }
   ],
   "source": [
    "fhn.vars()"
   ]
  },
  {
   "cell_type": "markdown",
   "id": "146bf744",
   "metadata": {},
   "source": [
    "**.vars() example 2**: This also applies in the ``net`` instance:"
   ]
  },
  {
   "cell_type": "code",
   "execution_count": 25,
   "id": "1696e602",
   "metadata": {},
   "outputs": [
    {
     "data": {
      "text/plain": [
       "{'FHN3.V': Variable([0., 0., 0., 0., 0., 0., 0., 0.], dtype=float32),\n",
       " 'FHN3.spike': Variable([False, False, False, False, False, False, False, False], dtype=bool),\n",
       " 'FHN3.w': Variable([0., 0., 0., 0., 0., 0., 0., 0.], dtype=float32),\n",
       " 'FHN4.V': Variable([0., 0., 0., 0., 0.], dtype=float32),\n",
       " 'FHN4.spike': Variable([False, False, False, False, False], dtype=bool),\n",
       " 'FHN4.w': Variable([0., 0., 0., 0., 0.], dtype=float32)}"
      ]
     },
     "execution_count": 25,
     "metadata": {},
     "output_type": "execute_result"
    }
   ],
   "source": [
    "net.vars()"
   ]
  },
  {
   "cell_type": "markdown",
   "id": "8381a0b0",
   "metadata": {},
   "source": [
    "#### Relative paths"
   ]
  },
  {
   "cell_type": "markdown",
   "id": "79dbb038",
   "metadata": {},
   "source": [
    "Variables, integrators, and nodes can also be accessed by relative paths. For example, the ``pre`` instance in the ``net`` can be accessed by"
   ]
  },
  {
   "cell_type": "code",
   "execution_count": 26,
   "id": "8d921a96",
   "metadata": {},
   "outputs": [
    {
     "data": {
      "text/plain": [
       "<__main__.FHN at 0x13bea139eb0>"
      ]
     },
     "execution_count": 26,
     "metadata": {},
     "output_type": "execute_result"
    }
   ],
   "source": [
    "net.pre"
   ]
  },
  {
   "cell_type": "markdown",
   "id": "c041cd24",
   "metadata": {},
   "source": [
    "Relative paths preserve the dependence relationship. For example, all nodes retrieved from the perspective of ``net`` are:"
   ]
  },
  {
   "cell_type": "code",
   "execution_count": 27,
   "id": "c8c1cb0e",
   "metadata": {},
   "outputs": [
    {
     "data": {
      "text/plain": [
       "{'': <__main__.FeedForwardCircuit at 0x13bea120dc0>,\n",
       " 'pre': <__main__.FHN at 0x13bea139eb0>,\n",
       " 'post': <__main__.FHN at 0x13bea120430>,\n",
       " 'pre.integral': <brainpy.integrators.ode.explicit_rk.RK4 at 0x13bea139a00>,\n",
       " 'post.integral': <brainpy.integrators.ode.explicit_rk.RK4 at 0x13bea13bcd0>}"
      ]
     },
     "execution_count": 27,
     "metadata": {},
     "output_type": "execute_result"
    }
   ],
   "source": [
    "net.nodes(method='relative')"
   ]
  },
  {
   "cell_type": "markdown",
   "id": "60fd0239",
   "metadata": {},
   "source": [
    "However, nodes retrieved from the start point of ``net.pre`` will be:"
   ]
  },
  {
   "cell_type": "code",
   "execution_count": 28,
   "id": "ac50b5b5",
   "metadata": {},
   "outputs": [
    {
     "data": {
      "text/plain": [
       "{'': <__main__.FHN at 0x13bea139eb0>,\n",
       " 'integral': <brainpy.integrators.ode.explicit_rk.RK4 at 0x13bea139a00>}"
      ]
     },
     "execution_count": 28,
     "metadata": {},
     "output_type": "execute_result"
    }
   ],
   "source": [
    "net.pre.nodes('relative')"
   ]
  },
  {
   "cell_type": "markdown",
   "id": "ca6b200f",
   "metadata": {},
   "source": [
    "Variables can also br relatively inferred from the model. For example, variables that can be relatively accessed from ``net`` include:"
   ]
  },
  {
   "cell_type": "code",
   "execution_count": 29,
   "id": "7ec908d2",
   "metadata": {},
   "outputs": [
    {
     "data": {
      "text/plain": [
       "{'pre.V': Variable([0., 0., 0., 0., 0., 0., 0., 0.], dtype=float32),\n",
       " 'pre.spike': Variable([False, False, False, False, False, False, False, False], dtype=bool),\n",
       " 'pre.w': Variable([0., 0., 0., 0., 0., 0., 0., 0.], dtype=float32),\n",
       " 'post.V': Variable([0., 0., 0., 0., 0.], dtype=float32),\n",
       " 'post.spike': Variable([False, False, False, False, False], dtype=bool),\n",
       " 'post.w': Variable([0., 0., 0., 0., 0.], dtype=float32)}"
      ]
     },
     "execution_count": 29,
     "metadata": {},
     "output_type": "execute_result"
    }
   ],
   "source": [
    "net.vars('relative')"
   ]
  },
  {
   "cell_type": "markdown",
   "id": "16fa7a2f",
   "metadata": {},
   "source": [
    "While variables relatively accessed from ``net.post`` are:"
   ]
  },
  {
   "cell_type": "code",
   "execution_count": 30,
   "id": "1f77f979",
   "metadata": {},
   "outputs": [
    {
     "data": {
      "text/plain": [
       "{'V': Variable([0., 0., 0., 0., 0.], dtype=float32),\n",
       " 'spike': Variable([False, False, False, False, False], dtype=bool),\n",
       " 'w': Variable([0., 0., 0., 0., 0.], dtype=float32)}"
      ]
     },
     "execution_count": 30,
     "metadata": {},
     "output_type": "execute_result"
    }
   ],
   "source": [
    "net.post.vars('relative')"
   ]
  },
  {
   "cell_type": "markdown",
   "id": "e63c7c80",
   "metadata": {},
   "source": [
    "####  Elements in containers"
   ]
  },
  {
   "cell_type": "markdown",
   "id": "f8aec9ca",
   "metadata": {},
   "source": [
    "One drawback of collection functions is that they don not look for elements in *list*, *dict* or any other container structure. "
   ]
  },
  {
   "cell_type": "code",
   "execution_count": 31,
   "id": "4544d9fe",
   "metadata": {},
   "outputs": [],
   "source": [
    "class ATest(bp.BrainPyObject):\n",
    "    def __init__(self):\n",
    "        super(ATest, self).__init__()\n",
    "        \n",
    "        self.all_vars = [bm.Variable(bm.zeros(5)), bm.Variable(bm.ones(6)),]\n",
    "        self.sub_nodes = {'a': FHN(10), 'b': FHN(5)}"
   ]
  },
  {
   "cell_type": "code",
   "execution_count": 32,
   "id": "b1199b05",
   "metadata": {},
   "outputs": [],
   "source": [
    "t1 = ATest()"
   ]
  },
  {
   "cell_type": "markdown",
   "id": "3d3bcbac",
   "metadata": {},
   "source": [
    "The above class defines a list of variables, and a dict of children nodes, but the variables and children nodes cannot be retrieved from the collection functions ``vars()`` and ``nodes()``. "
   ]
  },
  {
   "cell_type": "code",
   "execution_count": 33,
   "id": "c4efd7c6",
   "metadata": {},
   "outputs": [
    {
     "data": {
      "text/plain": [
       "{}"
      ]
     },
     "execution_count": 33,
     "metadata": {},
     "output_type": "execute_result"
    }
   ],
   "source": [
    "t1.vars()"
   ]
  },
  {
   "cell_type": "code",
   "execution_count": 34,
   "id": "df9fd51b",
   "metadata": {},
   "outputs": [
    {
     "data": {
      "text/plain": [
       "{'ATest0': <__main__.ATest at 0x13bea269d00>}"
      ]
     },
     "execution_count": 34,
     "metadata": {},
     "output_type": "execute_result"
    }
   ],
   "source": [
    "t1.nodes()"
   ]
  },
  {
   "cell_type": "markdown",
   "id": "23f81f1e",
   "metadata": {},
   "source": [
    "To solve this problem, BrianPy provides ``implicit_vars`` and ``implicit_nodes`` (an instance of \"dict\") to hold variables and nodes in container structures. Variables registered in ``implicit_vars`` and integrators and nodes registered in ``implicit_nodes`` can be retrieved by collection functions."
   ]
  },
  {
   "cell_type": "code",
   "execution_count": 35,
   "id": "767f2f74",
   "metadata": {},
   "outputs": [],
   "source": [
    "class AnotherTest(bp.BrainPyObject):\n",
    "    def __init__(self):\n",
    "        super(AnotherTest, self).__init__()\n",
    "        \n",
    "        self.all_vars = [bm.Variable(bm.zeros(5)), bm.Variable(bm.ones(6)),]\n",
    "        self.sub_nodes = {'a': FHN(10, name='T1'), 'b': FHN(5, name='T2')}\n",
    "        \n",
    "        self.register_implicit_vars({f'v{i}': v for i, v in enumerate(self.all_vars)})  # the input must be a dict\n",
    "        self.register_implicit_nodes({k: v for k, v in self.sub_nodes.items()})  # the input must be a dict"
   ]
  },
  {
   "cell_type": "code",
   "execution_count": 36,
   "id": "e5fc3ec0",
   "metadata": {},
   "outputs": [],
   "source": [
    "t2 = AnotherTest()"
   ]
  },
  {
   "cell_type": "code",
   "execution_count": 37,
   "id": "55ee8df8",
   "metadata": {},
   "outputs": [
    {
     "data": {
      "text/plain": [
       "{'AnotherTest0': <__main__.AnotherTest at 0x13bea271670>,\n",
       " 'T1': <__main__.FHN at 0x13bea271b80>,\n",
       " 'T2': <__main__.FHN at 0x13bea249b80>,\n",
       " 'RK49': <brainpy.integrators.ode.explicit_rk.RK4 at 0x13bea271be0>,\n",
       " 'RK410': <brainpy.integrators.ode.explicit_rk.RK4 at 0x13bea25d700>}"
      ]
     },
     "execution_count": 37,
     "metadata": {},
     "output_type": "execute_result"
    }
   ],
   "source": [
    "# This model has two \"FHN\" instances, each \"FHN\" instance has one integrator. \n",
    "# Therefore, there are five BrainPyObject objects. \n",
    "\n",
    "t2.nodes()"
   ]
  },
  {
   "cell_type": "code",
   "execution_count": 38,
   "id": "3740e867",
   "metadata": {},
   "outputs": [
    {
     "data": {
      "text/plain": [
       "{'AnotherTest0.v0': Variable([0., 0., 0., 0., 0.], dtype=float32),\n",
       " 'AnotherTest0.v1': Variable([1., 1., 1., 1., 1., 1.], dtype=float32),\n",
       " 'T1.V': Variable([0., 0., 0., 0., 0., 0., 0., 0., 0., 0.], dtype=float32),\n",
       " 'T1.spike': Variable([False, False, False, False, False, False, False, False, False,\n",
       "           False], dtype=bool),\n",
       " 'T1.w': Variable([0., 0., 0., 0., 0., 0., 0., 0., 0., 0.], dtype=float32),\n",
       " 'T2.V': Variable([0., 0., 0., 0., 0.], dtype=float32),\n",
       " 'T2.spike': Variable([False, False, False, False, False], dtype=bool),\n",
       " 'T2.w': Variable([0., 0., 0., 0., 0.], dtype=float32)}"
      ]
     },
     "execution_count": 38,
     "metadata": {},
     "output_type": "execute_result"
    }
   ],
   "source": [
    "# This model has two FHN node, each of which has three variables.\n",
    "# Moreover, this model has two implicit variables.\n",
    "\n",
    "t2.vars()"
   ]
  },
  {
   "cell_type": "markdown",
   "id": "2d0cdd12",
   "metadata": {},
   "source": [
    "### Saving and loading"
   ]
  },
  {
   "cell_type": "markdown",
   "id": "4b9da3ea",
   "metadata": {},
   "source": [
    "Because ``BrainPyObject.vars()`` returns a Python dictionary object [Collector](#Collector), they can be easily saved, updated, altered, and restored, adding a great deal of modularity to BrainPy models. Therefore, each BrainPyObject object has standard exporting and loading methods (for more details, please see [Saving and Loading](../tutorial_simulation/save_and_load.ipynb)). Specifically, they are implemented by ``BrainPyObject.save_states()`` and ``BrainPyObject.load_states()``. "
   ]
  },
  {
   "cell_type": "markdown",
   "id": "662d9e97",
   "metadata": {},
   "source": [
    "#### Save"
   ]
  },
  {
   "cell_type": "markdown",
   "id": "a7ca0e22",
   "metadata": {},
   "source": [
    "```python\n",
    "BrainPyObject.save_states(PATH, [vars])\n",
    "```"
   ]
  },
  {
   "cell_type": "markdown",
   "id": "3638e370",
   "metadata": {},
   "source": [
    "Models exported from BrainPy support various Python standard file formats, including \n",
    "\n",
    "- HDF5: ``.h5``, ``.hdf5``\n",
    "- ``.npz`` (NumPy file format)\n",
    "- ``.pkl`` (Python's `pickle` utility)\n",
    "- ``.mat`` (Matlab file format)"
   ]
  },
  {
   "cell_type": "code",
   "execution_count": 39,
   "id": "9760ec40",
   "metadata": {},
   "outputs": [],
   "source": [
    "net.save_states('./data/net.h5')"
   ]
  },
  {
   "cell_type": "code",
   "execution_count": 40,
   "id": "ea8a9377",
   "metadata": {},
   "outputs": [],
   "source": [
    "net.save_states('./data/net.pkl')"
   ]
  },
  {
   "cell_type": "markdown",
   "id": "0d522213",
   "metadata": {},
   "source": [
    "#### Load"
   ]
  },
  {
   "cell_type": "markdown",
   "id": "5a0646bb",
   "metadata": {},
   "source": [
    "```python\n",
    "\n",
    "BrainPyObject.load_states(PATH)\n",
    "```"
   ]
  },
  {
   "cell_type": "code",
   "execution_count": 41,
   "id": "9674e20d",
   "metadata": {},
   "outputs": [],
   "source": [
    "net.load_states('./data/net.h5')"
   ]
  },
  {
   "cell_type": "code",
   "execution_count": 42,
   "id": "52d68885",
   "metadata": {},
   "outputs": [],
   "source": [
    "net.load_states('./data/net.pkl')"
   ]
  },
  {
   "cell_type": "markdown",
   "id": "d38d5954",
   "metadata": {},
   "source": [
    "## Collector"
   ]
  },
  {
   "cell_type": "markdown",
   "id": "886dab02",
   "metadata": {},
   "source": [
    "Collection functions return an ``brainpy.Collector`` that is a dictionary mapping names to elements. It has some useful methods. "
   ]
  },
  {
   "cell_type": "markdown",
   "id": "b61c9ced",
   "metadata": {},
   "source": [
    "### ``subset()``"
   ]
  },
  {
   "cell_type": "markdown",
   "id": "30d0ff65",
   "metadata": {},
   "source": [
    "``Collector.subset(cls)`` returns a part of elements whose type is the given ``cls``. For example, ``BrainPyObject.nodes()`` returns all instances of BrainPyObject class. If you are only interested in one type, like ``ODEIntegrator``, you can use:"
   ]
  },
  {
   "cell_type": "code",
   "execution_count": 43,
   "id": "8d3f0dea",
   "metadata": {},
   "outputs": [
    {
     "data": {
      "text/plain": [
       "{'RK45': <brainpy.integrators.ode.explicit_rk.RK4 at 0x13bea139a00>,\n",
       " 'RK46': <brainpy.integrators.ode.explicit_rk.RK4 at 0x13bea13bcd0>}"
      ]
     },
     "execution_count": 43,
     "metadata": {},
     "output_type": "execute_result"
    }
   ],
   "source": [
    "net.nodes().subset(bp.ode.ODEIntegrator)"
   ]
  },
  {
   "cell_type": "markdown",
   "id": "371f4933",
   "metadata": {},
   "source": [
    "Actually, ``Collector.subset(cls)`` travels all the elements in this collection, and find the element whose type matches the given ``cls``. "
   ]
  },
  {
   "cell_type": "markdown",
   "id": "a0e4226a",
   "metadata": {},
   "source": [
    "### ``unique()``"
   ]
  },
  {
   "cell_type": "markdown",
   "id": "a0d3e4e7",
   "metadata": {},
   "source": [
    "It is common in machine learning that weights are shared with several objects, or the same weight can be accessed by various dependence relationships. Collection functions of BrainPyObject usually return a collection in which the same value have multiple keys. The duplicate elements will not be automatically excluded. However, it is important not to apply operations such as gradient descent twice or more to the same elements. \n",
    "\n",
    "Therefore, the Collector provides ``Collector.unique()`` to handle this problem automatically. ``Collector.unique()`` returns a copy of collection in which all elements are unique. "
   ]
  },
  {
   "cell_type": "code",
   "execution_count": 44,
   "id": "73870138",
   "metadata": {},
   "outputs": [],
   "source": [
    "class ModelA(bp.BrainPyObject):\n",
    "    def __init__(self):\n",
    "        super(ModelA, self).__init__()\n",
    "        self.a = bm.Variable(bm.zeros(5))\n",
    "\n",
    "        \n",
    "class SharedA(bp.BrainPyObject):\n",
    "    def __init__(self, source):\n",
    "        super(SharedA, self).__init__()\n",
    "        self.source = source\n",
    "        self.a = source.a  # shared variable\n",
    "        \n",
    "        \n",
    "class Group(bp.BrainPyObject):\n",
    "    def __init__(self):\n",
    "        super(Group, self).__init__()\n",
    "        self.A = ModelA()\n",
    "        self.A_shared = SharedA(self.A)\n",
    "\n",
    "g = Group()"
   ]
  },
  {
   "cell_type": "code",
   "execution_count": 45,
   "id": "0b975732",
   "metadata": {},
   "outputs": [
    {
     "data": {
      "text/plain": [
       "{'A.a': Variable([0., 0., 0., 0., 0.], dtype=float32),\n",
       " 'A_shared.a': Variable([0., 0., 0., 0., 0.], dtype=float32),\n",
       " 'A_shared.source.a': Variable([0., 0., 0., 0., 0.], dtype=float32)}"
      ]
     },
     "execution_count": 45,
     "metadata": {},
     "output_type": "execute_result"
    }
   ],
   "source": [
    "g.vars('relative')  # save Variable can be accessed by three paths"
   ]
  },
  {
   "cell_type": "code",
   "execution_count": 46,
   "id": "fc55069f",
   "metadata": {},
   "outputs": [
    {
     "data": {
      "text/plain": [
       "{'A.a': Variable([0., 0., 0., 0., 0.], dtype=float32)}"
      ]
     },
     "execution_count": 46,
     "metadata": {},
     "output_type": "execute_result"
    }
   ],
   "source": [
    "g.vars('relative').unique()  # only return a unique path"
   ]
  },
  {
   "cell_type": "code",
   "execution_count": 47,
   "id": "898f898b",
   "metadata": {},
   "outputs": [
    {
     "data": {
      "text/plain": [
       "{'': <__main__.Group at 0x13bea5c6f40>,\n",
       " 'A': <__main__.ModelA at 0x13bea5c82e0>,\n",
       " 'A_shared': <__main__.SharedA at 0x13bea5c8550>,\n",
       " 'A_shared.source': <__main__.ModelA at 0x13bea5c82e0>}"
      ]
     },
     "execution_count": 47,
     "metadata": {},
     "output_type": "execute_result"
    }
   ],
   "source": [
    "g.nodes('relative')  # \"ModelA\" is accessed twice"
   ]
  },
  {
   "cell_type": "code",
   "execution_count": 48,
   "id": "532bd337",
   "metadata": {},
   "outputs": [
    {
     "data": {
      "text/plain": [
       "{'': <__main__.Group at 0x13bea5c6f40>,\n",
       " 'A': <__main__.ModelA at 0x13bea5c82e0>,\n",
       " 'A_shared': <__main__.SharedA at 0x13bea5c8550>}"
      ]
     },
     "execution_count": 48,
     "metadata": {},
     "output_type": "execute_result"
    }
   ],
   "source": [
    "g.nodes('relative').unique()"
   ]
  },
  {
   "cell_type": "markdown",
   "id": "942093ce",
   "metadata": {},
   "source": [
    "### ``update()``"
   ]
  },
  {
   "cell_type": "markdown",
   "id": "23f70fce",
   "metadata": {},
   "source": [
    "The Collector can also catch potential conflicts during the assignment. The bracket assignment of a Collector (``[key]``) and ``Collector.update()`` will check whether the same key is mapped to a different value. If it is, an error will occur. "
   ]
  },
  {
   "cell_type": "code",
   "execution_count": 49,
   "id": "9cf6c7f6",
   "metadata": {},
   "outputs": [
    {
     "data": {
      "text/plain": [
       "{'a': Array([0., 0., 0., 0., 0., 0., 0., 0., 0., 0.], dtype=float32)}"
      ]
     },
     "execution_count": 49,
     "metadata": {},
     "output_type": "execute_result"
    }
   ],
   "source": [
    "tc = bp.Collector({'a': bm.zeros(10)})\n",
    "\n",
    "tc"
   ]
  },
  {
   "cell_type": "code",
   "execution_count": 50,
   "id": "db8804d7",
   "metadata": {},
   "outputs": [
    {
     "name": "stdout",
     "output_type": "stream",
     "text": [
      "ValueError : Name \"a\" conflicts: same name for [0.] and [0. 0. 0. 0. 0. 0. 0. 0. 0. 0.].\n"
     ]
    }
   ],
   "source": [
    "try:\n",
    "    tc['a'] = bm.zeros(1)  # same key \"a\", different tensor\n",
    "except Exception as e:\n",
    "    print(type(e).__name__, \":\", e)"
   ]
  },
  {
   "cell_type": "code",
   "execution_count": 51,
   "id": "531922ec",
   "metadata": {},
   "outputs": [
    {
     "name": "stdout",
     "output_type": "stream",
     "text": [
      "ValueError : Name \"a\" conflicts: same name for [1.] and [0. 0. 0. 0. 0. 0. 0. 0. 0. 0.].\n"
     ]
    }
   ],
   "source": [
    "try:\n",
    "    tc.update({'a': bm.ones(1)})  # same key \"a\", different tensor\n",
    "except Exception as e:\n",
    "    print(type(e).__name__, \":\", e)"
   ]
  },
  {
   "cell_type": "markdown",
   "id": "15fc1991",
   "metadata": {},
   "source": [
    "### ``replace()``"
   ]
  },
  {
   "cell_type": "markdown",
   "id": "6bb2976c",
   "metadata": {},
   "source": [
    "``Collector.replace(old_key, new_value)`` is used to update the value of a key. "
   ]
  },
  {
   "cell_type": "code",
   "execution_count": 52,
   "id": "c91f4373",
   "metadata": {},
   "outputs": [
    {
     "data": {
      "text/plain": [
       "{'a': Array([0., 0., 0., 0., 0., 0., 0., 0., 0., 0.], dtype=float32)}"
      ]
     },
     "execution_count": 52,
     "metadata": {},
     "output_type": "execute_result"
    }
   ],
   "source": [
    "tc"
   ]
  },
  {
   "cell_type": "code",
   "execution_count": 53,
   "id": "ecf2a15c",
   "metadata": {},
   "outputs": [
    {
     "data": {
      "text/plain": [
       "{'a': Array([1., 1., 1.], dtype=float32)}"
      ]
     },
     "execution_count": 53,
     "metadata": {},
     "output_type": "execute_result"
    }
   ],
   "source": [
    "tc.replace('a', bm.ones(3))\n",
    "\n",
    "tc"
   ]
  },
  {
   "cell_type": "markdown",
   "id": "6401d334",
   "metadata": {},
   "source": [
    "### ``__add()__``"
   ]
  },
  {
   "cell_type": "markdown",
   "id": "3c2b83ee",
   "metadata": {},
   "source": [
    "Two Collectors can be merged. "
   ]
  },
  {
   "cell_type": "code",
   "execution_count": 54,
   "id": "93bde37c",
   "metadata": {},
   "outputs": [
    {
     "data": {
      "text/plain": [
       "{'a': Array([0., 0., 0., 0., 0., 0., 0., 0., 0., 0.], dtype=float32),\n",
       " 'b': Array([1., 1., 1., 1., 1., 1., 1., 1., 1., 1.], dtype=float32)}"
      ]
     },
     "execution_count": 54,
     "metadata": {},
     "output_type": "execute_result"
    }
   ],
   "source": [
    "a = bp.Collector({'a': bm.zeros(10)})\n",
    "b = bp.Collector({'b': bm.ones(10)})\n",
    "\n",
    "a + b"
   ]
  },
  {
   "cell_type": "markdown",
   "id": "7cb93e3d",
   "metadata": {},
   "source": [
    "## ArrayCollector"
   ]
  },
  {
   "cell_type": "markdown",
   "id": "0cbd07f6",
   "metadata": {},
   "source": [
    "``ArrayCollector`` is subclass of ``Collector``, but it is specifically to collect arrays."
   ]
  }
 ],
 "metadata": {
  "kernelspec": {
   "display_name": "brainpy",
   "language": "python",
   "name": "brainpy"
  },
  "language_info": {
   "codemirror_mode": {
    "name": "ipython",
    "version": 3
   },
   "file_extension": ".py",
   "mimetype": "text/x-python",
   "name": "python",
   "nbconvert_exporter": "python",
   "pygments_lexer": "ipython3",
   "version": "3.9.12"
  },
  "latex_envs": {
   "LaTeX_envs_menu_present": true,
   "autoclose": false,
   "autocomplete": true,
   "bibliofile": "biblio.bib",
   "cite_by": "apalike",
   "current_citInitial": 1,
   "eqLabelWithNumbers": true,
   "eqNumInitial": 1,
   "hotkeys": {
    "equation": "Ctrl-E",
    "itemize": "Ctrl-I"
   },
   "labels_anchors": false,
   "latex_user_defs": false,
   "report_style_numbering": false,
   "user_envs_cfg": false
  },
  "toc": {
   "base_numbering": 1,
   "nav_menu": {},
   "number_sections": false,
   "sideBar": true,
   "skip_h1_title": false,
   "title_cell": "Table of Contents",
   "title_sidebar": "Contents",
   "toc_cell": false,
   "toc_position": {
    "height": "calc(100% - 180px)",
    "left": "10px",
    "top": "150px",
    "width": "279.273px"
   },
   "toc_section_display": true,
   "toc_window_display": true
  }
 },
 "nbformat": 4,
 "nbformat_minor": 5
}
