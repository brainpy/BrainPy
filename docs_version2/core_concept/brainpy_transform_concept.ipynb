{
 "cells": [
  {
   "cell_type": "markdown",
   "metadata": {
    "collapsed": true,
    "jupyter": {
     "outputs_hidden": true
    }
   },
   "source": [
    "# Concept 1: Object-oriented Transformation\n",
    "\n",
    "[![Colab](https://colab.research.google.com/assets/colab-badge.svg)](https://colab.research.google.com/github/brainpy/examples/blob/main/docs/core_concept/brainpy_transform_concept.ipynb)\n",
    "[![Open in Kaggle](https://kaggle.com/static/images/open-in-kaggle.svg)](https://kaggle.com/kernels/welcome?src=https://github.com/brainpy/brainpy/blob/master/docs_version2/core_concept/brainpy_transform_concept.ipynb)"
   ]
  },
  {
   "cell_type": "markdown",
   "metadata": {},
   "source": [
    "@[Chaoming Wang](https://github.com/chaoming0625)"
   ]
  },
  {
   "cell_type": "markdown",
   "metadata": {},
   "source": [
    "Most computation in BrainPy relies on [JAX](https://jax.readthedocs.io/en/latest/). JAX has provided wonderful transformations, including differentiation, vecterization, parallelization and just-in-time compilation, for Python programs. If you are not familiar with it, please see its [documentation](https://jax.readthedocs.io/en/latest/).\n",
    "\n",
    "However, JAX only supports functional programming, i.e., transformations for Python functions. This is not what we want. Brain Dynamics Modeling need object-oriented programming.\n",
    "\n",
    "To meet this requirement, BrainPy defines the interface for object-oriented (OO) transformations. These OO transformations can be easily performed for any Python objects.\n",
    "\n",
    "In this section, let's talk about the BrainPy concept of object-oriented transformations."
   ]
  },
  {
   "cell_type": "code",
   "metadata": {
    "ExecuteTime": {
     "end_time": "2025-10-06T02:50:13.724097Z",
     "start_time": "2025-10-06T02:50:08.148528Z"
    }
   },
   "source": [
    "import brainpy.version2 as bp\n",
    "import brainpy.version2.math as bm\n",
    "\n",
    "bm.set_platform('cpu')"
   ],
   "outputs": [
    {
     "ename": "AttributeError",
     "evalue": "module 'braintools.surrogate' has no attribute 'inv_square_grad2'",
     "output_type": "error",
     "traceback": [
      "\u001B[31m---------------------------------------------------------------------------\u001B[39m",
      "\u001B[31mAttributeError\u001B[39m                            Traceback (most recent call last)",
      "\u001B[36mCell\u001B[39m\u001B[36m \u001B[39m\u001B[32mIn[1]\u001B[39m\u001B[32m, line 1\u001B[39m\n\u001B[32m----> \u001B[39m\u001B[32m1\u001B[39m \u001B[38;5;28;01mimport\u001B[39;00m\u001B[38;5;250m \u001B[39m\u001B[34;01mbrainpy\u001B[39;00m\u001B[34;01m.\u001B[39;00m\u001B[34;01mversion2\u001B[39;00m\u001B[38;5;250m \u001B[39m\u001B[38;5;28;01mas\u001B[39;00m\u001B[38;5;250m \u001B[39m\u001B[34;01mbp\u001B[39;00m\n\u001B[32m      2\u001B[39m \u001B[38;5;28;01mimport\u001B[39;00m\u001B[38;5;250m \u001B[39m\u001B[34;01mbrainpy\u001B[39;00m\u001B[34;01m.\u001B[39;00m\u001B[34;01mversion2\u001B[39;00m\u001B[34;01m.\u001B[39;00m\u001B[34;01mmath\u001B[39;00m\u001B[38;5;250m \u001B[39m\u001B[38;5;28;01mas\u001B[39;00m\u001B[38;5;250m \u001B[39m\u001B[34;01mbm\u001B[39;00m\n\u001B[32m      4\u001B[39m bm.set_platform(\u001B[33m'\u001B[39m\u001B[33mcpu\u001B[39m\u001B[33m'\u001B[39m)\n",
      "\u001B[36mFile \u001B[39m\u001B[32mD:\\codes\\projects\\BrainPy\\brainpy\\__init__.py:19\u001B[39m\n\u001B[32m     16\u001B[39m __version__ = \u001B[33m\"\u001B[39m\u001B[33m3.0.0\u001B[39m\u001B[33m\"\u001B[39m\n\u001B[32m     17\u001B[39m __version_info__ = (\u001B[32m3\u001B[39m, \u001B[32m0\u001B[39m, \u001B[32m0\u001B[39m)\n\u001B[32m---> \u001B[39m\u001B[32m19\u001B[39m \u001B[38;5;28;01mfrom\u001B[39;00m\u001B[38;5;250m \u001B[39m\u001B[34;01m.\u001B[39;00m\u001B[38;5;250m \u001B[39m\u001B[38;5;28;01mimport\u001B[39;00m version2\n\u001B[32m     20\u001B[39m \u001B[38;5;28;01mfrom\u001B[39;00m\u001B[38;5;250m \u001B[39m\u001B[34;01m.\u001B[39;00m\u001B[34;01m_base\u001B[39;00m\u001B[38;5;250m \u001B[39m\u001B[38;5;28;01mimport\u001B[39;00m *\n\u001B[32m     21\u001B[39m \u001B[38;5;28;01mfrom\u001B[39;00m\u001B[38;5;250m \u001B[39m\u001B[34;01m.\u001B[39;00m\u001B[34;01m_base\u001B[39;00m\u001B[38;5;250m \u001B[39m\u001B[38;5;28;01mimport\u001B[39;00m __all__ \u001B[38;5;28;01mas\u001B[39;00m base_all\n",
      "\u001B[36mFile \u001B[39m\u001B[32mD:\\codes\\projects\\BrainPy\\brainpy\\version2\\__init__.py:111\u001B[39m\n\u001B[32m    108\u001B[39m \u001B[38;5;66;03m#  Part: Deprecations  #\u001B[39;00m\n\u001B[32m    109\u001B[39m \u001B[38;5;66;03m# -------------------- #\u001B[39;00m\n\u001B[32m    110\u001B[39m \u001B[38;5;28;01mfrom\u001B[39;00m\u001B[38;5;250m \u001B[39m\u001B[34;01mbrainpy\u001B[39;00m\u001B[34;01m.\u001B[39;00m\u001B[34;01mversion2\u001B[39;00m\u001B[38;5;250m \u001B[39m\u001B[38;5;28;01mimport\u001B[39;00m train\n\u001B[32m--> \u001B[39m\u001B[32m111\u001B[39m \u001B[38;5;28;01mfrom\u001B[39;00m\u001B[38;5;250m \u001B[39m\u001B[34;01mbrainpy\u001B[39;00m\u001B[34;01m.\u001B[39;00m\u001B[34;01mversion2\u001B[39;00m\u001B[38;5;250m \u001B[39m\u001B[38;5;28;01mimport\u001B[39;00m (\n\u001B[32m    112\u001B[39m     channels,  \u001B[38;5;66;03m# channel models\u001B[39;00m\n\u001B[32m    113\u001B[39m     neurons,  \u001B[38;5;66;03m# neuron groups\u001B[39;00m\n\u001B[32m    114\u001B[39m     synapses,  \u001B[38;5;66;03m# synapses\u001B[39;00m\n\u001B[32m    115\u001B[39m     rates,  \u001B[38;5;66;03m# rate models\u001B[39;00m\n\u001B[32m    116\u001B[39m     experimental,\n\u001B[32m    117\u001B[39m     synouts,  \u001B[38;5;66;03m# synaptic output\u001B[39;00m\n\u001B[32m    118\u001B[39m     synplast,  \u001B[38;5;66;03m# synaptic plasticity\u001B[39;00m\n\u001B[32m    119\u001B[39m )\n\u001B[32m    120\u001B[39m \u001B[38;5;28;01mfrom\u001B[39;00m\u001B[38;5;250m \u001B[39m\u001B[34;01mbrainpy\u001B[39;00m\u001B[34;01m.\u001B[39;00m\u001B[34;01mversion2\u001B[39;00m\u001B[38;5;250m \u001B[39m\u001B[38;5;28;01mimport\u001B[39;00m modes\n\u001B[32m    121\u001B[39m \u001B[38;5;28;01mfrom\u001B[39;00m\u001B[38;5;250m \u001B[39m\u001B[34;01mbrainpy\u001B[39;00m\u001B[34;01m.\u001B[39;00m\u001B[34;01mversion2\u001B[39;00m\u001B[34;01m.\u001B[39;00m\u001B[34;01mmath\u001B[39;00m\u001B[34;01m.\u001B[39;00m\u001B[34;01mobject_transform\u001B[39;00m\u001B[34;01m.\u001B[39;00m\u001B[34;01mbase\u001B[39;00m\u001B[38;5;250m \u001B[39m\u001B[38;5;28;01mimport\u001B[39;00m (\n\u001B[32m    122\u001B[39m     Base \u001B[38;5;28;01mas\u001B[39;00m Base,\n\u001B[32m    123\u001B[39m )\n",
      "\u001B[36mFile \u001B[39m\u001B[32mD:\\codes\\projects\\BrainPy\\brainpy\\version2\\neurons.py:7\u001B[39m\n\u001B[32m      1\u001B[39m \u001B[38;5;66;03m# -*- coding: utf-8 -*-\u001B[39;00m\n\u001B[32m      3\u001B[39m \u001B[33;03m\"\"\"\u001B[39;00m\n\u001B[32m      4\u001B[39m \u001B[33;03mThis module has been deprecated since brainpy>=2.4.0. Use ``brainpy.version2.dyn`` module instead.\u001B[39;00m\n\u001B[32m      5\u001B[39m \u001B[33;03m\"\"\"\u001B[39;00m\n\u001B[32m----> \u001B[39m\u001B[32m7\u001B[39m \u001B[38;5;28;01mfrom\u001B[39;00m\u001B[38;5;250m \u001B[39m\u001B[34;01mbrainpy\u001B[39;00m\u001B[34;01m.\u001B[39;00m\u001B[34;01mversion2\u001B[39;00m\u001B[34;01m.\u001B[39;00m\u001B[34;01mdynold\u001B[39;00m\u001B[34;01m.\u001B[39;00m\u001B[34;01mneurons\u001B[39;00m\u001B[34;01m.\u001B[39;00m\u001B[34;01mbiological_models\u001B[39;00m\u001B[38;5;250m \u001B[39m\u001B[38;5;28;01mimport\u001B[39;00m (\n\u001B[32m      8\u001B[39m     HH \u001B[38;5;28;01mas\u001B[39;00m HH,\n\u001B[32m      9\u001B[39m     MorrisLecar \u001B[38;5;28;01mas\u001B[39;00m MorrisLecar,\n\u001B[32m     10\u001B[39m     PinskyRinzelModel \u001B[38;5;28;01mas\u001B[39;00m PinskyRinzelModel,\n\u001B[32m     11\u001B[39m     WangBuzsakiModel \u001B[38;5;28;01mas\u001B[39;00m WangBuzsakiModel,\n\u001B[32m     12\u001B[39m )\n\u001B[32m     14\u001B[39m \u001B[38;5;28;01mfrom\u001B[39;00m\u001B[38;5;250m \u001B[39m\u001B[34;01mbrainpy\u001B[39;00m\u001B[34;01m.\u001B[39;00m\u001B[34;01mversion2\u001B[39;00m\u001B[34;01m.\u001B[39;00m\u001B[34;01mdynold\u001B[39;00m\u001B[34;01m.\u001B[39;00m\u001B[34;01mneurons\u001B[39;00m\u001B[34;01m.\u001B[39;00m\u001B[34;01mfractional_models\u001B[39;00m\u001B[38;5;250m \u001B[39m\u001B[38;5;28;01mimport\u001B[39;00m (\n\u001B[32m     15\u001B[39m     FractionalNeuron \u001B[38;5;28;01mas\u001B[39;00m FractionalNeuron,\n\u001B[32m     16\u001B[39m     FractionalFHR \u001B[38;5;28;01mas\u001B[39;00m FractionalFHR,\n\u001B[32m     17\u001B[39m     FractionalIzhikevich \u001B[38;5;28;01mas\u001B[39;00m FractionalIzhikevich,\n\u001B[32m     18\u001B[39m )\n\u001B[32m     20\u001B[39m \u001B[38;5;28;01mfrom\u001B[39;00m\u001B[38;5;250m \u001B[39m\u001B[34;01mbrainpy\u001B[39;00m\u001B[34;01m.\u001B[39;00m\u001B[34;01mversion2\u001B[39;00m\u001B[34;01m.\u001B[39;00m\u001B[34;01mdynold\u001B[39;00m\u001B[34;01m.\u001B[39;00m\u001B[34;01mneurons\u001B[39;00m\u001B[34;01m.\u001B[39;00m\u001B[34;01mreduced_models\u001B[39;00m\u001B[38;5;250m \u001B[39m\u001B[38;5;28;01mimport\u001B[39;00m (\n\u001B[32m     21\u001B[39m     LeakyIntegrator \u001B[38;5;28;01mas\u001B[39;00m LeakyIntegrator,\n\u001B[32m     22\u001B[39m     LIF \u001B[38;5;28;01mas\u001B[39;00m LIF,\n\u001B[32m   (...)\u001B[39m\u001B[32m     32\u001B[39m     LIF_SFA_Bellec2020,\n\u001B[32m     33\u001B[39m )\n",
      "\u001B[36mFile \u001B[39m\u001B[32mD:\\codes\\projects\\BrainPy\\brainpy\\version2\\dynold\\neurons\\__init__.py:5\u001B[39m\n\u001B[32m      3\u001B[39m \u001B[38;5;28;01mfrom\u001B[39;00m\u001B[38;5;250m \u001B[39m\u001B[34;01m.\u001B[39;00m\u001B[34;01mbiological_models\u001B[39;00m\u001B[38;5;250m \u001B[39m\u001B[38;5;28;01mimport\u001B[39;00m *\n\u001B[32m      4\u001B[39m \u001B[38;5;28;01mfrom\u001B[39;00m\u001B[38;5;250m \u001B[39m\u001B[34;01m.\u001B[39;00m\u001B[34;01mfractional_models\u001B[39;00m\u001B[38;5;250m \u001B[39m\u001B[38;5;28;01mimport\u001B[39;00m *\n\u001B[32m----> \u001B[39m\u001B[32m5\u001B[39m \u001B[38;5;28;01mfrom\u001B[39;00m\u001B[38;5;250m \u001B[39m\u001B[34;01m.\u001B[39;00m\u001B[34;01mreduced_models\u001B[39;00m\u001B[38;5;250m \u001B[39m\u001B[38;5;28;01mimport\u001B[39;00m *\n",
      "\u001B[36mFile \u001B[39m\u001B[32mD:\\codes\\projects\\BrainPy\\brainpy\\version2\\dynold\\neurons\\reduced_models.py:883\u001B[39m\n\u001B[32m    879\u001B[39m         \u001B[38;5;28;01mif\u001B[39;00m \u001B[38;5;28mself\u001B[39m.input_var:\n\u001B[32m    880\u001B[39m             \u001B[38;5;28mself\u001B[39m.input.value = bm.zeros_like(\u001B[38;5;28mself\u001B[39m.input)\n\u001B[32m--> \u001B[39m\u001B[32m883\u001B[39m \u001B[38;5;28;01mclass\u001B[39;00m\u001B[38;5;250m \u001B[39m\u001B[34;01mHindmarshRose\u001B[39;00m(NeuDyn):\n\u001B[32m    884\u001B[39m \u001B[38;5;250m    \u001B[39m\u001B[33mr\u001B[39m\u001B[33;03m\"\"\"Hindmarsh-Rose neuron model.\u001B[39;00m\n\u001B[32m    885\u001B[39m \n\u001B[32m    886\u001B[39m \u001B[33;03m    **Model Descriptions**\u001B[39;00m\n\u001B[32m   (...)\u001B[39m\u001B[32m    976\u001B[39m \u001B[33;03m          033128.\u001B[39;00m\n\u001B[32m    977\u001B[39m \u001B[33;03m    \"\"\"\u001B[39;00m\n\u001B[32m    979\u001B[39m     \u001B[38;5;28;01mdef\u001B[39;00m\u001B[38;5;250m \u001B[39m\u001B[34m__init__\u001B[39m(\n\u001B[32m    980\u001B[39m         \u001B[38;5;28mself\u001B[39m,\n\u001B[32m    981\u001B[39m         size: Shape,\n\u001B[32m   (...)\u001B[39m\u001B[32m   1002\u001B[39m     ):\n\u001B[32m   1003\u001B[39m         \u001B[38;5;66;03m# initialization\u001B[39;00m\n",
      "\u001B[36mFile \u001B[39m\u001B[32mD:\\codes\\projects\\BrainPy\\brainpy\\version2\\dynold\\neurons\\reduced_models.py:1001\u001B[39m, in \u001B[36mHindmarshRose\u001B[39m\u001B[34m()\u001B[39m\n\u001B[32m    883\u001B[39m \u001B[38;5;28;01mclass\u001B[39;00m\u001B[38;5;250m \u001B[39m\u001B[34;01mHindmarshRose\u001B[39;00m(NeuDyn):\n\u001B[32m    884\u001B[39m \u001B[38;5;250m    \u001B[39m\u001B[33mr\u001B[39m\u001B[33;03m\"\"\"Hindmarsh-Rose neuron model.\u001B[39;00m\n\u001B[32m    885\u001B[39m \n\u001B[32m    886\u001B[39m \u001B[33;03m    **Model Descriptions**\u001B[39;00m\n\u001B[32m   (...)\u001B[39m\u001B[32m    976\u001B[39m \u001B[33;03m          033128.\u001B[39;00m\n\u001B[32m    977\u001B[39m \u001B[33;03m    \"\"\"\u001B[39;00m\n\u001B[32m    979\u001B[39m     \u001B[38;5;28;01mdef\u001B[39;00m\u001B[38;5;250m \u001B[39m\u001B[34m__init__\u001B[39m(\n\u001B[32m    980\u001B[39m         \u001B[38;5;28mself\u001B[39m,\n\u001B[32m    981\u001B[39m         size: Shape,\n\u001B[32m    982\u001B[39m         a: Union[\u001B[38;5;28mfloat\u001B[39m, ArrayType, Initializer, Callable] = \u001B[32m1.\u001B[39m,\n\u001B[32m    983\u001B[39m         b: Union[\u001B[38;5;28mfloat\u001B[39m, ArrayType, Initializer, Callable] = \u001B[32m3.\u001B[39m,\n\u001B[32m    984\u001B[39m         c: Union[\u001B[38;5;28mfloat\u001B[39m, ArrayType, Initializer, Callable] = \u001B[32m1.\u001B[39m,\n\u001B[32m    985\u001B[39m         d: Union[\u001B[38;5;28mfloat\u001B[39m, ArrayType, Initializer, Callable] = \u001B[32m5.\u001B[39m,\n\u001B[32m    986\u001B[39m         r: Union[\u001B[38;5;28mfloat\u001B[39m, ArrayType, Initializer, Callable] = \u001B[32m0.01\u001B[39m,\n\u001B[32m    987\u001B[39m         s: Union[\u001B[38;5;28mfloat\u001B[39m, ArrayType, Initializer, Callable] = \u001B[32m4.\u001B[39m,\n\u001B[32m    988\u001B[39m         V_rest: Union[\u001B[38;5;28mfloat\u001B[39m, ArrayType, Initializer, Callable] = -\u001B[32m1.6\u001B[39m,\n\u001B[32m    989\u001B[39m         V_th: Union[\u001B[38;5;28mfloat\u001B[39m, ArrayType, Initializer, Callable] = \u001B[32m1.0\u001B[39m,\n\u001B[32m    990\u001B[39m         V_initializer: Union[Initializer, Callable, ArrayType] = ZeroInit(),\n\u001B[32m    991\u001B[39m         y_initializer: Union[Initializer, Callable, ArrayType] = OneInit(-\u001B[32m10.\u001B[39m),\n\u001B[32m    992\u001B[39m         z_initializer: Union[Initializer, Callable, ArrayType] = ZeroInit(),\n\u001B[32m    993\u001B[39m         noise: Union[\u001B[38;5;28mfloat\u001B[39m, ArrayType, Initializer, Callable] = \u001B[38;5;28;01mNone\u001B[39;00m,\n\u001B[32m    994\u001B[39m         method: \u001B[38;5;28mstr\u001B[39m = \u001B[33m'\u001B[39m\u001B[33mexp_auto\u001B[39m\u001B[33m'\u001B[39m,\n\u001B[32m    995\u001B[39m         keep_size: \u001B[38;5;28mbool\u001B[39m = \u001B[38;5;28;01mFalse\u001B[39;00m,\n\u001B[32m    996\u001B[39m         input_var: \u001B[38;5;28mbool\u001B[39m = \u001B[38;5;28;01mTrue\u001B[39;00m,\n\u001B[32m    997\u001B[39m         name: \u001B[38;5;28mstr\u001B[39m = \u001B[38;5;28;01mNone\u001B[39;00m,\n\u001B[32m    998\u001B[39m \n\u001B[32m    999\u001B[39m         \u001B[38;5;66;03m# parameters for training\u001B[39;00m\n\u001B[32m   1000\u001B[39m         mode: bm.Mode = \u001B[38;5;28;01mNone\u001B[39;00m,\n\u001B[32m-> \u001B[39m\u001B[32m1001\u001B[39m         spike_fun: Callable = bm.surrogate.inv_square_grad2,\n\u001B[32m   1002\u001B[39m     ):\n\u001B[32m   1003\u001B[39m         \u001B[38;5;66;03m# initialization\u001B[39;00m\n\u001B[32m   1004\u001B[39m         \u001B[38;5;28msuper\u001B[39m(HindmarshRose, \u001B[38;5;28mself\u001B[39m).\u001B[34m__init__\u001B[39m(size=size,\n\u001B[32m   1005\u001B[39m                                             keep_size=keep_size,\n\u001B[32m   1006\u001B[39m                                             name=name,\n\u001B[32m   1007\u001B[39m                                             mode=mode)\n\u001B[32m   1008\u001B[39m         is_subclass(\u001B[38;5;28mself\u001B[39m.mode, (bm.TrainingMode, bm.NonBatchingMode))\n",
      "\u001B[31mAttributeError\u001B[39m: module 'braintools.surrogate' has no attribute 'inv_square_grad2'"
     ]
    }
   ],
   "execution_count": 1
  },
  {
   "cell_type": "code",
   "execution_count": 2,
   "metadata": {
    "ExecuteTime": {
     "end_time": "2023-04-15T15:36:08.524525Z",
     "start_time": "2023-04-15T15:36:08.508950Z"
    },
    "collapsed": false,
    "jupyter": {
     "outputs_hidden": false
    }
   },
   "outputs": [
    {
     "data": {
      "text/plain": [
       "'2.4.0'"
      ]
     },
     "execution_count": 2,
     "metadata": {},
     "output_type": "execute_result"
    }
   ],
   "source": [
    "bp.__version__"
   ]
  },
  {
   "cell_type": "markdown",
   "metadata": {
    "collapsed": false,
    "jupyter": {
     "outputs_hidden": false
    }
   },
   "source": [
    "## A simple example"
   ]
  },
  {
   "cell_type": "markdown",
   "metadata": {
    "collapsed": false,
    "jupyter": {
     "outputs_hidden": false
    }
   },
   "source": [
    "Before diving into a real example, let's illustrate the OO transformation concept using a simple case."
   ]
  },
  {
   "cell_type": "code",
   "execution_count": 3,
   "metadata": {
    "ExecuteTime": {
     "end_time": "2023-04-15T15:36:08.571464Z",
     "start_time": "2023-04-15T15:36:08.524525Z"
    },
    "collapsed": false,
    "jupyter": {
     "outputs_hidden": false
    }
   },
   "outputs": [],
   "source": [
    "class Example:\n",
    "    def __init__(self):\n",
    "        self.static = 0\n",
    "        self.dyn = bm.Variable(bm.ones(1))\n",
    "\n",
    "    @bm.cls_jit  # JIT compiled function\n",
    "    def update(self, inp):\n",
    "        self.dyn.value = self.dyn * inp + self.static"
   ]
  },
  {
   "cell_type": "code",
   "execution_count": 4,
   "metadata": {
    "ExecuteTime": {
     "end_time": "2023-04-15T15:36:08.571464Z",
     "start_time": "2023-04-15T15:36:08.540144Z"
    },
    "collapsed": false,
    "jupyter": {
     "outputs_hidden": false
    }
   },
   "outputs": [],
   "source": [
    "example = Example()"
   ]
  },
  {
   "cell_type": "markdown",
   "metadata": {
    "collapsed": false,
    "jupyter": {
     "outputs_hidden": false
    }
   },
   "source": [
    "To use OO transformations provided in BrainPy, we should keep three things in mind."
   ]
  },
  {
   "cell_type": "markdown",
   "metadata": {
    "collapsed": false,
    "jupyter": {
     "outputs_hidden": false
    }
   },
   "source": [
    "\n",
    "1, All **dynamically changed variables** should be declared as\n",
    "\n",
    "   - instance of ``brainpy.math.Variable``, (like ``self.dyn``)\n",
    "   - or the function argument, (like ``inp``)"
   ]
  },
  {
   "cell_type": "code",
   "execution_count": 5,
   "metadata": {
    "ExecuteTime": {
     "end_time": "2023-04-15T15:36:08.634321Z",
     "start_time": "2023-04-15T15:36:08.571464Z"
    },
    "collapsed": false,
    "jupyter": {
     "outputs_hidden": false
    }
   },
   "outputs": [
    {
     "data": {
      "text/plain": [
       "Variable(value=DeviceArray([1.]), dtype=float32)"
      ]
     },
     "execution_count": 5,
     "metadata": {},
     "output_type": "execute_result"
    }
   ],
   "source": [
    "example.update(1.)\n",
    "example.dyn"
   ]
  },
  {
   "cell_type": "code",
   "execution_count": 6,
   "metadata": {
    "ExecuteTime": {
     "end_time": "2023-04-15T15:36:08.634321Z",
     "start_time": "2023-04-15T15:36:08.603092Z"
    },
    "collapsed": false,
    "jupyter": {
     "outputs_hidden": false
    }
   },
   "outputs": [
    {
     "data": {
      "text/plain": [
       "Variable(value=DeviceArray([2.]), dtype=float32)"
      ]
     },
     "execution_count": 6,
     "metadata": {},
     "output_type": "execute_result"
    }
   ],
   "source": [
    "example.update(2.)\n",
    "example.dyn"
   ]
  },
  {
   "cell_type": "markdown",
   "metadata": {
    "collapsed": false,
    "jupyter": {
     "outputs_hidden": false
    }
   },
   "source": [
    "2, Other variables will be compiled as the **constants** during OO transformations. Changes made on these non-``Variable`` or non-``Argument`` will not show any impact after the function compiled."
   ]
  },
  {
   "cell_type": "code",
   "execution_count": 7,
   "metadata": {
    "ExecuteTime": {
     "end_time": "2023-04-15T15:36:08.634321Z",
     "start_time": "2023-04-15T15:36:08.618635Z"
    },
    "collapsed": false,
    "jupyter": {
     "outputs_hidden": false
    }
   },
   "outputs": [
    {
     "data": {
      "text/plain": [
       "Variable(value=DeviceArray([2.]), dtype=float32)"
      ]
     },
     "execution_count": 7,
     "metadata": {},
     "output_type": "execute_result"
    }
   ],
   "source": [
    "example.static = 100.  # not work\n",
    "example.update(1.)\n",
    "example.dyn"
   ]
  },
  {
   "cell_type": "markdown",
   "metadata": {
    "collapsed": false,
    "jupyter": {
     "outputs_hidden": false
    }
   },
   "source": [
    "3, All OO transformations provided in BrainPy can be obtained from our [API documentation](../apis/auto/math.rst). Simply speaking, these OO transformations include:\n",
    "\n",
    "   - automatic differentiation transformations\n",
    "   - just-in-time compilations\n",
    "   - control flow transformations\n",
    "   - ..."
   ]
  },
  {
   "cell_type": "markdown",
   "metadata": {},
   "source": [
    "## A complex example: Training a network"
   ]
  },
  {
   "cell_type": "markdown",
   "metadata": {},
   "source": [
    "With the simple understanding of how OO transformations work, we can train a neural network model using the these transformations .\n",
    "\n",
    "In this training case, we want to teach the neural network to correctly classify a random array as two labels (`True` or `False`). That is, we have the training data:"
   ]
  },
  {
   "cell_type": "code",
   "execution_count": 8,
   "metadata": {
    "ExecuteTime": {
     "end_time": "2023-04-15T15:36:08.889623Z",
     "start_time": "2023-04-15T15:36:08.634321Z"
    }
   },
   "outputs": [],
   "source": [
    "num_in = 100\n",
    "num_sample = 256\n",
    "X = bm.random.rand(num_sample, num_in)\n",
    "Y = (bm.random.rand(num_sample) < 0.5).astype(float)"
   ]
  },
  {
   "cell_type": "markdown",
   "metadata": {},
   "source": [
    "We use a two-layer feedforward network:"
   ]
  },
  {
   "cell_type": "code",
   "execution_count": 9,
   "metadata": {
    "ExecuteTime": {
     "end_time": "2023-04-15T15:36:09.171734Z",
     "start_time": "2023-04-15T15:36:08.889623Z"
    }
   },
   "outputs": [
    {
     "name": "stdout",
     "output_type": "stream",
     "text": [
      "Sequential(\n",
      "  [0] <__main__.Linear object at 0x0000020636E171C0>\n",
      "  [1] relu\n",
      "  [2] <__main__.Linear object at 0x0000020636D867C0>\n",
      ")\n"
     ]
    }
   ],
   "source": [
    "class Linear(bp.BrainPyObject):\n",
    "    def __init__(self, n_in, n_out):\n",
    "        super().__init__()\n",
    "        self.num_in = n_in\n",
    "        self.num_out = n_out\n",
    "        init = bp.init.XavierNormal()\n",
    "        self.W = bm.Variable(init((n_in, n_out)))\n",
    "        self.b = bm.Variable(bm.zeros((1, n_out)))\n",
    "\n",
    "    def __call__(self, x):\n",
    "        return x @ self.W + self.b\n",
    "\n",
    "\n",
    "net = bp.Sequential(Linear(num_in, 20),\n",
    "                    bm.relu,\n",
    "                    Linear(20, 2))\n",
    "print(net)"
   ]
  },
  {
   "cell_type": "markdown",
   "metadata": {},
   "source": [
    "Here, we use a supervised learning training paradigm."
   ]
  },
  {
   "cell_type": "code",
   "execution_count": 10,
   "metadata": {
    "ExecuteTime": {
     "end_time": "2023-04-15T15:36:09.202818Z",
     "start_time": "2023-04-15T15:36:09.171734Z"
    },
    "collapsed": false,
    "jupyter": {
     "outputs_hidden": false
    }
   },
   "outputs": [],
   "source": [
    "class Trainer(object):\n",
    "    def __init__(self, net):\n",
    "        self.net = net\n",
    "        self.grad = bm.grad(self.loss, grad_vars=net.vars(), return_value=True)\n",
    "        self.optimizer = bp.optim.SGD(lr=1e-2, train_vars=net.vars())\n",
    "\n",
    "    @bm.cls_jit(inline=True)\n",
    "    def loss(self):\n",
    "        # shuffle the data\n",
    "        key = bm.random.split_key()\n",
    "        x_data = bm.random.permutation(X, key=key)\n",
    "        y_data = bm.random.permutation(Y, key=key)\n",
    "        # prediction\n",
    "        predictions = net(dict(), x_data)\n",
    "        # loss\n",
    "        l = bp.losses.cross_entropy_loss(predictions, y_data)\n",
    "        return l\n",
    "\n",
    "    @bm.cls_jit\n",
    "    def train(self):\n",
    "        grads, l = self.grad()\n",
    "        self.optimizer.update(grads)\n",
    "        return l"
   ]
  },
  {
   "cell_type": "code",
   "execution_count": 11,
   "metadata": {
    "ExecuteTime": {
     "end_time": "2023-04-15T15:36:10.033747Z",
     "start_time": "2023-04-15T15:36:09.187298Z"
    }
   },
   "outputs": [
    {
     "name": "stdout",
     "output_type": "stream",
     "text": [
      "Train 400 epoch, loss = 0.6190\n",
      "Train 800 epoch, loss = 0.5688\n",
      "Train 1200 epoch, loss = 0.5214\n",
      "Train 1600 epoch, loss = 0.4776\n",
      "Train 2000 epoch, loss = 0.4381\n",
      "Train 2400 epoch, loss = 0.4020\n",
      "Train 2800 epoch, loss = 0.3669\n",
      "Train 3200 epoch, loss = 0.3335\n",
      "Train 3600 epoch, loss = 0.3024\n",
      "Train 4000 epoch, loss = 0.2737\n"
     ]
    }
   ],
   "source": [
    "trainer = Trainer(net)\n",
    "\n",
    "for i in range(1, 4001):\n",
    "    ls = trainer.train()\n",
    "    if i % 400 == 0:\n",
    "        print(f'Train {i} epoch, loss = {ls:.4f}')"
   ]
  },
  {
   "cell_type": "markdown",
   "metadata": {},
   "source": [
    "In the above example, we have seen classical elements in a neural network training, such as \n",
    "\n",
    "- `net`: neural network\n",
    "- `loss`: loss function\n",
    "- `grad`: gradient function\n",
    "- `optimizer`: parameter optimizer\n",
    "- `train`: training step"
   ]
  },
  {
   "cell_type": "markdown",
   "metadata": {},
   "source": [
    "## ``Variable`` and ``BrainPyObject``"
   ]
  },
  {
   "cell_type": "markdown",
   "metadata": {},
   "source": [
    "Although OO transformations in BrainPy do not explicitly require ``BrainPyObject``, defining a class as a subclass of ``BrainPyObject`` will gain many advantages.\n",
    "\n",
    "``BrainPyObject`` can be viewed as a container which contains all needed [Variable](../tutorial_math/variables.ipynb) for our computation."
   ]
  },
  {
   "cell_type": "markdown",
   "metadata": {},
   "source": [
    "![](./imgs/net_with_two_linear.png)"
   ]
  },
  {
   "cell_type": "markdown",
   "metadata": {},
   "source": [
    "In the above example, ``Linear`` object has two ``Variable``: *W* and *b*. The ``net`` we defined is further composed of two ``Linear`` objects. We can expect that four variables can be retrieved from it."
   ]
  },
  {
   "cell_type": "code",
   "execution_count": 12,
   "metadata": {
    "ExecuteTime": {
     "end_time": "2023-04-15T15:36:10.049555Z",
     "start_time": "2023-04-15T15:36:10.038197Z"
    }
   },
   "outputs": [
    {
     "data": {
      "text/plain": [
       "dict_keys(['Linear0.W', 'Linear0.b', 'Linear1.W', 'Linear1.b'])"
      ]
     },
     "execution_count": 12,
     "metadata": {},
     "output_type": "execute_result"
    }
   ],
   "source": [
    "net.vars().keys()"
   ]
  },
  {
   "cell_type": "markdown",
   "metadata": {},
   "source": [
    "An important question is, **how to define `Variable` in a `BrainPyObject` so that we can retrieve all of them?**"
   ]
  },
  {
   "cell_type": "markdown",
   "metadata": {},
   "source": [
    "Actually, all Variable instance which can be accessed by `self.` attribue can be retrived from a `BrainPyObject` recursively. \n",
    "No matter how deep the composition of ``BrainPyObject``, once `BrainPyObject` instance and their `Variable` instances can be accessed by `self.` operation, all of them will be retrieved. "
   ]
  },
  {
   "cell_type": "code",
   "execution_count": 13,
   "metadata": {
    "ExecuteTime": {
     "end_time": "2023-04-15T15:36:10.190898Z",
     "start_time": "2023-04-15T15:36:10.049555Z"
    }
   },
   "outputs": [],
   "source": [
    "class SuperLinear(bp.BrainPyObject):\n",
    "    def __init__(self, ):\n",
    "        super().__init__()\n",
    "        self.l1 = Linear(10, 20)\n",
    "        self.v1 = bm.Variable(3)\n",
    "        \n",
    "sl = SuperLinear()"
   ]
  },
  {
   "cell_type": "code",
   "execution_count": 14,
   "metadata": {
    "ExecuteTime": {
     "end_time": "2023-04-15T15:36:10.206449Z",
     "start_time": "2023-04-15T15:36:10.190898Z"
    }
   },
   "outputs": [
    {
     "data": {
      "text/plain": [
       "dict_keys(['SuperLinear0.v1', 'Linear2.W', 'Linear2.b'])"
      ]
     },
     "execution_count": 14,
     "metadata": {},
     "output_type": "execute_result"
    }
   ],
   "source": [
    "# retrieve Variable\n",
    "sl.vars().keys()"
   ]
  },
  {
   "cell_type": "code",
   "execution_count": 15,
   "metadata": {
    "ExecuteTime": {
     "end_time": "2023-04-15T15:36:10.253235Z",
     "start_time": "2023-04-15T15:36:10.206449Z"
    }
   },
   "outputs": [
    {
     "data": {
      "text/plain": [
       "dict_keys(['SuperLinear0', 'Linear2'])"
      ]
     },
     "execution_count": 15,
     "metadata": {},
     "output_type": "execute_result"
    }
   ],
   "source": [
    "# retrieve BrainPyObject\n",
    "sl.nodes().keys()"
   ]
  },
  {
   "cell_type": "markdown",
   "metadata": {},
   "source": [
    "However, we cannot access the ``BrainPyObject`` or ``Variable`` which is in a Python container (like tuple, list, or dict). For this case, we can use ``brainpy,math.NodeList`` or ``brainpy.math.VarList``:"
   ]
  },
  {
   "cell_type": "code",
   "execution_count": 16,
   "metadata": {
    "ExecuteTime": {
     "end_time": "2023-04-15T15:36:10.253235Z",
     "start_time": "2023-04-15T15:36:10.222145Z"
    }
   },
   "outputs": [],
   "source": [
    "class SuperSuperLinear(bp.BrainPyObject):\n",
    "    def __init__(self):\n",
    "        super().__init__()\n",
    "        self.ss = bm.NodeList([SuperLinear(), SuperLinear()])\n",
    "        self.vv = bm.VarList([bm.Variable(3)])"
   ]
  },
  {
   "cell_type": "code",
   "execution_count": 17,
   "metadata": {
    "ExecuteTime": {
     "end_time": "2023-04-15T15:36:10.253235Z",
     "start_time": "2023-04-15T15:36:10.237586Z"
    }
   },
   "outputs": [
    {
     "name": "stdout",
     "output_type": "stream",
     "text": [
      "dict_keys(['SuperSuperLinear0.vv-0', 'SuperLinear1.v1', 'SuperLinear2.v1', 'Linear3.W', 'Linear3.b', 'Linear4.W', 'Linear4.b'])\n",
      "dict_keys(['SuperSuperLinear0', 'SuperLinear1', 'SuperLinear2', 'Linear3', 'Linear4'])\n"
     ]
    }
   ],
   "source": [
    "ssl = SuperSuperLinear()\n",
    "print(ssl.vars().keys())\n",
    "print(ssl.nodes().keys())"
   ]
  }
 ],
 "metadata": {
  "kernelspec": {
   "display_name": "Python 3 (ipykernel)",
   "language": "python",
   "name": "python3"
  },
  "language_info": {
   "codemirror_mode": {
    "name": "ipython",
    "version": 3
   },
   "file_extension": ".py",
   "mimetype": "text/x-python",
   "name": "python",
   "nbconvert_exporter": "python",
   "pygments_lexer": "ipython3",
   "version": "3.6.6"
  },
  "latex_envs": {
   "LaTeX_envs_menu_present": true,
   "autoclose": false,
   "autocomplete": true,
   "bibliofile": "biblio.bib",
   "cite_by": "apalike",
   "current_citInitial": 1,
   "eqLabelWithNumbers": true,
   "eqNumInitial": 1,
   "hotkeys": {
    "equation": "Ctrl-E",
    "itemize": "Ctrl-I"
   },
   "labels_anchors": false,
   "latex_user_defs": false,
   "report_style_numbering": false,
   "user_envs_cfg": false
  },
  "toc": {
   "base_numbering": 1,
   "nav_menu": {},
   "number_sections": false,
   "sideBar": true,
   "skip_h1_title": false,
   "title_cell": "Table of Contents",
   "title_sidebar": "Contents",
   "toc_cell": false,
   "toc_position": {
    "height": "calc(100% - 180px)",
    "left": "10px",
    "top": "150px",
    "width": "245.75px"
   },
   "toc_section_display": true,
   "toc_window_display": true
  }
 },
 "nbformat": 4,
 "nbformat_minor": 4
}
