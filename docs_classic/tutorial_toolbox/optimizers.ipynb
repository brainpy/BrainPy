{
 "cells": [
  {
   "cell_type": "markdown",
   "id": "e42071e4",
   "metadata": {},
   "source": [
    "# Gradient Descent Optimizers\n",
    "\n",
    "[![Colab](https://colab.research.google.com/assets/colab-badge.svg)](https://colab.research.google.com/github/brainpy/brainpy/blob/master/docs_version2/tutorial_toolbox/optimizers.ipynb)\n",
    "[![Open in Kaggle](https://kaggle.com/static/images/open-in-kaggle.svg)](https://kaggle.com/kernels/welcome?src=https://github.com/brainpy/brainpy/blob/master/docs_version2/tutorial_toolbox/optimizers.ipynb)"
   ]
  },
  {
   "cell_type": "markdown",
   "id": "355bb9b6",
   "metadata": {},
   "source": [
    "@[Chaoming Wang](https://github.com/chaoming0625)\n",
    "@[Xiaoyu Chen](mailto:c-xy17@tsinghua.org.cn)"
   ]
  },
  {
   "cell_type": "markdown",
   "id": "95b9589c",
   "metadata": {},
   "source": [
    "Gradient descent is one of the most popular optimization methods. At present, gradient descent optimizers, combined with the loss function, are the key to machine learning, especially deep learning. In this section, we are going to understand:\n",
    "\n",
    "- how to use optimizers in BrainPy?\n",
    "- how to customize your own optimizer?"
   ]
  },
  {
   "cell_type": "code",
   "id": "a9813ba0",
   "metadata": {
    "ExecuteTime": {
     "end_time": "2025-10-06T05:15:03.506031Z",
     "start_time": "2025-10-06T05:15:03.497322Z"
    }
   },
   "source": [
    "import brainpy as bp\n",
    "import brainpy.math as bm\n",
    "\n",
    "bp.math.set_platform('cpu')\n",
    "bp.__version__"
   ],
   "outputs": [
    {
     "data": {
      "text/plain": [
       "'3.0.0'"
      ]
     },
     "execution_count": 34,
     "metadata": {},
     "output_type": "execute_result"
    }
   ],
   "execution_count": 34
  },
  {
   "cell_type": "code",
   "id": "92b9cd6d",
   "metadata": {
    "ExecuteTime": {
     "end_time": "2025-10-06T05:15:03.547676Z",
     "start_time": "2025-10-06T05:15:03.543662Z"
    }
   },
   "source": [
    "import matplotlib.pyplot as plt"
   ],
   "outputs": [],
   "execution_count": 35
  },
  {
   "cell_type": "markdown",
   "id": "e62bdc0d",
   "metadata": {},
   "source": [
    "## Optimizers in BrainPy"
   ]
  },
  {
   "cell_type": "markdown",
   "id": "712cb717-fd31-4711-a0cc-aaa43bf9d62a",
   "metadata": {},
   "source": [
    "The basic optimizer class in BrainPy is `brainpy.optimizers.optimizer`, which inludes the following optimizers:\n",
    "\n",
    "- SGD\n",
    "- Momentum\n",
    "- Nesterov momentum\n",
    "- Adagrad\n",
    "- Adadelta\n",
    "- RMSProp\n",
    "- Adam\n",
    "- LARS\n",
    "- Adan\n",
    "- AdamW\n",
    "\n",
    "All supported optimizers can be inspected through the [brainpy.math.optimizers APIs](../apis/auto/optimizers.rst)."
   ]
  },
  {
   "cell_type": "markdown",
   "id": "05adb1c4",
   "metadata": {},
   "source": [
    "Generally, an optimizer initialization receives the learning rate ``lr``, the trainable variables ``train_vars``, and other hyperparameters for the specific optimizer.  \n",
    "\n",
    "- ``lr`` can be an instance of float,``bm.Variable`` or ``brainpy.optim.scheduler``. However, whether it's an instance of float or ``bm.Variable``, it will be transformed to be an instance of ``brainpy.optim.Constant`` automatically, which is a class of scheduler. Therefore, the users have to  understand the type of ``lr`` is actually scheduler.\n",
    "- ``train_vars`` should be a dict of Variable."
   ]
  },
  {
   "cell_type": "markdown",
   "id": "180c2314",
   "metadata": {},
   "source": [
    "Here we launch a SGD optimizer."
   ]
  },
  {
   "cell_type": "code",
   "id": "2d716811",
   "metadata": {
    "ExecuteTime": {
     "end_time": "2025-10-06T05:15:03.569537Z",
     "start_time": "2025-10-06T05:15:03.554139Z"
    }
   },
   "source": [
    "a = bm.Variable(bm.ones((5, 4)))\n",
    "b = bm.Variable(bm.zeros((3, 3)))\n",
    "\n",
    "op = bp.optim.SGD(lr=0.001, train_vars={'a': a, 'b': b})"
   ],
   "outputs": [],
   "execution_count": 36
  },
  {
   "cell_type": "markdown",
   "id": "e9c3cb0d",
   "metadata": {},
   "source": [
    "When you try to update the parameters, you must provide the corresponding gradients for each parameter in the ``update()`` method. "
   ]
  },
  {
   "cell_type": "code",
   "id": "0d4449f3",
   "metadata": {
    "ExecuteTime": {
     "end_time": "2025-10-06T05:15:03.581251Z",
     "start_time": "2025-10-06T05:15:03.574101Z"
    }
   },
   "source": [
    "op.update({'a': bm.random.random(a.shape), 'b': bm.random.random(b.shape)})\n",
    "\n",
    "print('a:', a)\n",
    "print('b:', b)"
   ],
   "outputs": [
    {
     "name": "stdout",
     "output_type": "stream",
     "text": [
      "a: Variable(\n",
      "  value=ShapedArray(float32[5,4]),\n",
      "  _batch_axis=None,\n",
      "  axis_names=None\n",
      ")\n",
      "b: Variable(\n",
      "  value=ShapedArray(float32[3,3]),\n",
      "  _batch_axis=None,\n",
      "  axis_names=None\n",
      ")\n"
     ]
    }
   ],
   "execution_count": 37
  },
  {
   "cell_type": "markdown",
   "id": "f25554d5",
   "metadata": {},
   "source": [
    "You can process the gradients before applying them. For example, we clip the graidents by the maximum L2-norm. "
   ]
  },
  {
   "cell_type": "code",
   "id": "aad2ffcc",
   "metadata": {
    "ExecuteTime": {
     "end_time": "2025-10-06T05:15:03.606313Z",
     "start_time": "2025-10-06T05:15:03.599032Z"
    }
   },
   "source": [
    "grads_pre = {'a': bm.random.random(a.shape), 'b': bm.random.random(b.shape)}\n",
    "\n",
    "grads_pre"
   ],
   "outputs": [
    {
     "data": {
      "text/plain": [
       "{'a': Array([[0.76669514, 0.53197443, 0.18560624, 0.63484263],\n",
       "        [0.5859195 , 0.79874647, 0.04194212, 0.9483272 ],\n",
       "        [0.42012143, 0.9182961 , 0.06387115, 0.9356164 ],\n",
       "        [0.83041155, 0.31888366, 0.84094894, 0.20810902],\n",
       "        [0.23629928, 0.80462146, 0.71636903, 0.14623594]], dtype=float32),\n",
       " 'b': Array([[0.67210126, 0.14202476, 0.2031784 ],\n",
       "        [0.67333305, 0.6081852 , 0.8242061 ],\n",
       "        [0.8465828 , 0.47535837, 0.59738636]], dtype=float32)}"
      ]
     },
     "execution_count": 38,
     "metadata": {},
     "output_type": "execute_result"
    }
   ],
   "execution_count": 38
  },
  {
   "cell_type": "code",
   "id": "6f593769",
   "metadata": {
    "ExecuteTime": {
     "end_time": "2025-10-06T05:15:03.629993Z",
     "start_time": "2025-10-06T05:15:03.623237Z"
    }
   },
   "source": [
    "grads_post = bm.clip_by_norm(grads_pre, 1.)\n",
    "\n",
    "grads_post"
   ],
   "outputs": [
    {
     "data": {
      "text/plain": [
       "{'a': Array([[0.273306  , 0.18963446, 0.06616359, 0.22630417],\n",
       "        [0.2088644 , 0.28473145, 0.01495123, 0.33805293],\n",
       "        [0.14976189, 0.32734764, 0.02276833, 0.33352184],\n",
       "        [0.2960192 , 0.11367337, 0.29977548, 0.07418522],\n",
       "        [0.08423428, 0.28682572, 0.25536612, 0.05212915]], dtype=float32),\n",
       " 'b': Array([[0.36912522, 0.07800152, 0.11158776],\n",
       "        [0.36980173, 0.33402184, 0.45266286],\n",
       "        [0.46495235, 0.26107192, 0.328091  ]], dtype=float32)}"
      ]
     },
     "execution_count": 39,
     "metadata": {},
     "output_type": "execute_result"
    }
   ],
   "execution_count": 39
  },
  {
   "cell_type": "code",
   "id": "dba80baf",
   "metadata": {
    "ExecuteTime": {
     "end_time": "2025-10-06T05:15:03.651006Z",
     "start_time": "2025-10-06T05:15:03.644762Z"
    }
   },
   "source": [
    "op.update(grads_post)\n",
    "\n",
    "print('a:', a)\n",
    "print('b:', b)"
   ],
   "outputs": [
    {
     "name": "stdout",
     "output_type": "stream",
     "text": [
      "a: Variable(\n",
      "  value=ShapedArray(float32[5,4]),\n",
      "  _batch_axis=None,\n",
      "  axis_names=None\n",
      ")\n",
      "b: Variable(\n",
      "  value=ShapedArray(float32[3,3]),\n",
      "  _batch_axis=None,\n",
      "  axis_names=None\n",
      ")\n"
     ]
    }
   ],
   "execution_count": 40
  },
  {
   "cell_type": "markdown",
   "id": "05d98a0f",
   "metadata": {},
   "source": [
    "```{note}\n",
    "Optimizer usually has their own dynamically changed variables. If you JIT a function whose logic contains optimizer update, your ``dyn_vars`` in ``bm.jit()`` should include variables in ``Optimzier.vars()``.\n",
    "```"
   ]
  },
  {
   "cell_type": "code",
   "id": "efc5c686",
   "metadata": {
    "ExecuteTime": {
     "end_time": "2025-10-06T05:15:03.677233Z",
     "start_time": "2025-10-06T05:15:03.670058Z"
    }
   },
   "source": [
    "op.vars()  # SGD optimzier only has an iterable `step` variable to record the training step"
   ],
   "outputs": [
    {
     "data": {
      "text/plain": [
       "{'Constant9.last_epoch': Variable(\n",
       "   value=ShapedArray(int32[], weak_type=True),\n",
       "   _batch_axis=None,\n",
       "   axis_names=None\n",
       " )}"
      ]
     },
     "execution_count": 41,
     "metadata": {},
     "output_type": "execute_result"
    }
   ],
   "execution_count": 41
  },
  {
   "cell_type": "code",
   "id": "28965804",
   "metadata": {
    "ExecuteTime": {
     "end_time": "2025-10-06T05:15:03.713161Z",
     "start_time": "2025-10-06T05:15:03.694555Z"
    }
   },
   "source": [
    "bp.optim.Momentum(lr=0.001, train_vars={'a': a, 'b': b}).vars()  # Momentum has velocity variables"
   ],
   "outputs": [
    {
     "data": {
      "text/plain": [
       "{'Momentum3.a_v': Variable(\n",
       "   value=ShapedArray(float32[5,4]),\n",
       "   _batch_axis=None,\n",
       "   axis_names=None\n",
       " ),\n",
       " 'Momentum3.b_v': Variable(\n",
       "   value=ShapedArray(float32[3,3]),\n",
       "   _batch_axis=None,\n",
       "   axis_names=None\n",
       " ),\n",
       " 'Constant10.last_epoch': Variable(\n",
       "   value=ShapedArray(int32[], weak_type=True),\n",
       "   _batch_axis=None,\n",
       "   axis_names=None\n",
       " )}"
      ]
     },
     "execution_count": 42,
     "metadata": {},
     "output_type": "execute_result"
    }
   ],
   "execution_count": 42
  },
  {
   "cell_type": "code",
   "id": "fb272a40",
   "metadata": {
    "scrolled": true,
    "ExecuteTime": {
     "end_time": "2025-10-06T05:15:03.737804Z",
     "start_time": "2025-10-06T05:15:03.721194Z"
    }
   },
   "source": [
    "bp.optim.Adam(lr=0.001, train_vars={'a': a, 'b': b}).vars()  # Adam has more variables"
   ],
   "outputs": [
    {
     "data": {
      "text/plain": [
       "{'Adam3.a_m': Variable(\n",
       "   value=ShapedArray(float32[5,4]),\n",
       "   _batch_axis=None,\n",
       "   axis_names=None\n",
       " ),\n",
       " 'Adam3.b_m': Variable(\n",
       "   value=ShapedArray(float32[3,3]),\n",
       "   _batch_axis=None,\n",
       "   axis_names=None\n",
       " ),\n",
       " 'Adam3.a_v': Variable(\n",
       "   value=ShapedArray(float32[5,4]),\n",
       "   _batch_axis=None,\n",
       "   axis_names=None\n",
       " ),\n",
       " 'Adam3.b_v': Variable(\n",
       "   value=ShapedArray(float32[3,3]),\n",
       "   _batch_axis=None,\n",
       "   axis_names=None\n",
       " ),\n",
       " 'Constant11.last_epoch': Variable(\n",
       "   value=ShapedArray(int32[], weak_type=True),\n",
       "   _batch_axis=None,\n",
       "   axis_names=None\n",
       " )}"
      ]
     },
     "execution_count": 43,
     "metadata": {},
     "output_type": "execute_result"
    }
   ],
   "execution_count": 43
  },
  {
   "cell_type": "markdown",
   "id": "8325c2b3-4354-4dfd-a0d2-b4f734832e12",
   "metadata": {},
   "source": [
    "BrainPy also supports learning rate modification of optimizer. For example, an optimizer ``opt = bp.optim.Adam(lr=0.1)`` is created, we want to change the value ``lr=0.1`` into ``lr=0.01``, we can use ``opt.lr.lr=0.01`` or ``opt.lr.set_value(0.01)`` to achieve the goal.\n",
    "Here is a complete example."
   ]
  },
  {
   "cell_type": "code",
   "id": "b09adff4-89b8-42c9-a7e9-3e608ad2c6f5",
   "metadata": {
    "ExecuteTime": {
     "end_time": "2025-10-06T05:15:40.446023Z",
     "start_time": "2025-10-06T05:15:03.743444Z"
    }
   },
   "source": [
    "import brainpy as bp\n",
    "import brainpy.math as bm\n",
    "\n",
    "dt = 0.04\n",
    "num_step = int(1.0 / dt)\n",
    "num_batch = 128\n",
    "\n",
    "@bm.jit\n",
    "def build_inputs_and_targets(mean=0.025, scale=0.01):\n",
    "  sample = bm.random.normal(size=(num_batch, 1, 1))\n",
    "  bias = mean * 2.0 * (sample - 0.5)\n",
    "  samples = bm.random.normal(size=(num_batch, num_step, 1))\n",
    "  noise_t = scale / dt ** 0.5 * samples\n",
    "  inputs = bias + noise_t\n",
    "  targets = bm.cumsum(inputs, axis=1)\n",
    "  return inputs, targets\n",
    "\n",
    "def train_data():\n",
    "  for _ in range(100):\n",
    "    yield build_inputs_and_targets()\n",
    "\n",
    "class RNN(bp.DynamicalSystem):\n",
    "  def __init__(self, num_in, num_hidden):\n",
    "    super(RNN, self).__init__()\n",
    "    self.rnn = bp.dyn.RNNCell(num_in, num_hidden, train_state=True)\n",
    "    self.out = bp.dnn.Dense(num_hidden, 1)\n",
    "\n",
    "  def update(self, x):\n",
    "    return self.out(self.rnn(x))\n",
    "\n",
    "with bm.training_environment():\n",
    "    model = RNN(1, 100)\n",
    "\n",
    "def loss(predictions, targets, l2_reg=2e-4):\n",
    "    mse = bp.losses.mean_squared_error(predictions, targets)\n",
    "    l2 = l2_reg * bp.losses.l2_norm(model.train_vars().unique().dict()) ** 2\n",
    "    return mse + l2\n",
    "\n",
    "opt = bp.optim.Adam(lr=0.1)\n",
    "trainer = bp.BPTT(model, loss_fun=loss, optimizer=opt)\n",
    "opt.lr.lr=0.01        #Modify the learning rate. You can alse use \"opt.lr.set_value(0.01)\"\n",
    "trainer.fit(train_data, num_epoch=10)"
   ],
   "outputs": [
    {
     "name": "stdout",
     "output_type": "stream",
     "text": [
      "Train 0 epoch, use 4.0265 s, loss 5.584829807281494\n",
      "Train 1 epoch, use 3.4009 s, loss 0.04134882614016533\n",
      "Train 2 epoch, use 3.7700 s, loss 0.023480374366044998\n",
      "Train 3 epoch, use 3.3925 s, loss 0.0217495895922184\n",
      "Train 4 epoch, use 3.4066 s, loss 0.0214226134121418\n",
      "Train 5 epoch, use 3.7356 s, loss 0.021270286291837692\n",
      "Train 6 epoch, use 3.7256 s, loss 0.021091992035508156\n",
      "Train 7 epoch, use 3.4624 s, loss 0.020998552441596985\n",
      "Train 8 epoch, use 3.3258 s, loss 0.020898768678307533\n",
      "Train 9 epoch, use 3.5516 s, loss 0.020785270258784294\n"
     ]
    }
   ],
   "execution_count": 44
  },
  {
   "cell_type": "markdown",
   "id": "28a63538",
   "metadata": {},
   "source": [
    "## Creating A Self-Customized Optimizer"
   ]
  },
  {
   "cell_type": "markdown",
   "id": "f9900e42",
   "metadata": {},
   "source": [
    "To create your own optimization algorithm, simply inherit from ``bp.optim.Optimizer`` class and override the following methods:\n",
    "\n",
    "- ``__init__()``: init function that receives the learning rate (``lr``) and trainable variables (``train_vars``). Do not forget to register your dynamical changed variables into ``implicit_vars``. \n",
    "- ``update(grads)``: update function that computes the updated parameters. \n",
    "\n",
    "The general structure is shown below:"
   ]
  },
  {
   "cell_type": "code",
   "id": "f3c84821",
   "metadata": {
    "ExecuteTime": {
     "end_time": "2025-10-06T05:15:40.492833Z",
     "start_time": "2025-10-06T05:15:40.488749Z"
    }
   },
   "source": [
    "class CustomizeOp(bp.optim.Optimizer):\n",
    "    def __init__(self, lr, train_vars, *params, **other_params):\n",
    "        super(CustomizeOp, self).__init__(lr, train_vars)\n",
    "        \n",
    "        # customize your initialization\n",
    "        \n",
    "    def update(self, grads):\n",
    "        # customize your update logic\n",
    "        pass"
   ],
   "outputs": [],
   "execution_count": 45
  },
  {
   "cell_type": "markdown",
   "id": "f5b91a31",
   "metadata": {},
   "source": [
    "## Schedulers"
   ]
  },
  {
   "cell_type": "markdown",
   "id": "b2c277e6",
   "metadata": {},
   "source": [
    "Scheduler seeks to adjust the learning rate during training through reducing the learning rate according to a pre-defined schedule.  Common learning rate schedules include time-based decay, step decay and exponential decay. "
   ]
  },
  {
   "cell_type": "markdown",
   "id": "e2c504d7",
   "metadata": {},
   "source": [
    "Here we set up an exponential decay scheduler, in which the learning rate will decay exponentially along the training step."
   ]
  },
  {
   "cell_type": "code",
   "id": "75476a94",
   "metadata": {
    "ExecuteTime": {
     "end_time": "2025-10-06T05:15:40.526885Z",
     "start_time": "2025-10-06T05:15:40.503255Z"
    }
   },
   "source": [
    "sc = bp.optim.ExponentialDecayLR(lr=0.1, decay_steps=2, decay_rate=0.99)"
   ],
   "outputs": [],
   "execution_count": 46
  },
  {
   "cell_type": "code",
   "id": "fe673807",
   "metadata": {
    "ExecuteTime": {
     "end_time": "2025-10-06T05:15:40.534984Z",
     "start_time": "2025-10-06T05:15:40.530546Z"
    }
   },
   "source": [
    "def show(steps, rates):\n",
    "    plt.plot(steps, rates)\n",
    "    plt.xlabel('Train Step')\n",
    "    plt.ylabel('Learning Rate')\n",
    "    plt.show()"
   ],
   "outputs": [],
   "execution_count": 47
  },
  {
   "cell_type": "code",
   "id": "8c0b8a9c",
   "metadata": {
    "ExecuteTime": {
     "end_time": "2025-10-06T05:15:40.759965Z",
     "start_time": "2025-10-06T05:15:40.548977Z"
    }
   },
   "source": [
    "steps = bm.arange(1000)\n",
    "rates = sc(steps)\n",
    "\n",
    "show(steps, rates)"
   ],
   "outputs": [
    {
     "data": {
      "text/plain": [
       "<Figure size 640x480 with 1 Axes>"
      ],
      "image/png": "[encoded data removed]"
     },
     "metadata": {},
     "output_type": "display_data",
     "jetTransient": {
      "display_id": null
     }
    }
   ],
   "execution_count": 48
  },
  {
   "cell_type": "markdown",
   "id": "2958e220",
   "metadata": {},
   "source": [
    "After Optimizer initialization, the learning rate ``self.lr`` will always be an instance of ``bm.optimizers.Scheduler``. A scalar float learning rate initialization will result in a ``Constant`` scheduler. "
   ]
  },
  {
   "cell_type": "code",
   "id": "d67a3c6e",
   "metadata": {
    "ExecuteTime": {
     "end_time": "2025-10-06T05:15:40.807673Z",
     "start_time": "2025-10-06T05:15:40.802536Z"
    }
   },
   "source": [
    "op.lr"
   ],
   "outputs": [
    {
     "data": {
      "text/plain": [
       "Constant(lr=0.001, last_epoch=-1)"
      ]
     },
     "execution_count": 49,
     "metadata": {},
     "output_type": "execute_result"
    }
   ],
   "execution_count": 49
  },
  {
   "cell_type": "markdown",
   "id": "83340b85",
   "metadata": {},
   "source": [
    "One can get the current learning rate value by calling ``Scheduler.__call__(i=None)``.\n",
    "\n",
    "- If `i` is not provided, the learning rate value will be evaluated at the built-in training ``step``.\n",
    "- Otherwise, the learning rate value will be evaluated at the given step ``i``. "
   ]
  },
  {
   "cell_type": "code",
   "id": "7b5dd012",
   "metadata": {
    "ExecuteTime": {
     "end_time": "2025-10-06T05:15:40.827889Z",
     "start_time": "2025-10-06T05:15:40.823688Z"
    }
   },
   "source": [
    "op.lr()"
   ],
   "outputs": [
    {
     "data": {
      "text/plain": [
       "0.001"
      ]
     },
     "execution_count": 50,
     "metadata": {},
     "output_type": "execute_result"
    }
   ],
   "execution_count": 50
  },
  {
   "cell_type": "markdown",
   "id": "029e39db",
   "metadata": {},
   "source": [
    "In BrainPy, several commonly used learning rate schedulers are used:\n",
    "\n",
    "- Constant\n",
    "- StepLR\n",
    "- MultiStepLR\n",
    "- CosineAnnealingLR\n",
    "- ExponentialLR\n",
    "- ExponentialDecayLR\n",
    "- InverseTimeDecayLR\n",
    "- PolynomialDecayLR\n",
    "- PiecewiseConstantLR\n",
    "- CosineAnnealingWarmRestarts\n",
    "\n",
    "For more details, please see the [brainpy.math.optimizers APIs](../apis/auto/math/optimizers.rst). \n"
   ]
  },
  {
   "cell_type": "code",
   "id": "f5da4916",
   "metadata": {
    "ExecuteTime": {
     "end_time": "2025-10-06T05:15:41.032837Z",
     "start_time": "2025-10-06T05:15:40.833291Z"
    }
   },
   "source": [
    "# InverseTimeDecay scheduler\n",
    "\n",
    "rates = bp.optim.InverseTimeDecayLR(lr=0.01, decay_steps=10, decay_rate=0.999)(steps)\n",
    "show(steps, rates)"
   ],
   "outputs": [
    {
     "data": {
      "text/plain": [
       "<Figure size 640x480 with 1 Axes>"
      ],
      "image/png": "[encoded data removed]"
     },
     "metadata": {},
     "output_type": "display_data",
     "jetTransient": {
      "display_id": null
     }
    }
   ],
   "execution_count": 51
  },
  {
   "cell_type": "code",
   "id": "8a49e917",
   "metadata": {
    "ExecuteTime": {
     "end_time": "2025-10-06T05:15:41.270430Z",
     "start_time": "2025-10-06T05:15:41.039310Z"
    }
   },
   "source": [
    "# PolynomialDecay scheduler\n",
    "\n",
    "rates = bp.optim.PolynomialDecayLR(lr=0.01, decay_steps=10, final_lr=0.0001)(steps)\n",
    "show(steps, rates)"
   ],
   "outputs": [
    {
     "data": {
      "text/plain": [
       "<Figure size 640x480 with 1 Axes>"
      ],
      "image/png": "[encoded data removed]"
     },
     "metadata": {},
     "output_type": "display_data",
     "jetTransient": {
      "display_id": null
     }
    }
   ],
   "execution_count": 52
  },
  {
   "cell_type": "markdown",
   "id": "3ef61151",
   "metadata": {},
   "source": [
    "## Creating a Self-Customized Scheduler"
   ]
  },
  {
   "cell_type": "markdown",
   "id": "9dd71dab",
   "metadata": {},
   "source": [
    "If users try to implement their own scheduler, simply inherit from ``bm.optimizers.Scheduler`` class and override the following methods:\n",
    "\n",
    "- ``__init__()``: the init function. \n",
    "- ``__call__(i=None)``: the learning rate value evalution. "
   ]
  },
  {
   "cell_type": "code",
   "id": "7466e67c",
   "metadata": {
    "ExecuteTime": {
     "end_time": "2025-10-06T05:15:41.288035Z",
     "start_time": "2025-10-06T05:15:41.283285Z"
    }
   },
   "source": [
    "class CustomizeScheduler(bp.optim.Scheduler):\n",
    "    def __init__(self, lr, *params, **other_params):\n",
    "        super(CustomizeScheduler, self).__init__(lr)\n",
    "        \n",
    "        # customize your initialization\n",
    "        \n",
    "    def __call__(self, i=None):\n",
    "        # customize your update logic\n",
    "        pass"
   ],
   "outputs": [],
   "execution_count": 53
  }
 ],
 "metadata": {
  "kernelspec": {
   "display_name": "Python 3 (ipykernel)",
   "language": "python",
   "name": "python3"
  },
  "language_info": {
   "codemirror_mode": {
    "name": "ipython",
    "version": 3
   },
   "file_extension": ".py",
   "mimetype": "text/x-python",
   "name": "python",
   "nbconvert_exporter": "python",
   "pygments_lexer": "ipython3",
   "version": "3.9.1"
  },
  "latex_envs": {
   "LaTeX_envs_menu_present": true,
   "autoclose": false,
   "autocomplete": true,
   "bibliofile": "biblio.bib",
   "cite_by": "apalike",
   "current_citInitial": 1,
   "eqLabelWithNumbers": true,
   "eqNumInitial": 1,
   "hotkeys": {
    "equation": "Ctrl-E",
    "itemize": "Ctrl-I"
   },
   "labels_anchors": false,
   "latex_user_defs": false,
   "report_style_numbering": false,
   "user_envs_cfg": false
  },
  "toc": {
   "base_numbering": 1,
   "nav_menu": {},
   "number_sections": false,
   "sideBar": true,
   "skip_h1_title": false,
   "title_cell": "Table of Contents",
   "title_sidebar": "Contents",
   "toc_cell": false,
   "toc_position": {},
   "toc_section_display": true,
   "toc_window_display": true
  }
 },
 "nbformat": 4,
 "nbformat_minor": 5
}
