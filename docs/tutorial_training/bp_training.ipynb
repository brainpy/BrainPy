{
 "cells": [
  {
   "cell_type": "markdown",
   "metadata": {
    "collapsed": false
   },
   "source": [
    "# Training with Back-propagation Algorithms\n",
    "\n",
    "[![Colab](https://colab.research.google.com/assets/colab-badge.svg)](https://colab.research.google.com/github/brainpy/brainpy/blob/master/docs/tutorial_training/bp_training.ipynb)"
   ]
  },
  {
   "cell_type": "markdown",
   "metadata": {
    "collapsed": false
   },
   "source": [
    "Back-propagation (BP) trainings have become foundations in machine learning algorithms. In this section, we are going to talk about how to train models with BP."
   ]
  },
  {
   "cell_type": "code",
   "execution_count": 13,
   "metadata": {
    "ExecuteTime": {
     "end_time": "2024-01-13T09:05:29.721461300Z",
     "start_time": "2024-01-13T09:05:29.283925600Z"
    },
    "collapsed": false
   },
   "outputs": [
    {
     "data": {
      "text/plain": [
       "'2.5.0'"
      ]
     },
     "execution_count": 13,
     "metadata": {},
     "output_type": "execute_result"
    }
   ],
   "source": [
    "import brainpy as bp\n",
    "import brainpy.math as bm\n",
    "import brainpy_datasets as bd\n",
    "import numpy as np\n",
    "\n",
    "bm.set_mode(bm.training_mode)  # set training mode, the models will compute with the training mode\n",
    "bm.set_platform('cpu')\n",
    "\n",
    "bp.__version__"
   ]
  },
  {
   "cell_type": "markdown",
   "metadata": {
    "collapsed": false
   },
   "source": [
    "Here, we train two kinds of models to classify MNIST dataset. The first is ANN models commonly used in deep neural networks. The second is SNN models."
   ]
  },
  {
   "cell_type": "markdown",
   "metadata": {
    "collapsed": false
   },
   "source": [
    "## Train a ANN model"
   ]
  },
  {
   "cell_type": "markdown",
   "metadata": {
    "collapsed": false
   },
   "source": [
    "We first build a three layer ANN model:\n",
    "\n",
    "```bash\n",
    "\n",
    "i >> r >> o\n",
    "```\n",
    "\n",
    "where the recurrent layer ``r`` is a LSTM cell, the output ``o`` is a linear readout."
   ]
  },
  {
   "cell_type": "code",
   "execution_count": 2,
   "metadata": {
    "ExecuteTime": {
     "end_time": "2024-01-13T08:50:04.157337200Z",
     "start_time": "2024-01-13T08:50:04.140080700Z"
    },
    "collapsed": false
   },
   "outputs": [],
   "source": [
    "class ANNModel(bp.DynamicalSystem):\n",
    "    def __init__(self, num_in, num_rec, num_out):\n",
    "        super(ANNModel, self).__init__()\n",
    "        self.rec = bp.dyn.LSTMCell(num_in, num_rec)\n",
    "        self.out = bp.dnn.Dense(num_rec, num_out)\n",
    "\n",
    "    def update(self, x):\n",
    "        return x >> self.rec >> self.out"
   ]
  },
  {
   "cell_type": "markdown",
   "metadata": {
    "collapsed": false
   },
   "source": [
    "Before training this model, we get and clean the data we want."
   ]
  },
  {
   "cell_type": "code",
   "execution_count": 3,
   "metadata": {
    "ExecuteTime": {
     "end_time": "2024-01-13T08:50:06.246666200Z",
     "start_time": "2024-01-13T08:50:06.210747900Z"
    },
    "collapsed": false
   },
   "outputs": [],
   "source": [
    "root = r\"D:\\data\"\n",
    "train_dataset = bd.vision.FashionMNIST(root, split='train', download=True)\n",
    "test_dataset = bd.vision.FashionMNIST(root, split='test', download=True)\n",
    "\n",
    "\n",
    "def get_data(dataset, batch_size=256):\n",
    "  rng = bm.random.default_rng()\n",
    "\n",
    "  def data_generator():\n",
    "    X = bm.array(dataset.data, dtype=bm.float_) / 255\n",
    "    Y = bm.array(dataset.targets, dtype=bm.float_)\n",
    "    key = rng.split_key()\n",
    "    rng.shuffle(X, key=key)\n",
    "    rng.shuffle(Y, key=key)\n",
    "    for i in range(0, len(dataset), batch_size):\n",
    "      yield X[i: i + batch_size], Y[i: i + batch_size]\n",
    "\n",
    "  return data_generator"
   ]
  },
  {
   "cell_type": "markdown",
   "metadata": {
    "collapsed": false
   },
   "source": [
    "Then, we start to train our defined ANN model with ``brainpy.train.BPTT`` training interface."
   ]
  },
  {
   "cell_type": "code",
   "execution_count": 4,
   "metadata": {
    "ExecuteTime": {
     "end_time": "2024-01-13T08:50:09.743113700Z",
     "start_time": "2024-01-13T08:50:08.517344500Z"
    },
    "collapsed": false
   },
   "outputs": [],
   "source": [
    "# model\n",
    "model = ANNModel(28, 100, 10)\n",
    "\n",
    "# loss function\n",
    "def loss_fun(predicts, targets):\n",
    "    predicts = bm.max(predicts, axis=1)\n",
    "    loss = bp.losses.cross_entropy_loss(predicts, targets)\n",
    "    acc = bm.mean(predicts.argmax(axis=-1) == targets)\n",
    "    return loss, {'acc': acc}\n",
    "\n",
    "# optimizer\n",
    "optimizer=bp.optim.Adam(lr=1e-3)\n",
    "\n",
    "# trainer\n",
    "trainer = bp.BPTT(model,\n",
    "                 loss_fun=loss_fun,\n",
    "                 loss_has_aux=True,\n",
    "                 optimizer=optimizer)"
   ]
  },
  {
   "cell_type": "code",
   "execution_count": 5,
   "metadata": {
    "ExecuteTime": {
     "end_time": "2024-01-13T08:26:35.104829700Z",
     "start_time": "2024-01-13T08:23:50.886538200Z"
    },
    "collapsed": false
   },
   "outputs": [
    {
     "name": "stdout",
     "output_type": "stream",
     "text": [
      "Train 0 epoch, use 18.3506 s, loss 0.7428755164146423, acc 0.7363530397415161\n",
      "Test 0 epoch, use 2.6725 s, loss 0.5576136708259583, acc 0.7941579222679138\n",
      "Train 1 epoch, use 16.8257 s, loss 0.49522149562835693, acc 0.8228002786636353\n",
      "Test 1 epoch, use 0.8004 s, loss 0.49448657035827637, acc 0.8226505517959595\n",
      "Train 2 epoch, use 16.9939 s, loss 0.46214181184768677, acc 0.8340814113616943\n",
      "Test 2 epoch, use 0.9073 s, loss 0.4779117703437805, acc 0.829509437084198\n",
      "Train 3 epoch, use 16.8647 s, loss 0.44188451766967773, acc 0.8404809832572937\n",
      "Test 3 epoch, use 0.8124 s, loss 0.4663679301738739, acc 0.8316060900688171\n",
      "Train 4 epoch, use 16.1298 s, loss 0.4282640814781189, acc 0.8446531891822815\n",
      "Test 4 epoch, use 0.8153 s, loss 0.4542137086391449, acc 0.8341854214668274\n",
      "Train 5 epoch, use 15.6680 s, loss 0.41988351941108704, acc 0.8464982509613037\n",
      "Test 5 epoch, use 0.8146 s, loss 0.4481014907360077, acc 0.8375803828239441\n",
      "Train 6 epoch, use 14.4913 s, loss 0.4098776876926422, acc 0.8514517545700073\n",
      "Test 6 epoch, use 0.5594 s, loss 0.4398559033870697, acc 0.8402113914489746\n",
      "Train 7 epoch, use 14.1168 s, loss 0.4020034968852997, acc 0.8549756407737732\n",
      "Test 7 epoch, use 0.7845 s, loss 0.4330603778362274, acc 0.8429400324821472\n",
      "Train 8 epoch, use 12.5251 s, loss 0.3960183560848236, acc 0.8563995957374573\n",
      "Test 8 epoch, use 0.6067 s, loss 0.42536696791648865, acc 0.8437040448188782\n",
      "Train 9 epoch, use 12.4504 s, loss 0.3891957700252533, acc 0.8586103916168213\n",
      "Test 9 epoch, use 0.7093 s, loss 0.42744284868240356, acc 0.8430147171020508\n"
     ]
    }
   ],
   "source": [
    "trainer.fit(train_data=get_data(train_dataset, 256),\n",
    "            test_data=get_data(test_dataset, 512),\n",
    "            num_epoch=10)"
   ]
  },
  {
   "cell_type": "code",
   "execution_count": 6,
   "metadata": {
    "ExecuteTime": {
     "end_time": "2024-01-13T08:26:35.728528700Z",
     "start_time": "2024-01-13T08:26:35.098672100Z"
    },
    "collapsed": false
   },
   "outputs": [
    {
     "data": {
      "image/png": "[encoded data removed]",
      "text/plain": [
       "<Figure size 640x480 with 1 Axes>"
      ]
     },
     "metadata": {},
     "output_type": "display_data"
    }
   ],
   "source": [
    "import matplotlib.pyplot as plt\n",
    "\n",
    "plt.plot(trainer.get_hist_metric('fit'), label='fit')\n",
    "plt.plot(trainer.get_hist_metric('test'), label='train')\n",
    "plt.xlabel(\"Epoch\")\n",
    "plt.ylabel(\"Loss\")\n",
    "plt.legend()\n",
    "plt.show()"
   ]
  },
  {
   "cell_type": "markdown",
   "metadata": {
    "collapsed": false
   },
   "source": [
    "## Train a SNN model"
   ]
  },
  {
   "cell_type": "markdown",
   "metadata": {
    "collapsed": false
   },
   "source": [
    "Similarly, ``brainpy.train.BPTT`` can also be used to train SNN models.\n",
    "\n",
    "We first build a three layer SNN model:\n",
    "\n",
    "```bash\n",
    "\n",
    "i >> [exponential synapse] >> r >> [exponential synapse] >> o\n",
    "```"
   ]
  },
  {
   "cell_type": "code",
   "execution_count": 9,
   "metadata": {
    "ExecuteTime": {
     "end_time": "2024-01-13T08:51:17.878791500Z",
     "start_time": "2024-01-13T08:51:17.851882800Z"
    },
    "collapsed": false
   },
   "outputs": [],
   "source": [
    "class SNNModel(bp.DynamicalSystem):\n",
    "  def __init__(self, num_in, num_rec, num_out):\n",
    "    super(SNNModel, self).__init__()\n",
    "\n",
    "    # parameters\n",
    "    self.num_in = num_in\n",
    "    self.num_rec = num_rec\n",
    "    self.num_out = num_out\n",
    "\n",
    "    # neuron groups\n",
    "    self.r = bp.dyn.LifRef(num_rec, tau=10, V_reset=0, V_rest=0, V_th=1.)\n",
    "    self.o = bp.dyn.Leaky(num_out, tau=5)\n",
    "\n",
    "    # synapse: i->r\n",
    "    self.i2r = bp.dyn.HalfProjAlignPost(comm=bp.dnn.Linear(num_in, num_rec, bp.init.KaimingNormal(scale=2.)),\n",
    "                                        syn=bp.dyn.Expon(num_rec, tau=10.),\n",
    "                                        out=bp.dyn.CUBA(),\n",
    "                                        post=self.r)\n",
    "    # synapse: r->o\n",
    "    self.r2o = bp.dyn.HalfProjAlignPost(comm=bp.dnn.Linear(num_rec, num_out, bp.init.KaimingNormal(scale=2.)),\n",
    "                                        syn=bp.dyn.Expon(num_out, tau=10.),\n",
    "                                        out=bp.dyn.CUBA(),\n",
    "                                        post=self.o)\n",
    "\n",
    "  def update(self, spike):\n",
    "    self.i2r(spike)\n",
    "    self.r2o(self.r.spike.value)\n",
    "    self.r()\n",
    "    self.o()\n",
    "    return self.o.x.value"
   ]
  },
  {
   "cell_type": "markdown",
   "metadata": {
    "collapsed": false
   },
   "source": [
    "As the model receives spiking inputs, we define functions that are necessary to transform the continuous values to spiking data."
   ]
  },
  {
   "cell_type": "code",
   "execution_count": 6,
   "metadata": {
    "ExecuteTime": {
     "end_time": "2024-01-13T08:50:19.098345900Z",
     "start_time": "2024-01-13T08:50:19.091227600Z"
    },
    "collapsed": false
   },
   "outputs": [],
   "source": [
    "def current2firing_time(x, tau=20., thr=0.2, tmax=1.0, epsilon=1e-7):\n",
    "  x = np.clip(x, thr + epsilon, 1e9)\n",
    "  T = tau * np.log(x / (x - thr))\n",
    "  T = np.where(x < thr, tmax, T)\n",
    "  return T\n",
    "\n",
    "def sparse_data_generator(X, y, batch_size, nb_steps, nb_units, shuffle=True):\n",
    "  labels_ = np.array(y, dtype=bm.int_)\n",
    "  sample_index = np.arange(len(X))\n",
    "\n",
    "  # compute discrete firing times\n",
    "  tau_eff = 2. / bm.get_dt()\n",
    "  unit_numbers = np.arange(nb_units)\n",
    "  firing_times = np.array(current2firing_time(X, tau=tau_eff, tmax=nb_steps), dtype=bm.int_)\n",
    "\n",
    "  if shuffle:\n",
    "    np.random.shuffle(sample_index)\n",
    "\n",
    "  counter = 0\n",
    "  number_of_batches = len(X) // batch_size\n",
    "  while counter < number_of_batches:\n",
    "    batch_index = sample_index[batch_size * counter:batch_size * (counter + 1)]\n",
    "    all_batch, all_times, all_units = [], [], []\n",
    "    for bc, idx in enumerate(batch_index):\n",
    "      c = firing_times[idx] < nb_steps\n",
    "      times, units = firing_times[idx][c], unit_numbers[c]\n",
    "      batch = bc * np.ones(len(times), dtype=bm.int_)\n",
    "      all_batch.append(batch)\n",
    "      all_times.append(times)\n",
    "      all_units.append(units)\n",
    "    all_batch = np.concatenate(all_batch).flatten()\n",
    "    all_times = np.concatenate(all_times).flatten()\n",
    "    all_units = np.concatenate(all_units).flatten()\n",
    "    x_batch = bm.zeros((batch_size, nb_steps, nb_units))\n",
    "    x_batch[all_batch, all_times, all_units] = 1.\n",
    "    y_batch = bm.asarray(labels_[batch_index])\n",
    "    yield x_batch, y_batch\n",
    "    counter += 1"
   ]
  },
  {
   "cell_type": "markdown",
   "metadata": {
    "collapsed": false
   },
   "source": [
    "Now, we can define a BP trainer for this SNN model."
   ]
  },
  {
   "cell_type": "code",
   "execution_count": 10,
   "metadata": {
    "ExecuteTime": {
     "end_time": "2024-01-13T08:51:22.363907900Z",
     "start_time": "2024-01-13T08:51:21.746626200Z"
    },
    "collapsed": false
   },
   "outputs": [],
   "source": [
    "def loss_fun(predicts, targets):\n",
    "    predicts, mon = predicts\n",
    "    # L1 loss on total number of spikes\n",
    "    l1_loss = 1e-5 * bm.sum(mon['r.spike'])\n",
    "    # L2 loss on spikes per neuron\n",
    "    l2_loss = 1e-5 * bm.mean(bm.sum(bm.sum(mon['r.spike'], axis=0), axis=0) ** 2)\n",
    "    # predictions\n",
    "    predicts = bm.max(predicts, axis=1)\n",
    "    loss = bp.losses.cross_entropy_loss(predicts, targets)\n",
    "    acc = bm.mean(predicts.argmax(-1) == targets)\n",
    "    return loss + l2_loss + l1_loss, {'acc': acc}\n",
    "\n",
    "model = SNNModel(num_in=28*28, num_rec=100, num_out=10)\n",
    "\n",
    "trainer = bp.BPTT(\n",
    "    model,\n",
    "    loss_fun=loss_fun,\n",
    "    loss_has_aux=True,\n",
    "    optimizer=bp.optim.Adam(lr=1e-3),\n",
    "    monitors={'r.spike': model.r.spike},\n",
    ")"
   ]
  },
  {
   "cell_type": "markdown",
   "metadata": {
    "collapsed": false
   },
   "source": [
    "The training process is similar to that of the ANN model, instead of the data is generated by the sparse generator function we defined above."
   ]
  },
  {
   "cell_type": "code",
   "execution_count": 11,
   "metadata": {
    "ExecuteTime": {
     "end_time": "2024-01-13T09:02:11.510933Z",
     "start_time": "2024-01-13T08:51:23.628031300Z"
    },
    "collapsed": false
   },
   "outputs": [
    {
     "name": "stdout",
     "output_type": "stream",
     "text": [
      "Train 0 epoch, use 81.7961 s, loss 1.7836289405822754, acc 0.26856303215026855\n",
      "Train 1 epoch, use 110.9031 s, loss 1.716126561164856, acc 0.28009817004203796\n",
      "Train 2 epoch, use 121.7257 s, loss 1.703003168106079, acc 0.28330329060554504\n",
      "Train 3 epoch, use 152.4789 s, loss 1.6957000494003296, acc 0.2849225401878357\n",
      "Train 4 epoch, use 180.2322 s, loss 1.6888805627822876, acc 0.2862913906574249\n"
     ]
    }
   ],
   "source": [
    "x_train = bm.array(train_dataset.data, dtype=bm.float_) / 255\n",
    "y_train = bm.array(train_dataset.targets, dtype=bm.int_)\n",
    "\n",
    "trainer.fit(lambda: sparse_data_generator(x_train.reshape(x_train.shape[0], -1),\n",
    "                                          y_train,\n",
    "                                          batch_size=256,\n",
    "                                          nb_steps=100,\n",
    "                                          nb_units=28 * 28),\n",
    "            num_epoch=5)"
   ]
  },
  {
   "cell_type": "code",
   "execution_count": 14,
   "metadata": {
    "ExecuteTime": {
     "end_time": "2024-01-13T09:05:36.267895100Z",
     "start_time": "2024-01-13T09:05:36.138927700Z"
    },
    "collapsed": false
   },
   "outputs": [
    {
     "data": {
      "image/png": "[encoded data removed]",
      "text/plain": [
       "<Figure size 640x480 with 1 Axes>"
      ]
     },
     "metadata": {},
     "output_type": "display_data"
    }
   ],
   "source": [
    "plt.plot(trainer.get_hist_metric('fit'), label='fit')\n",
    "plt.xlabel(\"Epoch\")\n",
    "plt.ylabel(\"Loss\")\n",
    "plt.legend()\n",
    "plt.show()"
   ]
  },
  {
   "cell_type": "markdown",
   "metadata": {
    "collapsed": false
   },
   "source": [
    "## Customize your BP training"
   ]
  },
  {
   "cell_type": "markdown",
   "metadata": {
    "collapsed": false
   },
   "source": [
    "Actually, ``brainpy.train.BPTT`` is just one way to perform back-propagation training with your model. You can easily customize your training process.\n",
    "\n",
    "In the below, we demonstrate how to define a BP training process by hand with the above ANN model."
   ]
  },
  {
   "cell_type": "code",
   "execution_count": 15,
   "metadata": {
    "ExecuteTime": {
     "end_time": "2024-01-13T09:05:39.545832Z",
     "start_time": "2024-01-13T09:05:39.538563Z"
    },
    "collapsed": false
   },
   "outputs": [],
   "source": [
    "# packages we need\n",
    "\n",
    "from time import time"
   ]
  },
  {
   "cell_type": "code",
   "execution_count": 16,
   "metadata": {
    "ExecuteTime": {
     "end_time": "2024-01-13T09:05:41.104484500Z",
     "start_time": "2024-01-13T09:05:39.959724100Z"
    },
    "collapsed": false
   },
   "outputs": [],
   "source": [
    "# define the model\n",
    "model = ANNModel(28, 100, 10)"
   ]
  },
  {
   "cell_type": "code",
   "execution_count": 17,
   "metadata": {
    "ExecuteTime": {
     "end_time": "2024-01-13T09:05:41.116952500Z",
     "start_time": "2024-01-13T09:05:41.107734700Z"
    },
    "collapsed": false
   },
   "outputs": [],
   "source": [
    "# define the loss function\n",
    "def loss_fun(inputs, targets):\n",
    "  runner = bp.DSTrainer(model, progress_bar=False, numpy_mon_after_run=False)\n",
    "  predicts = runner.predict(inputs, reset_state=True)\n",
    "  predicts = bm.max(predicts, axis=1)\n",
    "  loss = bp.losses.cross_entropy_loss(predicts, targets)\n",
    "  acc = bm.mean(predicts.argmax(-1) == targets)\n",
    "  return loss, acc"
   ]
  },
  {
   "cell_type": "code",
   "execution_count": 18,
   "metadata": {
    "ExecuteTime": {
     "end_time": "2024-01-13T09:05:41.783758700Z",
     "start_time": "2024-01-13T09:05:41.775583Z"
    },
    "collapsed": false
   },
   "outputs": [],
   "source": [
    "# define the gradient function which computes the\n",
    "# gradients of the trainable weights\n",
    "grad_fun = bm.grad(loss_fun,\n",
    "                   grad_vars=model.train_vars().unique(),\n",
    "                   has_aux=True,\n",
    "                   return_value=True)"
   ]
  },
  {
   "cell_type": "code",
   "execution_count": 19,
   "metadata": {
    "ExecuteTime": {
     "end_time": "2024-01-13T09:05:42.802779100Z",
     "start_time": "2024-01-13T09:05:42.679333700Z"
    },
    "collapsed": false
   },
   "outputs": [],
   "source": [
    "# define the optimizer we need\n",
    "opt = bp.optim.Adam(lr=1e-3, train_vars=model.train_vars().unique())"
   ]
  },
  {
   "cell_type": "code",
   "execution_count": 20,
   "metadata": {
    "ExecuteTime": {
     "end_time": "2024-01-13T09:05:43.129074800Z",
     "start_time": "2024-01-13T09:05:43.121707300Z"
    },
    "collapsed": false
   },
   "outputs": [],
   "source": [
    "# training function\n",
    "\n",
    "@bm.jit\n",
    "def train(xs, ys):\n",
    "  grads, loss, acc = grad_fun(xs, ys)\n",
    "  opt.update(grads)\n",
    "  return loss, acc"
   ]
  },
  {
   "cell_type": "code",
   "execution_count": 21,
   "metadata": {
    "ExecuteTime": {
     "end_time": "2024-01-13T09:26:02.838665200Z",
     "start_time": "2024-01-13T09:05:43.623356100Z"
    },
    "collapsed": false
   },
   "outputs": [
    {
     "name": "stdout",
     "output_type": "stream",
     "text": [
      "Step 100, Used 58.4698 s, Loss 1.0859, Acc 0.6189\n",
      "Step 200, Used 54.3465 s, Loss 0.5739, Acc 0.7942\n",
      "Step 300, Used 56.5062 s, Loss 0.5237, Acc 0.8098\n",
      "Step 400, Used 50.5268 s, Loss 0.4835, Acc 0.8253\n",
      "Step 500, Used 50.2707 s, Loss 0.4628, Acc 0.8318\n",
      "Step 600, Used 50.5184 s, Loss 0.4580, Acc 0.8305\n",
      "Step 700, Used 50.7511 s, Loss 0.4345, Acc 0.8420\n",
      "Step 800, Used 51.9514 s, Loss 0.4368, Acc 0.8414\n",
      "Step 900, Used 51.5502 s, Loss 0.4128, Acc 0.8491\n",
      "Step 1000, Used 51.4087 s, Loss 0.4140, Acc 0.8493\n",
      "Step 1100, Used 50.1260 s, Loss 0.4113, Acc 0.8484\n",
      "Step 1200, Used 50.2568 s, Loss 0.4038, Acc 0.8523\n",
      "Step 1300, Used 51.7090 s, Loss 0.3912, Acc 0.8555\n",
      "Step 1400, Used 51.2418 s, Loss 0.3937, Acc 0.8554\n",
      "Step 1500, Used 50.1411 s, Loss 0.3870, Acc 0.8577\n",
      "Step 1600, Used 50.4968 s, Loss 0.3765, Acc 0.8625\n",
      "Step 1700, Used 50.8128 s, Loss 0.3811, Acc 0.8599\n",
      "Step 1800, Used 52.4883 s, Loss 0.3744, Acc 0.8648\n",
      "Step 1900, Used 55.2034 s, Loss 0.3686, Acc 0.8652\n",
      "Step 2000, Used 51.4456 s, Loss 0.3738, Acc 0.8631\n",
      "Step 2100, Used 51.8214 s, Loss 0.3593, Acc 0.8697\n",
      "Step 2200, Used 50.2470 s, Loss 0.3571, Acc 0.8694\n",
      "Step 2300, Used 51.7452 s, Loss 0.3623, Acc 0.8680\n"
     ]
    }
   ],
   "source": [
    "# start training\n",
    "\n",
    "k = 0\n",
    "num_batch = 256\n",
    "running_loss = 0\n",
    "running_acc = 0\n",
    "print_step = 100\n",
    "X_train = bm.asarray(x_train)\n",
    "Y_train = bm.asarray(y_train)\n",
    "t0 = time()\n",
    "for _ in range(10):  # number of epoch\n",
    "  X_train = bm.random.permutation(X_train, key=123)\n",
    "  Y_train = bm.random.permutation(Y_train, key=123)\n",
    "\n",
    "  for i in range(0, X_train.shape[0], num_batch):\n",
    "    X = X_train[i: i + num_batch]\n",
    "    Y = Y_train[i: i + num_batch]\n",
    "    loss_, acc_ = train(X, Y)\n",
    "    running_loss += loss_\n",
    "    running_acc += acc_\n",
    "    k += 1\n",
    "    if k % print_step == 0:\n",
    "      print('Step {}, Used {:.4f} s, Loss {:0.4f}, Acc {:0.4f}'.format(\n",
    "        k, time() - t0,  running_loss / print_step, running_acc / print_step)\n",
    "      )\n",
    "      t0 = time()\n",
    "      running_loss = 0\n",
    "      running_acc = 0"
   ]
  }
 ],
 "metadata": {
  "kernelspec": {
   "display_name": "Python 3",
   "language": "python",
   "name": "python3"
  },
  "language_info": {
   "codemirror_mode": {
    "name": "ipython",
    "version": 2
   },
   "file_extension": ".py",
   "mimetype": "text/x-python",
   "name": "python",
   "nbconvert_exporter": "python",
   "pygments_lexer": "ipython2",
   "version": "2.7.6"
  }
 },
 "nbformat": 4,
 "nbformat_minor": 0
}
