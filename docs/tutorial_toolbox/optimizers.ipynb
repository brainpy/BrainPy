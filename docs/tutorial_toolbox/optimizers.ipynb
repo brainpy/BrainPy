{
 "cells": [
  {
   "cell_type": "markdown",
   "id": "e42071e4",
   "metadata": {},
   "source": [
    "# Gradient Descent Optimizers\n",
    "\n",
    "[![Colab](https://colab.research.google.com/assets/colab-badge.svg)](https://colab.research.google.com/github/brainpy/brainpy/blob/master/docs/tutorial_toolbox/optimizers.ipynb)\n",
    "[![Open in Kaggle](https://kaggle.com/static/images/open-in-kaggle.svg)](https://kaggle.com/kernels/welcome?src=https://github.com/brainpy/brainpy/blob/master/docs/tutorial_toolbox/optimizers.ipynb)"
   ]
  },
  {
   "cell_type": "markdown",
   "id": "355bb9b6",
   "metadata": {},
   "source": [
    "@[Chaoming Wang](https://github.com/chaoming0625)\n",
    "@[Xiaoyu Chen](mailto:c-xy17@tsinghua.org.cn)"
   ]
  },
  {
   "cell_type": "markdown",
   "id": "95b9589c",
   "metadata": {},
   "source": [
    "Gradient descent is one of the most popular optimization methods. At present, gradient descent optimizers, combined with the loss function, are the key to machine learning, especially deep learning. In this section, we are going to understand:\n",
    "\n",
    "- how to use optimizers in BrainPy?\n",
    "- how to customize your own optimizer?"
   ]
  },
  {
   "cell_type": "code",
   "execution_count": 4,
   "id": "a9813ba0",
   "metadata": {},
   "outputs": [
    {
     "data": {
      "text/plain": [
       "'2.4.3.post3'"
      ]
     },
     "execution_count": 4,
     "metadata": {},
     "output_type": "execute_result"
    }
   ],
   "source": [
    "import brainpy as bp\n",
    "import brainpy.math as bm\n",
    "\n",
    "bp.math.set_platform('cpu')\n",
    "bp.__version__"
   ]
  },
  {
   "cell_type": "code",
   "execution_count": 5,
   "id": "92b9cd6d",
   "metadata": {},
   "outputs": [],
   "source": [
    "import matplotlib.pyplot as plt"
   ]
  },
  {
   "cell_type": "markdown",
   "id": "e62bdc0d",
   "metadata": {},
   "source": [
    "## Optimizers in BrainPy"
   ]
  },
  {
   "cell_type": "markdown",
   "id": "712cb717-fd31-4711-a0cc-aaa43bf9d62a",
   "metadata": {},
   "source": [
    "The basic optimizer class in BrainPy is `brainpy.optimizers.optimizer`, which inludes the following optimizers:\n",
    "\n",
    "- SGD\n",
    "- Momentum\n",
    "- Nesterov momentum\n",
    "- Adagrad\n",
    "- Adadelta\n",
    "- RMSProp\n",
    "- Adam\n",
    "- LARS\n",
    "- Adan\n",
    "- AdamW\n",
    "\n",
    "All supported optimizers can be inspected through the [brainpy.math.optimizers APIs](../apis/auto/optimizers.rst)."
   ]
  },
  {
   "cell_type": "markdown",
   "id": "05adb1c4",
   "metadata": {},
   "source": [
    "Generally, an optimizer initialization receives the learning rate ``lr``, the trainable variables ``train_vars``, and other hyperparameters for the specific optimizer.  \n",
    "\n",
    "- ``lr`` can be an instance of float,``bm.Variable`` or ``brainpy.optim.scheduler``. However, whether it's an instance of float or ``bm.Variable``, it will be transformed to be an instance of ``brainpy.optim.Constant`` automatically, which is a class of scheduler. Therefore, the users have to  understand the type of ``lr`` is actually scheduler.\n",
    "- ``train_vars`` should be a dict of Variable."
   ]
  },
  {
   "cell_type": "markdown",
   "id": "180c2314",
   "metadata": {},
   "source": [
    "Here we launch a SGD optimizer."
   ]
  },
  {
   "cell_type": "code",
   "execution_count": 6,
   "id": "2d716811",
   "metadata": {},
   "outputs": [],
   "source": [
    "a = bm.Variable(bm.ones((5, 4)))\n",
    "b = bm.Variable(bm.zeros((3, 3)))\n",
    "\n",
    "op = bp.optim.SGD(lr=0.001, train_vars={'a': a, 'b': b})"
   ]
  },
  {
   "cell_type": "markdown",
   "id": "e9c3cb0d",
   "metadata": {},
   "source": [
    "When you try to update the parameters, you must provide the corresponding gradients for each parameter in the ``update()`` method. "
   ]
  },
  {
   "cell_type": "code",
   "execution_count": 7,
   "id": "0d4449f3",
   "metadata": {},
   "outputs": [
    {
     "name": "stdout",
     "output_type": "stream",
     "text": [
      "a: Variable(value=Array([[0.9992506 , 0.9993942 , 0.99941486, 0.99976164],\n",
      "                      [0.9994534 , 0.99937356, 0.9997609 , 0.999758  ],\n",
      "                      [0.99927807, 0.99931985, 0.9990735 , 0.99940985],\n",
      "                      [0.9995624 , 0.99956965, 0.9993627 , 0.9996619 ],\n",
      "                      [0.9993749 , 0.99997044, 0.9996968 , 0.9990379 ]]),\n",
      "         dtype=float32)\n",
      "b: Variable(value=Array([[-0.00015692, -0.00087128, -0.00043575],\n",
      "                      [-0.00018907, -0.00041636, -0.00086603],\n",
      "                      [-0.00098443, -0.00046647, -0.00089446]]),\n",
      "         dtype=float32)\n"
     ]
    }
   ],
   "source": [
    "op.update({'a': bm.random.random(a.shape), 'b': bm.random.random(b.shape)})\n",
    "\n",
    "print('a:', a)\n",
    "print('b:', b)"
   ]
  },
  {
   "cell_type": "markdown",
   "id": "f25554d5",
   "metadata": {},
   "source": [
    "You can process the gradients before applying them. For example, we clip the graidents by the maximum L2-norm. "
   ]
  },
  {
   "cell_type": "code",
   "execution_count": 8,
   "id": "aad2ffcc",
   "metadata": {},
   "outputs": [
    {
     "data": {
      "text/plain": [
       "{'a': Array(value=Array([[0.66082776, 0.4898498 , 0.3027234 , 0.52351713],\n",
       "                    [0.0759604 , 0.4557693 , 0.58292365, 0.7218747 ],\n",
       "                    [0.6424562 , 0.33066738, 0.39118993, 0.5811727 ],\n",
       "                    [0.68779147, 0.6951357 , 0.62348413, 0.27283204],\n",
       "                    [0.5947813 , 0.9510231 , 0.2681589 , 0.10165596]]),\n",
       "       dtype=float32),\n",
       " 'b': Array(value=Array([[0.26415503, 0.11564147, 0.08266389],\n",
       "                    [0.25973928, 0.8325161 , 0.47534716],\n",
       "                    [0.911289  , 0.79422164, 0.85347724]]),\n",
       "       dtype=float32)}"
      ]
     },
     "execution_count": 8,
     "metadata": {},
     "output_type": "execute_result"
    }
   ],
   "source": [
    "grads_pre = {'a': bm.random.random(a.shape), 'b': bm.random.random(b.shape)}\n",
    "\n",
    "grads_pre"
   ]
  },
  {
   "cell_type": "code",
   "execution_count": 9,
   "id": "6f593769",
   "metadata": {},
   "outputs": [
    {
     "data": {
      "text/plain": [
       "{'a': Array(value=Array([[0.27230015, 0.20184712, 0.12473997, 0.21572004],\n",
       "                    [0.03130018, 0.18780394, 0.24019904, 0.2974551 ],\n",
       "                    [0.26472998, 0.13625453, 0.16119342, 0.23947756],\n",
       "                    [0.2834108 , 0.28643706, 0.25691238, 0.11242295],\n",
       "                    [0.24508509, 0.39187783, 0.11049735, 0.04188827]]),\n",
       "       dtype=float32),\n",
       " 'b': Array(value=Array([[0.14616422, 0.06398761, 0.0457402 ],\n",
       "                    [0.14372088, 0.460654  , 0.26302263],\n",
       "                    [0.5042412 , 0.43946463, 0.4722524 ]]),\n",
       "       dtype=float32)}"
      ]
     },
     "execution_count": 9,
     "metadata": {},
     "output_type": "execute_result"
    }
   ],
   "source": [
    "grads_post = bm.clip_by_norm(grads_pre, 1.)\n",
    "\n",
    "grads_post"
   ]
  },
  {
   "cell_type": "code",
   "execution_count": 10,
   "id": "dba80baf",
   "metadata": {},
   "outputs": [
    {
     "name": "stdout",
     "output_type": "stream",
     "text": [
      "a: Variable(value=Array([[0.9989783 , 0.99919236, 0.9992901 , 0.99954593],\n",
      "                      [0.99942213, 0.99918574, 0.9995207 , 0.9994606 ],\n",
      "                      [0.99901336, 0.9991836 , 0.99891233, 0.99917036],\n",
      "                      [0.99927896, 0.9992832 , 0.9991058 , 0.9995495 ],\n",
      "                      [0.99912983, 0.99957854, 0.9995863 , 0.998996  ]]),\n",
      "         dtype=float32)\n",
      "b: Variable(value=Array([[-0.00030309, -0.00093527, -0.00048149],\n",
      "                      [-0.00033279, -0.00087701, -0.00112905],\n",
      "                      [-0.00148868, -0.00090593, -0.00136672]]),\n",
      "         dtype=float32)\n"
     ]
    }
   ],
   "source": [
    "op.update(grads_post)\n",
    "\n",
    "print('a:', a)\n",
    "print('b:', b)"
   ]
  },
  {
   "cell_type": "markdown",
   "id": "05d98a0f",
   "metadata": {},
   "source": [
    "```{note}\n",
    "Optimizer usually has their own dynamically changed variables. If you JIT a function whose logic contains optimizer update, your ``dyn_vars`` in ``bm.jit()`` should include variables in ``Optimzier.vars()``.\n",
    "```"
   ]
  },
  {
   "cell_type": "code",
   "execution_count": 11,
   "id": "efc5c686",
   "metadata": {},
   "outputs": [
    {
     "data": {
      "text/plain": [
       "{'Constant1.last_epoch': Variable(value=Array(-1), dtype=int32)}"
      ]
     },
     "execution_count": 11,
     "metadata": {},
     "output_type": "execute_result"
    }
   ],
   "source": [
    "op.vars()  # SGD optimzier only has an iterable `step` variable to record the training step"
   ]
  },
  {
   "cell_type": "code",
   "execution_count": 12,
   "id": "28965804",
   "metadata": {},
   "outputs": [
    {
     "data": {
      "text/plain": [
       "{'Momentum0.a_v': Variable(value=Array([[0., 0., 0., 0.],\n",
       "                       [0., 0., 0., 0.],\n",
       "                       [0., 0., 0., 0.],\n",
       "                       [0., 0., 0., 0.],\n",
       "                       [0., 0., 0., 0.]]),\n",
       "          dtype=float32),\n",
       " 'Momentum0.b_v': Variable(value=Array([[0., 0., 0.],\n",
       "                       [0., 0., 0.],\n",
       "                       [0., 0., 0.]]),\n",
       "          dtype=float32),\n",
       " 'Constant2.last_epoch': Variable(value=Array(-1), dtype=int32)}"
      ]
     },
     "execution_count": 12,
     "metadata": {},
     "output_type": "execute_result"
    }
   ],
   "source": [
    "bp.optim.Momentum(lr=0.001, train_vars={'a': a, 'b': b}).vars()  # Momentum has velocity variables"
   ]
  },
  {
   "cell_type": "code",
   "execution_count": 13,
   "id": "fb272a40",
   "metadata": {
    "scrolled": true
   },
   "outputs": [
    {
     "data": {
      "text/plain": [
       "{'Adam1.a_m': Variable(value=Array([[0., 0., 0., 0.],\n",
       "                       [0., 0., 0., 0.],\n",
       "                       [0., 0., 0., 0.],\n",
       "                       [0., 0., 0., 0.],\n",
       "                       [0., 0., 0., 0.]]),\n",
       "          dtype=float32),\n",
       " 'Adam1.b_m': Variable(value=Array([[0., 0., 0.],\n",
       "                       [0., 0., 0.],\n",
       "                       [0., 0., 0.]]),\n",
       "          dtype=float32),\n",
       " 'Adam1.a_v': Variable(value=Array([[0., 0., 0., 0.],\n",
       "                       [0., 0., 0., 0.],\n",
       "                       [0., 0., 0., 0.],\n",
       "                       [0., 0., 0., 0.],\n",
       "                       [0., 0., 0., 0.]]),\n",
       "          dtype=float32),\n",
       " 'Adam1.b_v': Variable(value=Array([[0., 0., 0.],\n",
       "                       [0., 0., 0.],\n",
       "                       [0., 0., 0.]]),\n",
       "          dtype=float32),\n",
       " 'Constant3.last_epoch': Variable(value=Array(-1), dtype=int32)}"
      ]
     },
     "execution_count": 13,
     "metadata": {},
     "output_type": "execute_result"
    }
   ],
   "source": [
    "bp.optim.Adam(lr=0.001, train_vars={'a': a, 'b': b}).vars()  # Adam has more variables"
   ]
  },
  {
   "cell_type": "markdown",
   "id": "8325c2b3-4354-4dfd-a0d2-b4f734832e12",
   "metadata": {},
   "source": [
    "BrainPy also supports learning rate modification of optimizer. For example, an optimizer ``opt = bp.optim.Adam(lr=0.1)`` is created, we want to change the value ``lr=0.1`` into ``lr=0.01``, we can use ``opt.lr.lr=0.01`` or ``opt.lr.set_value(0.01)`` to achieve the goal.\n",
    "Here is a complete example."
   ]
  },
  {
   "cell_type": "code",
   "execution_count": 14,
   "id": "b09adff4-89b8-42c9-a7e9-3e608ad2c6f5",
   "metadata": {},
   "outputs": [
    {
     "name": "stdout",
     "output_type": "stream",
     "text": [
      "Train 0 epoch, use 1.9907 s, loss 3.700279474258423\n",
      "Train 1 epoch, use 0.7552 s, loss 0.4165635406970978\n",
      "Train 2 epoch, use 0.7502 s, loss 0.07042382657527924\n",
      "Train 3 epoch, use 0.7532 s, loss 0.0405302420258522\n",
      "Train 4 epoch, use 0.7542 s, loss 0.027395188808441162\n",
      "Train 5 epoch, use 0.7532 s, loss 0.020286478102207184\n",
      "Train 6 epoch, use 0.7502 s, loss 0.01792110502719879\n",
      "Train 7 epoch, use 0.7502 s, loss 0.017182694748044014\n",
      "Train 8 epoch, use 0.7542 s, loss 0.016804635524749756\n",
      "Train 9 epoch, use 0.7602 s, loss 0.016514629125595093\n"
     ]
    }
   ],
   "source": [
    "import brainpy as bp\n",
    "import brainpy.math as bm\n",
    "\n",
    "dt = 0.04\n",
    "num_step = int(1.0 / dt)\n",
    "num_batch = 128\n",
    "\n",
    "@bm.jit\n",
    "def build_inputs_and_targets(mean=0.025, scale=0.01):\n",
    "  sample = bm.random.normal(size=(num_batch, 1, 1))\n",
    "  bias = mean * 2.0 * (sample - 0.5)\n",
    "  samples = bm.random.normal(size=(num_batch, num_step, 1))\n",
    "  noise_t = scale / dt ** 0.5 * samples\n",
    "  inputs = bias + noise_t\n",
    "  targets = bm.cumsum(inputs, axis=1)\n",
    "  return inputs, targets\n",
    "\n",
    "def train_data():\n",
    "  for _ in range(100):\n",
    "    yield build_inputs_and_targets()\n",
    "\n",
    "class RNN(bp.DynamicalSystem):\n",
    "  def __init__(self, num_in, num_hidden):\n",
    "    super(RNN, self).__init__()\n",
    "    self.rnn = bp.dnn.RNNCell(num_in, num_hidden, train_state=True)\n",
    "    self.out = bp.dnn.Dense(num_hidden, 1)\n",
    "\n",
    "  def update(self, x):\n",
    "    return self.out(self.rnn(x))\n",
    "\n",
    "with bm.training_environment():\n",
    "    model = RNN(1, 100)\n",
    "\n",
    "def loss(predictions, targets, l2_reg=2e-4):\n",
    "    mse = bp.losses.mean_squared_error(predictions, targets)\n",
    "    l2 = l2_reg * bp.losses.l2_norm(model.train_vars().unique().dict()) ** 2\n",
    "    return mse + l2\n",
    "\n",
    "opt = bp.optim.Adam(lr=0.1)\n",
    "trainer = bp.BPTT(model, loss_fun=loss, optimizer=opt)\n",
    "opt.lr.lr=0.01        #Modify the learning rate. You can alse use \"opt.lr.set_value(0.01)\"\n",
    "trainer.fit(train_data, num_epoch=10)"
   ]
  },
  {
   "cell_type": "markdown",
   "id": "28a63538",
   "metadata": {},
   "source": [
    "## Creating A Self-Customized Optimizer"
   ]
  },
  {
   "cell_type": "markdown",
   "id": "f9900e42",
   "metadata": {},
   "source": [
    "To create your own optimization algorithm, simply inherit from ``bp.optim.Optimizer`` class and override the following methods:\n",
    "\n",
    "- ``__init__()``: init function that receives the learning rate (``lr``) and trainable variables (``train_vars``). Do not forget to register your dynamical changed variables into ``implicit_vars``. \n",
    "- ``update(grads)``: update function that computes the updated parameters. \n",
    "\n",
    "The general structure is shown below:"
   ]
  },
  {
   "cell_type": "code",
   "execution_count": 15,
   "id": "f3c84821",
   "metadata": {},
   "outputs": [],
   "source": [
    "class CustomizeOp(bp.optim.Optimizer):\n",
    "    def __init__(self, lr, train_vars, *params, **other_params):\n",
    "        super(CustomizeOp, self).__init__(lr, train_vars)\n",
    "        \n",
    "        # customize your initialization\n",
    "        \n",
    "    def update(self, grads):\n",
    "        # customize your update logic\n",
    "        pass"
   ]
  },
  {
   "cell_type": "markdown",
   "id": "f5b91a31",
   "metadata": {},
   "source": [
    "## Schedulers"
   ]
  },
  {
   "cell_type": "markdown",
   "id": "b2c277e6",
   "metadata": {},
   "source": [
    "Scheduler seeks to adjust the learning rate during training through reducing the learning rate according to a pre-defined schedule.  Common learning rate schedules include time-based decay, step decay and exponential decay. "
   ]
  },
  {
   "cell_type": "markdown",
   "id": "e2c504d7",
   "metadata": {},
   "source": [
    "Here we set up an exponential decay scheduler, in which the learning rate will decay exponentially along the training step."
   ]
  },
  {
   "cell_type": "code",
   "execution_count": 17,
   "id": "75476a94",
   "metadata": {},
   "outputs": [],
   "source": [
    "sc = bp.optim.ExponentialDecayLR(lr=0.1, decay_steps=2, decay_rate=0.99)"
   ]
  },
  {
   "cell_type": "code",
   "execution_count": 18,
   "id": "fe673807",
   "metadata": {},
   "outputs": [],
   "source": [
    "def show(steps, rates):\n",
    "    plt.plot(steps, rates)\n",
    "    plt.xlabel('Train Step')\n",
    "    plt.ylabel('Learning Rate')\n",
    "    plt.show()"
   ]
  },
  {
   "cell_type": "code",
   "execution_count": 19,
   "id": "8c0b8a9c",
   "metadata": {},
   "outputs": [
    {
     "data": {
      "image/png": "[encoded data removed]",
      "text/plain": [
       "<Figure size 640x480 with 1 Axes>"
      ]
     },
     "metadata": {},
     "output_type": "display_data"
    }
   ],
   "source": [
    "steps = bm.arange(1000)\n",
    "rates = sc(steps)\n",
    "\n",
    "show(steps, rates)"
   ]
  },
  {
   "cell_type": "markdown",
   "id": "2958e220",
   "metadata": {},
   "source": [
    "After Optimizer initialization, the learning rate ``self.lr`` will always be an instance of ``bm.optimizers.Scheduler``. A scalar float learning rate initialization will result in a ``Constant`` scheduler. "
   ]
  },
  {
   "cell_type": "code",
   "execution_count": 20,
   "id": "d67a3c6e",
   "metadata": {},
   "outputs": [
    {
     "data": {
      "text/plain": [
       "Constant(lr=0.001, last_epoch=-1)"
      ]
     },
     "execution_count": 20,
     "metadata": {},
     "output_type": "execute_result"
    }
   ],
   "source": [
    "op.lr"
   ]
  },
  {
   "cell_type": "markdown",
   "id": "83340b85",
   "metadata": {},
   "source": [
    "One can get the current learning rate value by calling ``Scheduler.__call__(i=None)``.\n",
    "\n",
    "- If `i` is not provided, the learning rate value will be evaluated at the built-in training ``step``.\n",
    "- Otherwise, the learning rate value will be evaluated at the given step ``i``. "
   ]
  },
  {
   "cell_type": "code",
   "execution_count": 21,
   "id": "7b5dd012",
   "metadata": {},
   "outputs": [
    {
     "data": {
      "text/plain": [
       "0.001"
      ]
     },
     "execution_count": 21,
     "metadata": {},
     "output_type": "execute_result"
    }
   ],
   "source": [
    "op.lr()"
   ]
  },
  {
   "cell_type": "markdown",
   "id": "029e39db",
   "metadata": {},
   "source": [
    "In BrainPy, several commonly used learning rate schedulers are used:\n",
    "\n",
    "- Constant\n",
    "- StepLR\n",
    "- MultiStepLR\n",
    "- CosineAnnealingLR\n",
    "- ExponentialLR\n",
    "- ExponentialDecayLR\n",
    "- InverseTimeDecayLR\n",
    "- PolynomialDecayLR\n",
    "- PiecewiseConstantLR\n",
    "- CosineAnnealingWarmRestarts\n",
    "\n",
    "For more details, please see the [brainpy.math.optimizers APIs](../apis/auto/math/optimizers.rst). \n"
   ]
  },
  {
   "cell_type": "code",
   "execution_count": 22,
   "id": "f5da4916",
   "metadata": {},
   "outputs": [
    {
     "data": {
      "image/png": "[encoded data removed]",
      "text/plain": [
       "<Figure size 640x480 with 1 Axes>"
      ]
     },
     "metadata": {},
     "output_type": "display_data"
    }
   ],
   "source": [
    "# InverseTimeDecay scheduler\n",
    "\n",
    "rates = bp.optim.InverseTimeDecayLR(lr=0.01, decay_steps=10, decay_rate=0.999)(steps)\n",
    "show(steps, rates)"
   ]
  },
  {
   "cell_type": "code",
   "execution_count": 23,
   "id": "8a49e917",
   "metadata": {},
   "outputs": [
    {
     "data": {
      "image/png": "[encoded data removed]",
      "text/plain": [
       "<Figure size 640x480 with 1 Axes>"
      ]
     },
     "metadata": {},
     "output_type": "display_data"
    }
   ],
   "source": [
    "# PolynomialDecay scheduler\n",
    "\n",
    "rates = bp.optim.PolynomialDecayLR(lr=0.01, decay_steps=10, final_lr=0.0001)(steps)\n",
    "show(steps, rates)"
   ]
  },
  {
   "cell_type": "markdown",
   "id": "3ef61151",
   "metadata": {},
   "source": [
    "## Creating a Self-Customized Scheduler"
   ]
  },
  {
   "cell_type": "markdown",
   "id": "9dd71dab",
   "metadata": {},
   "source": [
    "If users try to implement their own scheduler, simply inherit from ``bm.optimizers.Scheduler`` class and override the following methods:\n",
    "\n",
    "- ``__init__()``: the init function. \n",
    "- ``__call__(i=None)``: the learning rate value evalution. "
   ]
  },
  {
   "cell_type": "code",
   "execution_count": 24,
   "id": "7466e67c",
   "metadata": {},
   "outputs": [],
   "source": [
    "class CustomizeScheduler(bp.optim.Scheduler):\n",
    "    def __init__(self, lr, *params, **other_params):\n",
    "        super(CustomizeScheduler, self).__init__(lr)\n",
    "        \n",
    "        # customize your initialization\n",
    "        \n",
    "    def __call__(self, i=None):\n",
    "        # customize your update logic\n",
    "        pass"
   ]
  }
 ],
 "metadata": {
  "kernelspec": {
   "display_name": "brainpy",
   "language": "python",
   "name": "brainpy"
  },
  "language_info": {
   "codemirror_mode": {
    "name": "ipython",
    "version": 3
   },
   "file_extension": ".py",
   "mimetype": "text/x-python",
   "name": "python",
   "nbconvert_exporter": "python",
   "pygments_lexer": "ipython3",
   "version": "3.9.1"
  },
  "latex_envs": {
   "LaTeX_envs_menu_present": true,
   "autoclose": false,
   "autocomplete": true,
   "bibliofile": "biblio.bib",
   "cite_by": "apalike",
   "current_citInitial": 1,
   "eqLabelWithNumbers": true,
   "eqNumInitial": 1,
   "hotkeys": {
    "equation": "Ctrl-E",
    "itemize": "Ctrl-I"
   },
   "labels_anchors": false,
   "latex_user_defs": false,
   "report_style_numbering": false,
   "user_envs_cfg": false
  },
  "toc": {
   "base_numbering": 1,
   "nav_menu": {},
   "number_sections": false,
   "sideBar": true,
   "skip_h1_title": false,
   "title_cell": "Table of Contents",
   "title_sidebar": "Contents",
   "toc_cell": false,
   "toc_position": {},
   "toc_section_display": true,
   "toc_window_display": true
  }
 },
 "nbformat": 4,
 "nbformat_minor": 5
}
