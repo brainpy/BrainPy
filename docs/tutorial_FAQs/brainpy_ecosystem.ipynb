{
 "cells": [
  {
   "cell_type": "markdown",
   "metadata": {},
   "source": [
    "# BrainPy Ecosystem for Brain Dynamics Modeling\n",
    "\n",
    "[![Colab](https://colab.research.google.com/assets/colab-badge.svg)](https://colab.research.google.com/github/brainpy/brainpy/blob/master/docs/tutorial_FAQs/brainpy_ecosystem.ipynb)"
   ]
  },
  {
   "cell_type": "markdown",
   "metadata": {},
   "source": [
    "BrainPy aims to build a complete ecosystem for brain dynamics modeling.\n",
    "\n",
    "Although it has a far way to go, currently we make a progress in:"
   ]
  },
  {
   "cell_type": "markdown",
   "metadata": {},
   "source": [
    "## BrainPy\n",
    "\n",
    "Based on JAX, brainpy develops [BrainPy](https://github.com/PKU-NIP-Lab/BrainPy) to provide universal simulation, training and analysis engine, which serves as a foundation of the whole project. Specifically, BrainPy provides a object-oriented programming interface for brain dynamics modeling."
   ]
  },
  {
   "cell_type": "markdown",
   "metadata": {},
   "source": [
    "## brainpy-examples\n",
    "\n",
    "[brainpy-examples](https://github.com/brainpy/examples) provides comprehensive examples for brain dynamics modeling with BrainPy. It implements many classical models introduced in the latest computational neuroscience and brain-inspired computation research."
   ]
  },
  {
   "cell_type": "markdown",
   "metadata": {},
   "source": [
    "## brainpy-datasets\n",
    "\n",
    "[brainpy-datasets](https://github.com/brainpy/datasets) aims to provide commonly used datasets in brain dynamics modeling, including neuromorphic datasets and cognitive tasks for training brain-like neural networks.\n"
   ]
  },
  {
   "cell_type": "markdown",
   "metadata": {},
   "source": [
    "## brainpy-largescale\n",
    "\n",
    "[brainpy-largescale](https://github.com/NH-NCL/brainpy-largescale) provides one solution for large-scale modeling. It enables multi-device running for BrainPy models.\n"
   ]
  },
  {
   "cell_type": "markdown",
   "metadata": {
    "collapsed": false
   },
   "source": [
    "## 《神经计算建模实战》\n",
    "\n",
    "[《神经计算建模实战》 (Neural Modeling in Action)](https://github.com/c-xy17/NeuralModeling) is a book for brain dynamics modeling based on BrainPy. It introduces the basic concepts and methods of brain dynamics modeling, and provides comprehensive examples for brain dynamics modeling with BrainPy. \n"
   ]
  },
  {
   "cell_type": "markdown",
   "metadata": {
    "collapsed": false
   },
   "source": [
    "## 神经计算建模与编程培训班\n",
    "\n",
    "There is a series of training courses for brain dynamics modeling based on BrainPy. \n",
    "\n",
    "- [第一届神经计算建模与编程培训班 (First Training Course on Neural Modeling and Programming)](https://github.com/brainpy/1st-neural-modeling-and-programming-course)  \n",
    "\n",
    "- [第二届神经计算建模与编程培训班 (Second Training Course on Neural Modeling and Programming)](https://github.com/brainpy/2nd-neural-modeling-and-programming-course)\n",
    "\n",
    "This course is based on the textbook [《神经计算建模实战》 (Neural Modeling in Action)](https://github.com/c-xy17/NeuralModeling), supplemented by BrainPy, and based on the theory of \"theory+practice\" combination of teaching and learning. Through this course, students will master the basic concepts, methods and techniques of neural computation modelling, as well as how to use Python programming language to achieve convenient modelling and efficient simulation of neural systems, laying a solid foundation for future research in the field of neural computation or in the field of brain-like intelligence.\n",
    "\n"
   ]
  }
 ],
 "metadata": {
  "kernelspec": {
   "display_name": "Python 3 (ipykernel)",
   "language": "python",
   "name": "python3"
  },
  "language_info": {
   "codemirror_mode": {
    "name": "ipython",
    "version": 3
   },
   "file_extension": ".py",
   "mimetype": "text/x-python",
   "name": "python",
   "nbconvert_exporter": "python",
   "pygments_lexer": "ipython3",
   "version": "3.9.12"
  }
 },
 "nbformat": 4,
 "nbformat_minor": 1
}
