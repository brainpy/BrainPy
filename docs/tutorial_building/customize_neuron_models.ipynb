{
 "cells": [
  {
   "cell_type": "markdown",
   "id": "118e3b1d",
   "metadata": {},
   "source": [
    "# Customizing Your Neuron Models\n",
    "\n",
    "[![Colab](https://colab.research.google.com/assets/colab-badge.svg)](https://colab.research.google.com/github/brainpy/brainpy/blob/master/docs/tutorial_building/customize_neuron_models.ipynb)"
   ]
  },
  {
   "cell_type": "markdown",
   "id": "6c68cbca",
   "metadata": {},
   "source": [
    "@[Xiaoyu Chen](mailto:c-xy17@tsinghua.org.cn) @[Chaoming Wang](https://github.com/chaoming0625)"
   ]
  },
  {
   "cell_type": "markdown",
   "id": "f783d7fb",
   "metadata": {},
   "source": [
    "The previous section shows all available models users can utilize by simply instantiating the abstract model. In following sections we will dive into details to illustrate how to build a neuron model with ``brainpy.dyn.NeuDyn``. Neurons are the most basic components in neural dynamics simulation. In BrainPy, `brainpy.dyn.NeuDyn` is used for neuron modeling."
   ]
  },
  {
   "cell_type": "code",
   "execution_count": 15,
   "id": "aac4b858",
   "metadata": {
    "ExecuteTime": {
     "end_time": "2023-09-16T14:58:34.260243600Z",
     "start_time": "2023-09-16T14:58:34.188798300Z"
    }
   },
   "outputs": [],
   "source": [
    "import numpy as np\n",
    "\n",
    "import brainpy as bp\n",
    "import brainpy.math as bm\n",
    "\n",
    "bm.set_platform('cpu')"
   ]
  },
  {
   "cell_type": "code",
   "execution_count": 16,
   "id": "52f320c2ab5e60f3",
   "metadata": {
    "ExecuteTime": {
     "end_time": "2023-09-16T14:58:34.261760300Z",
     "start_time": "2023-09-16T14:58:34.192383200Z"
    },
    "collapsed": false
   },
   "outputs": [
    {
     "data": {
      "text/plain": [
       "'2.4.4.post4'"
      ]
     },
     "execution_count": 16,
     "metadata": {},
     "output_type": "execute_result"
    }
   ],
   "source": [
    "bp.__version__"
   ]
  },
  {
   "cell_type": "markdown",
   "id": "5d38f2b7",
   "metadata": {},
   "source": [
    "## ``brainpy.dyn.NeuDyn``"
   ]
  },
  {
   "cell_type": "markdown",
   "id": "6444c5ce",
   "metadata": {},
   "source": [
    "Generally, any neuron model can evolve continuously or discontinuously. \n",
    "Discontinuous evolution may be triggered by events, such as the reset of membrane potential. \n",
    "Moreover, it is common in a neural system that a dynamical system has different states, such as the excitable or refractory\n",
    "state in a [leaky integrate-and-fire (LIF) model](https://brainpy.readthedocs.io/en/latest/apis/generated/brainpy.dyn.Lif.html). \n",
    "In this section, we will use two examples to illustrate how to capture these complexities in neuron modeling."
   ]
  },
  {
   "cell_type": "markdown",
   "id": "9520e950",
   "metadata": {},
   "source": [
    "Defining a neuron model in BrainPy is simple. You just need to inherit from ``brainpy.dyn.NeuDyn``, and satisfy the following two requirements:\n",
    "\n",
    "- Providing the `size` of the neural group in the constructor when initialize a new neural group class. `size` can be a integer referring to the number of neurons or a tuple/list of integers referring to the geometry of the neural group in different dimensions. According to the provided group ``size``, ``brainpy.dyn.NeuDyn`` will automatically calculate the total number ``num`` of neurons in this group.\n",
    "\n",
    "- Creating an `update()` function. Update function provides the rule how the neuron states are evolved from the current time $t$ to the next time $t+dt$."
   ]
  },
  {
   "cell_type": "markdown",
   "id": "b2993080",
   "metadata": {},
   "source": [
    "In the following part, a [Hodgkin-Huxley](https://brainpy.readthedocs.io/en/latest/apis/generated/brainpy.dyn.HH.html) (HH) model is used as an example for illustration."
   ]
  },
  {
   "cell_type": "markdown",
   "id": "3095ec6f",
   "metadata": {},
   "source": [
    "## [Hodgkin–Huxley Model](https://brainpy.readthedocs.io/en/latest/apis/generated/brainpy.dyn.HH.html)"
   ]
  },
  {
   "cell_type": "markdown",
   "id": "b5170763",
   "metadata": {},
   "source": [
    "The Hodgkin-Huxley (HH) model is a continuous-time dynamical system. It is one of the most successful mathematical models of a complex biological process that has ever been formulated. Changes of the membrane potential influence the conductance of different channels, elaborately modeling the neural activities in biological systems. Mathematically, the model is given by:\n",
    "\n",
    "$$\n",
    "\\begin{aligned}\n",
    "    C_m \\frac {dV} {dt} &= -(\\bar{g}_{Na} m^3 h (V -E_{Na})\n",
    "    + \\bar{g}_K n^4 (V-E_K) + g_{leak} (V - E_{leak})) + I(t) \\quad\\quad(1) \\\\\n",
    "    \\frac {dx} {dt} &= \\alpha_x (1-x)  - \\beta_x, \\quad x\\in {\\rm{\\{m, h, n\\}}} \\quad\\quad(2) \\\\\n",
    "    &\\alpha_m(V) = \\frac {0.1(V+40)}{1-\\exp(\\frac{-(V + 40)} {10})} \\quad\\quad(3) \\\\\n",
    "    &\\beta_m(V) = 4.0 \\exp(\\frac{-(V + 65)} {18}) \\quad\\quad(4) \\\\\n",
    "    &\\alpha_h(V) = 0.07 \\exp(\\frac{-(V+65)}{20}) \\quad\\quad(5) \\\\\n",
    "    &\\beta_h(V) = \\frac 1 {1 + \\exp(\\frac{-(V + 35)} {10})} \\quad\\quad(6) \\\\\n",
    "    &\\alpha_n(V) = \\frac {0.01(V+55)}{1-\\exp(-(V+55)/10)} \\quad\\quad(7) \\\\\n",
    "    &\\beta_n(V) = 0.125 \\exp(\\frac{-(V + 65)} {80}) \\quad\\quad(8) \\\\\n",
    "\\end{aligned}\n",
    "$$\n",
    "\n",
    "where $V$ is the membrane potential, $C_m$ is the membrane capacitance per unit area, $E_K$ and $E_{Na}$ are the potassium and sodium reversal potentials, respectively, $E_l$ is the leak reversal potential, $\\bar{g}_K$ and $\\bar{g}_{Na}$ are the potassium and sodium conductance per unit area, respectively, and $\\bar{g}_l$ is the leak conductance per unit area. Because the potassium and sodium channels are voltage-sensitive, according to the biological experiments, $m$, $n$ and $h$ are used to simulate the activation of the channels. Specially, $n$ measures the activation of potassium channels, and $m$  and $h$ measures the activation and inactivation of sodium channels, respectively. $\\alpha_{x}$ and $\\beta_{x}$ are rate constants for the ion channel x and depend exclusively on the membrane potential."
   ]
  },
  {
   "cell_type": "markdown",
   "id": "84f438ae",
   "metadata": {},
   "source": [
    "To implement the HH model, variables should be specified. According to the above equations, the following state variables change with respect to time:\n",
    "- `V`: the membrane potential\n",
    "- `m`: the activation of sodium channels\n",
    "- `h`: the inactivation of sodium channels\n",
    "- `n`: the activation of potassium channels\n",
    "\n",
    "Besides, the spiking state and the last spiking time can also be recorded for statistic analysis:\n",
    "- ``spike``: whether a spike is produced\n",
    "- ``t_last_spike``: the last spiking time\n",
    "\n",
    "Based on these state variables, the HH model can be implemented as below."
   ]
  },
  {
   "cell_type": "code",
   "execution_count": 17,
   "id": "3ea88e6d",
   "metadata": {
    "ExecuteTime": {
     "end_time": "2023-09-16T14:58:34.299428400Z",
     "start_time": "2023-09-16T14:58:34.208778200Z"
    }
   },
   "outputs": [],
   "source": [
    "class HH(bp.dyn.NeuDyn):\n",
    "  def __init__(self, size, ENa=50., gNa=120., EK=-77., gK=36., EL=-54.387, gL=0.03,\n",
    "               V_th=20., C=1.0, **kwargs):\n",
    "    # providing the group \"size\" information\n",
    "    super(HH, self).__init__(size=size, **kwargs)\n",
    "\n",
    "    # initialize parameters\n",
    "    self.ENa = ENa\n",
    "    self.EK = EK\n",
    "    self.EL = EL\n",
    "    self.gNa = gNa\n",
    "    self.gK = gK\n",
    "    self.gL = gL\n",
    "    self.C = C\n",
    "    self.V_th = V_th\n",
    "\n",
    "    # initialize variables\n",
    "    self.V = bm.Variable(bm.random.randn(self.num) - 70.)\n",
    "    self.m = bm.Variable(0.5 * bm.ones(self.num))\n",
    "    self.h = bm.Variable(0.6 * bm.ones(self.num))\n",
    "    self.n = bm.Variable(0.32 * bm.ones(self.num))\n",
    "    self.spike = bm.Variable(bm.zeros(self.num, dtype=bool))\n",
    "    self.t_last_spike = bm.Variable(bm.ones(self.num) * -1e7)\n",
    "\n",
    "    # integral functions\n",
    "    self.int_V = bp.odeint(f=self.dV, method='exp_auto')\n",
    "    self.int_m = bp.odeint(f=self.dm, method='exp_auto')\n",
    "    self.int_h = bp.odeint(f=self.dh, method='exp_auto')\n",
    "    self.int_n = bp.odeint(f=self.dn, method='exp_auto')\n",
    "\n",
    "  def dV(self, V, t, m, h, n, Iext):\n",
    "    I_Na = (self.gNa * m ** 3.0 * h) * (V - self.ENa)\n",
    "    I_K = (self.gK * n ** 4.0) * (V - self.EK)\n",
    "    I_leak = self.gL * (V - self.EL)\n",
    "    dVdt = (- I_Na - I_K - I_leak + Iext) / self.C\n",
    "    return dVdt\n",
    "\n",
    "  def dm(self, m, t, V):\n",
    "    alpha = 0.1 * (V + 40) / (1 - bm.exp(-(V + 40) / 10))\n",
    "    beta = 4.0 * bm.exp(-(V + 65) / 18)\n",
    "    dmdt = alpha * (1 - m) - beta * m\n",
    "    return dmdt\n",
    "  \n",
    "  def dh(self, h, t, V):\n",
    "    alpha = 0.07 * bm.exp(-(V + 65) / 20.)\n",
    "    beta = 1 / (1 + bm.exp(-(V + 35) / 10))\n",
    "    dhdt = alpha * (1 - h) - beta * h\n",
    "    return dhdt\n",
    "\n",
    "  def dn(self, n, t, V):\n",
    "    alpha = 0.01 * (V + 55) / (1 - bm.exp(-(V + 55) / 10))\n",
    "    beta = 0.125 * bm.exp(-(V + 65) / 80)\n",
    "    dndt = alpha * (1 - n) - beta * n\n",
    "    return dndt\n",
    "\n",
    "  def update(self, x=None):\n",
    "    _t = bp.share['t']\n",
    "    _dt = bp.share['dt']\n",
    "    x = 0. if x is None else x\n",
    "    \n",
    "    # compute V, m, h, n\n",
    "    V = self.int_V(self.V, _t, self.m, self.h, self.n, x, dt=_dt)\n",
    "    self.h.value = self.int_h(self.h, _t, self.V, dt=_dt)\n",
    "    self.m.value = self.int_m(self.m, _t, self.V, dt=_dt)\n",
    "    self.n.value = self.int_n(self.n, _t, self.V, dt=_dt)\n",
    "\n",
    "    # update the spiking state and the last spiking time\n",
    "    self.spike.value = bm.logical_and(self.V < self.V_th, V >= self.V_th)\n",
    "    self.t_last_spike.value = bm.where(self.spike, _t, self.t_last_spike)\n",
    "\n",
    "    # update V\n",
    "    self.V.value = V"
   ]
  },
  {
   "cell_type": "markdown",
   "id": "8d523fb3",
   "metadata": {},
   "source": [
    "When defining the HH model, equation (1) is accomplished by [brainpy.odeint](https://brainpy.readthedocs.io/en/latest/apis/generated/brainpy.odeint.html) as an [ODEIntegrator](https://brainpy.readthedocs.io/en/latest/apis/generated/brainpy.integrators.ode.ODEIntegrator.html#brainpy.integrators.ode.ODEIntegrator). The details are contained in the [Numerical Solvers for ODEs](../tutorial_toolbox/ode_numerical_solvers.ipynb) tutorial.\n",
    "\n",
    "The variables, which will be updated during dynamics simulation, should be packed as `brainpy.math.Variable` and thus can be processed by JIT compilers to accelerate simulation. "
   ]
  },
  {
   "cell_type": "markdown",
   "id": "215292d2",
   "metadata": {},
   "source": [
    "In the following part, a [leaky integrate-and-fire](https://brainpy.readthedocs.io/en/latest/apis/generated/brainpy.dyn.Lif.html) (LIF) model is introduced as another example for illustration."
   ]
  },
  {
   "cell_type": "markdown",
   "id": "04d7d580",
   "metadata": {},
   "source": [
    "## [Leaky Integrate-and-Fire Model](https://brainpy.readthedocs.io/en/latest/apis/generated/brainpy.dyn.Lif.html)"
   ]
  },
  {
   "cell_type": "markdown",
   "id": "f45c7805",
   "metadata": {},
   "source": [
    "The LIF model is the classical neuron model which contains a continuous process and a discontinous spike reset operation. \n",
    "Formally, it is given by:\n",
    "\n",
    "$$\n",
    "\\begin{aligned}\n",
    "\\tau_m \\frac{dV}{dt} = - (V(t) - V_{rest}) + I(t)  \\quad\\quad (1) \\\\\n",
    "\\text{if} \\, V(t) \\gt V_{th}, V(t) =V_{rest} \\,\n",
    "\\text{after} \\, \\tau_{ref} \\,  \\text{ms}        \\quad\\quad (2)\n",
    "\\end{aligned}\n",
    "$$\n",
    "\n",
    "where $V$ is the membrane potential, $V_{rest}$ is the rest membrane potential, $V_{th}$ is the spike threshold, $\\tau_m$ is the time constant, $\\tau_{ref}$ is the refractory time period, and $I$ is the time-variant synaptic inputs. \n",
    "\n",
    "The above two equations model the continuous change and the spiking of neurons, respectively. Moreover, it has multiple states: ``subthreshold`` state, and  ``spiking`` or ``refractory`` state.  The membrane potential $V$ is integrated according to equation (1) when it is below $V_{th}$. Once $V$ reaches the threshold $V_{th}$, according to equation (2), $V$ is reaet to $V_{rest}$, and the neuron enters the refractory period where the membrane potential $V$ will remain constant in the following $\\tau_{ref}$ ms."
   ]
  },
  {
   "cell_type": "markdown",
   "id": "3f3f7d32",
   "metadata": {},
   "source": [
    "The neuronal variables, like the membrane potential and external input, can be captured by the following one variable:\n",
    "\n",
    "- ``V``: the membrane potential"
   ]
  },
  {
   "cell_type": "markdown",
   "id": "76fa0aa2",
   "metadata": {},
   "source": [
    "In order to define the different states of a LIF neuron, we define additional variables:\n",
    "\n",
    "- ``spike``: whether a spike is produced\n",
    "- ``refractory``: whether the neuron is in the refractory period\n",
    "- ``t_last_spike``: the last spiking time\n"
   ]
  },
  {
   "cell_type": "markdown",
   "id": "50fbecbe",
   "metadata": {},
   "source": [
    "Based on these state variables, the LIF model can be implemented as below."
   ]
  },
  {
   "cell_type": "code",
   "execution_count": 18,
   "id": "4961244a",
   "metadata": {
    "ExecuteTime": {
     "end_time": "2023-09-16T14:58:34.299428400Z",
     "start_time": "2023-09-16T14:58:34.212306500Z"
    }
   },
   "outputs": [],
   "source": [
    "class LIF(bp.dyn.NeuDyn):\n",
    "  def __init__(self, size, V_rest=0., V_reset=-5., V_th=20., R=1., tau=10., t_ref=5., **kwargs):\n",
    "    super(LIF, self).__init__(size=size, **kwargs)\n",
    "\n",
    "    # initialize parameters\n",
    "    self.V_rest = V_rest\n",
    "    self.V_reset = V_reset\n",
    "    self.V_th = V_th\n",
    "    self.R = R\n",
    "    self.tau = tau\n",
    "    self.t_ref = t_ref\n",
    "\n",
    "    # initialize variables\n",
    "    self.V = bm.Variable(bm.random.randn(self.num) + V_reset)\n",
    "    self.t_last_spike = bm.Variable(bm.ones(self.num) * -1e7)\n",
    "    self.refractory = bm.Variable(bm.zeros(self.num, dtype=bool))\n",
    "    self.spike = bm.Variable(bm.zeros(self.num, dtype=bool))\n",
    "\n",
    "    # integral function\n",
    "    self.integral = bp.odeint(f=self.derivative, method='exp_auto')\n",
    "\n",
    "  def derivative(self, V, t, Iext):\n",
    "    dvdt = (-V + self.V_rest + self.R * Iext) / self.tau\n",
    "    return dvdt\n",
    "\n",
    "  def update(self, x=None):\n",
    "    _t = bp.share['t']\n",
    "    _dt = bp.share['dt']\n",
    "    x = 0. if x is None else x\n",
    "    \n",
    "    # Whether the neurons are in the refractory period\n",
    "    refractory = (_t - self.t_last_spike) <= self.t_ref\n",
    "    \n",
    "    # compute the membrane potential\n",
    "    V = self.integral(self.V, _t, x, dt=_dt)\n",
    "    \n",
    "    # computed membrane potential is valid only when the neuron is not in the refractory period \n",
    "    V = bm.where(refractory, self.V, V)\n",
    "    \n",
    "    # update the spiking state\n",
    "    spike = self.V_th <= V\n",
    "    self.spike.value = spike\n",
    "    \n",
    "    # update the last spiking time\n",
    "    self.t_last_spike.value = bm.where(spike, _t, self.t_last_spike)\n",
    "    \n",
    "    # update the membrane potential and reset spiked neurons\n",
    "    self.V.value = bm.where(spike, self.V_reset, V)\n",
    "    \n",
    "    # update the refractory state\n",
    "    self.refractory.value = bm.logical_or(refractory, spike)"
   ]
  },
  {
   "cell_type": "markdown",
   "id": "9b54438c",
   "metadata": {},
   "source": [
    "In above, the discontinous resetting is implemented with ``brainpy.math.where`` operation. "
   ]
  },
  {
   "cell_type": "markdown",
   "id": "0b80959f",
   "metadata": {},
   "source": [
    "## Instantiation and running"
   ]
  },
  {
   "cell_type": "markdown",
   "id": "05818ebb",
   "metadata": {},
   "source": [
    "Here, let's try to instantiate a ``HH`` neuron group:"
   ]
  },
  {
   "cell_type": "code",
   "execution_count": 19,
   "id": "7afcd4ff",
   "metadata": {
    "ExecuteTime": {
     "end_time": "2023-09-16T14:58:34.313864800Z",
     "start_time": "2023-09-16T14:58:34.216394900Z"
    }
   },
   "outputs": [],
   "source": [
    "neu = HH(10)"
   ]
  },
  {
   "cell_type": "markdown",
   "id": "e6be8d3d",
   "metadata": {},
   "source": [
    "in which a neural group containing 10 HH neurons is generated."
   ]
  },
  {
   "cell_type": "markdown",
   "id": "f9d2604b",
   "metadata": {},
   "source": [
    "In brief, running any dynamical system instance should be accomplished with a runner, such like `brianpy.DSRunner`. The variables to be monitored and the input crrents to be applied in the simulation can be provided when initializing the runner."
   ]
  },
  {
   "cell_type": "code",
   "execution_count": 20,
   "id": "9a291f2f",
   "metadata": {
    "ExecuteTime": {
     "end_time": "2023-09-16T14:58:34.313864800Z",
     "start_time": "2023-09-16T14:58:34.224884500Z"
    }
   },
   "outputs": [],
   "source": [
    "runner = bp.DSRunner(neu, monitors=['V'])"
   ]
  },
  {
   "cell_type": "markdown",
   "id": "5f6f8bdc76159ee7",
   "metadata": {
    "collapsed": false
   },
   "source": [
    "At each time step, we give the same input current:"
   ]
  },
  {
   "cell_type": "code",
   "execution_count": 21,
   "id": "d031ec35f8a1b4ed",
   "metadata": {
    "ExecuteTime": {
     "end_time": "2023-09-16T14:58:34.315873Z",
     "start_time": "2023-09-16T14:58:34.229040600Z"
    },
    "collapsed": false
   },
   "outputs": [],
   "source": [
    "inputs = np.ones(int(200. / bm.get_dt())) * 6.  # 200 ms"
   ]
  },
  {
   "cell_type": "markdown",
   "id": "00385de1",
   "metadata": {},
   "source": [
    "Then the simulation can be performed with a given time period, and the simulation result can be visualized:"
   ]
  },
  {
   "cell_type": "code",
   "execution_count": 22,
   "id": "f102b056",
   "metadata": {
    "ExecuteTime": {
     "end_time": "2023-09-16T14:58:34.536322600Z",
     "start_time": "2023-09-16T14:58:34.236782300Z"
    }
   },
   "outputs": [
    {
     "data": {
      "application/vnd.jupyter.widget-view+json": {
       "model_id": "60e0a2eecff045c8ad78a51ceb80e39f",
       "version_major": 2,
       "version_minor": 0
      },
      "text/plain": [
       "  0%|          | 0/2000 [00:00<?, ?it/s]"
      ]
     },
     "metadata": {},
     "output_type": "display_data"
    },
    {
     "data": {
      "image/png": "[encoded data removed]",
      "text/plain": [
       "<Figure size 640x480 with 1 Axes>"
      ]
     },
     "metadata": {},
     "output_type": "display_data"
    }
   ],
   "source": [
    "runner.run(inputs=inputs)  # the running time is 200 ms\n",
    "\n",
    "bp.visualize.line_plot(runner.mon.ts, runner.mon.V, show=True)"
   ]
  },
  {
   "cell_type": "markdown",
   "id": "93208ac2",
   "metadata": {},
   "source": [
    "A LIF neural group can be instantiated and applied in simulation in a similar way:"
   ]
  },
  {
   "cell_type": "code",
   "execution_count": 23,
   "id": "929d85e4",
   "metadata": {
    "ExecuteTime": {
     "end_time": "2023-09-16T14:58:34.710260Z",
     "start_time": "2023-09-16T14:58:34.536322600Z"
    }
   },
   "outputs": [
    {
     "data": {
      "application/vnd.jupyter.widget-view+json": {
       "model_id": "0a9931a8203a47329d1d019e3ff0702d",
       "version_major": 2,
       "version_minor": 0
      },
      "text/plain": [
       "  0%|          | 0/2000 [00:00<?, ?it/s]"
      ]
     },
     "metadata": {},
     "output_type": "display_data"
    },
    {
     "data": {
      "image/png": "[encoded data removed]",
      "text/plain": [
       "<Figure size 640x480 with 1 Axes>"
      ]
     },
     "metadata": {},
     "output_type": "display_data"
    }
   ],
   "source": [
    "group = LIF(10)\n",
    "\n",
    "runner = bp.DSRunner(group, monitors=['V'])\n",
    "\n",
    "inputs = np.ones(int(200. / bm.get_dt())) * 22.  # 200 ms\n",
    "runner.run(inputs=inputs)\n",
    "\n",
    "bp.visualize.line_plot(runner.mon.ts, runner.mon.V, show=True)"
   ]
  }
 ],
 "metadata": {
  "kernelspec": {
   "display_name": "Python 3 (ipykernel)",
   "language": "python",
   "name": "python3"
  },
  "language_info": {
   "codemirror_mode": {
    "name": "ipython",
    "version": 3
   },
   "file_extension": ".py",
   "mimetype": "text/x-python",
   "name": "python",
   "nbconvert_exporter": "python",
   "pygments_lexer": "ipython3",
   "version": "3.9.7"
  },
  "latex_envs": {
   "LaTeX_envs_menu_present": true,
   "autoclose": false,
   "autocomplete": true,
   "bibliofile": "biblio.bib",
   "cite_by": "apalike",
   "current_citInitial": 1,
   "eqLabelWithNumbers": true,
   "eqNumInitial": 1,
   "hotkeys": {
    "equation": "Ctrl-E",
    "itemize": "Ctrl-I"
   },
   "labels_anchors": false,
   "latex_user_defs": false,
   "report_style_numbering": false,
   "user_envs_cfg": false
  },
  "toc": {
   "base_numbering": 1,
   "nav_menu": {},
   "number_sections": true,
   "sideBar": true,
   "skip_h1_title": false,
   "title_cell": "Table of Contents",
   "title_sidebar": "Contents",
   "toc_cell": false,
   "toc_position": {},
   "toc_section_display": true,
   "toc_window_display": true
  }
 },
 "nbformat": 4,
 "nbformat_minor": 5
}
