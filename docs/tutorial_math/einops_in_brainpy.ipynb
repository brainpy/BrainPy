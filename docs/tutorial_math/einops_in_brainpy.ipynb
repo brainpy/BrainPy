{
 "cells": [
  {
   "cell_type": "markdown",
   "metadata": {},
   "source": [
    "# Array operations with ``ein_rearrange``, ``ein_reduce``, and ``ein_repeat``\n",
    "\n",
    "[![Colab](https://colab.research.google.com/assets/colab-badge.svg)](https://colab.research.google.com/github/brainpy/brainpy/blob/master/docs/tutorial_math/einops_in_brainpy.ipynb)\n",
    "[![Open in Kaggle](https://kaggle.com/static/images/open-in-kaggle.svg)](https://kaggle.com/kernels/welcome?src=https://github.com/brainpy/brainpy/blob/master/docs/tutorial_math/einops_in_brainpy.ipynb)\n",
    "\n",
    "We don't write \n",
    "```python\n",
    "y = x.transpose(0, 2, 3, 1)\n",
    "```\n",
    "We write comprehensible code\n",
    "```python\n",
    "y = bm.ein_rearrange(x, 'b c h w -> b h w c')\n",
    "```\n",
    "\n",
    "\n",
    "## What's in this tutorial?\n",
    "\n",
    "- fundamentals: reordering, composition and decomposition of axes\n",
    "- operations: `ein_rearrange`, `ein_reduce`, `ein_repeat`\n",
    "- how much you can do with a single operation!\n"
   ]
  },
  {
   "cell_type": "markdown",
   "metadata": {},
   "source": [
    "## Preparations"
   ]
  },
  {
   "cell_type": "code",
   "execution_count": 1,
   "metadata": {
    "ExecuteTime": {
     "end_time": "2024-01-09T03:16:51.896023200Z",
     "start_time": "2024-01-09T03:16:49.966551200Z"
    }
   },
   "outputs": [],
   "source": [
    "# Examples are given for numpy. This code also setups ipython/jupyter\n",
    "# so that numpy arrays in the output are displayed as images\n",
    "import numpy\n",
    "\n",
    "import brainpy.math as bm"
   ]
  },
  {
   "cell_type": "markdown",
   "metadata": {},
   "source": [
    "## Load a batch of images to play with"
   ]
  },
  {
   "cell_type": "markdown",
   "metadata": {
    "collapsed": false
   },
   "source": [
    "Please download [the data](./test_images.npy)."
   ]
  },
  {
   "cell_type": "code",
   "execution_count": 2,
   "metadata": {
    "ExecuteTime": {
     "end_time": "2024-01-09T03:16:51.903282300Z",
     "start_time": "2024-01-09T03:16:51.898250400Z"
    }
   },
   "outputs": [
    {
     "name": "stdout",
     "output_type": "stream",
     "text": [
      "(6, 96, 96, 3) float64\n"
     ]
    }
   ],
   "source": [
    "ims = numpy.load('./test_images.npy', allow_pickle=False)\n",
    "# There are 6 images of shape 96x96 with 3 color channels packed into tensor\n",
    "print(ims.shape, ims.dtype)"
   ]
  },
  {
   "cell_type": "code",
   "execution_count": 3,
   "metadata": {
    "ExecuteTime": {
     "end_time": "2024-01-09T03:16:51.910514400Z",
     "start_time": "2024-01-09T03:16:51.905419300Z"
    },
    "pycharm": {
     "name": "#%%\n"
    }
   },
   "outputs": [
    {
     "data": {
      "text/plain": [
       "(96, 96, 3)"
      ]
     },
     "execution_count": 3,
     "metadata": {},
     "output_type": "execute_result"
    }
   ],
   "source": [
    "# display the first image (whole 4d tensor can't be rendered)\n",
    "ims[0].shape"
   ]
  },
  {
   "cell_type": "code",
   "execution_count": 4,
   "metadata": {
    "ExecuteTime": {
     "end_time": "2024-01-09T03:16:51.916049400Z",
     "start_time": "2024-01-09T03:16:51.912295Z"
    },
    "pycharm": {
     "name": "#%%\n"
    }
   },
   "outputs": [
    {
     "data": {
      "text/plain": [
       "(96, 96, 3)"
      ]
     },
     "execution_count": 4,
     "metadata": {},
     "output_type": "execute_result"
    }
   ],
   "source": [
    "# second image in a batch\n",
    "ims[1].shape"
   ]
  },
  {
   "cell_type": "code",
   "execution_count": 5,
   "metadata": {
    "ExecuteTime": {
     "end_time": "2024-01-09T03:16:51.987415500Z",
     "start_time": "2024-01-09T03:16:51.917288700Z"
    }
   },
   "outputs": [
    {
     "data": {
      "text/plain": [
       "(96, 96, 3)"
      ]
     },
     "execution_count": 5,
     "metadata": {},
     "output_type": "execute_result"
    }
   ],
   "source": [
    "# rearrange, as its name suggests, rearranges elements\n",
    "# below we swapped height and width.\n",
    "# In other words, transposed first two axes (dimensions)\n",
    "bm.ein_rearrange(ims[0], 'h w c -> w h c').shape"
   ]
  },
  {
   "cell_type": "markdown",
   "metadata": {},
   "source": [
    "## Composition of axes\n",
    "transposition is very common and useful, but let's move to other capabilities provided by einops"
   ]
  },
  {
   "cell_type": "code",
   "execution_count": 6,
   "metadata": {
    "ExecuteTime": {
     "end_time": "2024-01-09T03:16:52.001062900Z",
     "start_time": "2024-01-09T03:16:51.984159900Z"
    }
   },
   "outputs": [
    {
     "data": {
      "text/plain": [
       "(576, 96, 3)"
      ]
     },
     "execution_count": 6,
     "metadata": {},
     "output_type": "execute_result"
    }
   ],
   "source": [
    "# einops allows seamlessly composing batch and height to a new height dimension\n",
    "# We just rendered all images by collapsing to 3d tensor!\n",
    "bm.ein_rearrange(ims, 'b h w c -> (b h) w c').shape"
   ]
  },
  {
   "cell_type": "code",
   "execution_count": 7,
   "metadata": {
    "ExecuteTime": {
     "end_time": "2024-01-09T03:16:52.043645400Z",
     "start_time": "2024-01-09T03:16:52.002184500Z"
    }
   },
   "outputs": [
    {
     "data": {
      "text/plain": [
       "(96, 576, 3)"
      ]
     },
     "execution_count": 7,
     "metadata": {},
     "output_type": "execute_result"
    }
   ],
   "source": [
    "# or compose a new dimension of batch and width\n",
    "bm.ein_rearrange(ims, 'b h w c -> h (b w) c').shape"
   ]
  },
  {
   "cell_type": "code",
   "execution_count": 8,
   "metadata": {
    "ExecuteTime": {
     "end_time": "2024-01-09T03:16:52.044717500Z",
     "start_time": "2024-01-09T03:16:52.032578100Z"
    },
    "pycharm": {
     "name": "#%%\n"
    }
   },
   "outputs": [
    {
     "data": {
      "text/plain": [
       "(96, 576, 3)"
      ]
     },
     "execution_count": 8,
     "metadata": {},
     "output_type": "execute_result"
    }
   ],
   "source": [
    "# resulting dimensions are computed very simply\n",
    "# length of newly composed axis is a product of components\n",
    "# [6, 96, 96, 3] -> [96, (6 * 96), 3]\n",
    "bm.ein_rearrange(ims, 'b h w c -> h (b w) c').shape"
   ]
  },
  {
   "cell_type": "code",
   "execution_count": 9,
   "metadata": {
    "ExecuteTime": {
     "end_time": "2024-01-09T03:16:52.059635400Z",
     "start_time": "2024-01-09T03:16:52.039293900Z"
    },
    "pycharm": {
     "name": "#%%\n"
    }
   },
   "outputs": [
    {
     "data": {
      "text/plain": [
       "(165888,)"
      ]
     },
     "execution_count": 9,
     "metadata": {},
     "output_type": "execute_result"
    }
   ],
   "source": [
    "# we can compose more than two axes. \n",
    "# let's flatten 4d array into 1d, resulting array has as many elements as the original\n",
    "bm.ein_rearrange(ims, 'b h w c -> (b h w c)').shape"
   ]
  },
  {
   "cell_type": "markdown",
   "metadata": {
    "pycharm": {
     "name": "#%% md\n"
    }
   },
   "source": [
    "## Decomposition of axis"
   ]
  },
  {
   "cell_type": "code",
   "execution_count": 10,
   "metadata": {
    "ExecuteTime": {
     "end_time": "2024-01-09T03:16:52.104413Z",
     "start_time": "2024-01-09T03:16:52.056324200Z"
    },
    "pycharm": {
     "name": "#%%\n"
    }
   },
   "outputs": [
    {
     "data": {
      "text/plain": [
       "(2, 3, 96, 96, 3)"
      ]
     },
     "execution_count": 10,
     "metadata": {},
     "output_type": "execute_result"
    }
   ],
   "source": [
    "# decomposition is the inverse process - represent an axis as a combination of new axes\n",
    "# several decompositions possible, so b1=2 is to decompose 6 to b1=2 and b2=3\n",
    "bm.ein_rearrange(ims, '(b1 b2) h w c -> b1 b2 h w c ', b1=2).shape"
   ]
  },
  {
   "cell_type": "code",
   "execution_count": 11,
   "metadata": {
    "ExecuteTime": {
     "end_time": "2024-01-09T03:16:52.136340300Z",
     "start_time": "2024-01-09T03:16:52.073847300Z"
    }
   },
   "outputs": [
    {
     "data": {
      "text/plain": [
       "(192, 288, 3)"
      ]
     },
     "execution_count": 11,
     "metadata": {},
     "output_type": "execute_result"
    }
   ],
   "source": [
    "# finally, combine composition and decomposition:\n",
    "bm.ein_rearrange(ims, '(b1 b2) h w c -> (b1 h) (b2 w) c ', b1=2).shape"
   ]
  },
  {
   "cell_type": "code",
   "execution_count": 12,
   "metadata": {
    "ExecuteTime": {
     "end_time": "2024-01-09T03:16:52.165079200Z",
     "start_time": "2024-01-09T03:16:52.106539200Z"
    },
    "pycharm": {
     "name": "#%%\n"
    }
   },
   "outputs": [
    {
     "data": {
      "text/plain": [
       "(288, 192, 3)"
      ]
     },
     "execution_count": 12,
     "metadata": {},
     "output_type": "execute_result"
    }
   ],
   "source": [
    "# slightly different composition: b1 is merged with width, b2 with height\n",
    "# ... so letters are ordered by w then by h\n",
    "bm.ein_rearrange(ims, '(b1 b2) h w c -> (b2 h) (b1 w) c ', b1=2).shape"
   ]
  },
  {
   "cell_type": "code",
   "execution_count": 13,
   "metadata": {
    "ExecuteTime": {
     "end_time": "2024-01-09T03:16:52.199903Z",
     "start_time": "2024-01-09T03:16:52.144629900Z"
    }
   },
   "outputs": [
    {
     "data": {
      "text/plain": [
       "(192, 288, 3)"
      ]
     },
     "execution_count": 13,
     "metadata": {},
     "output_type": "execute_result"
    }
   ],
   "source": [
    "# move part of width dimension to height. \n",
    "# we should call this width-to-height as image width shrunk by 2 and height doubled. \n",
    "# but all pixels are the same!\n",
    "# Can you write reverse operation (height-to-width)?\n",
    "bm.ein_rearrange(ims, 'b h (w w2) c -> (h w2) (b w) c', w2=2).shape"
   ]
  },
  {
   "cell_type": "markdown",
   "metadata": {},
   "source": [
    "## Order of axes matters"
   ]
  },
  {
   "cell_type": "code",
   "execution_count": 14,
   "metadata": {
    "ExecuteTime": {
     "end_time": "2024-01-09T03:16:52.200972800Z",
     "start_time": "2024-01-09T03:16:52.190142300Z"
    }
   },
   "outputs": [
    {
     "data": {
      "text/plain": [
       "(96, 576, 3)"
      ]
     },
     "execution_count": 14,
     "metadata": {},
     "output_type": "execute_result"
    }
   ],
   "source": [
    "# compare with the next example\n",
    "bm.ein_rearrange(ims, 'b h w c -> h (b w) c').shape"
   ]
  },
  {
   "cell_type": "code",
   "execution_count": 15,
   "metadata": {
    "ExecuteTime": {
     "end_time": "2024-01-09T03:16:52.250337300Z",
     "start_time": "2024-01-09T03:16:52.196592800Z"
    },
    "pycharm": {
     "name": "#%%\n"
    }
   },
   "outputs": [
    {
     "data": {
      "text/plain": [
       "(96, 576, 3)"
      ]
     },
     "execution_count": 15,
     "metadata": {},
     "output_type": "execute_result"
    }
   ],
   "source": [
    "# order of axes in composition is different\n",
    "# rule is just as for digits in the number: leftmost digit is the most significant, \n",
    "# while neighboring numbers differ in the rightmost axis.\n",
    "\n",
    "# you can also think of this as lexicographic sort\n",
    "bm.ein_rearrange(ims, 'b h w c -> h (w b) c').shape"
   ]
  },
  {
   "cell_type": "code",
   "execution_count": 16,
   "metadata": {
    "ExecuteTime": {
     "end_time": "2024-01-09T03:16:52.277698500Z",
     "start_time": "2024-01-09T03:16:52.228269800Z"
    },
    "pycharm": {
     "name": "#%%\n"
    }
   },
   "outputs": [
    {
     "data": {
      "text/plain": [
       "(96, 576, 3)"
      ]
     },
     "execution_count": 16,
     "metadata": {},
     "output_type": "execute_result"
    }
   ],
   "source": [
    "# what if b1 and b2 are reordered before composing to width?\n",
    "bm.ein_rearrange(ims, '(b1 b2) h w c -> h (b1 b2 w) c ', b1=2).shape "
   ]
  },
  {
   "cell_type": "code",
   "execution_count": 17,
   "metadata": {
    "ExecuteTime": {
     "end_time": "2024-01-09T03:16:52.314368100Z",
     "start_time": "2024-01-09T03:16:52.262594800Z"
    },
    "collapsed": false
   },
   "outputs": [
    {
     "data": {
      "text/plain": [
       "(96, 576, 3)"
      ]
     },
     "execution_count": 17,
     "metadata": {},
     "output_type": "execute_result"
    }
   ],
   "source": [
    "bm.ein_rearrange(ims, '(b1 b2) h w c -> h (b2 b1 w) c ', b1=2).shape "
   ]
  },
  {
   "cell_type": "markdown",
   "metadata": {
    "pycharm": {
     "name": "#%% md\n"
    }
   },
   "source": [
    "## Meet einops.reduce\n",
    "\n",
    "In einops-land you don't need to guess what happened\n",
    "```python\n",
    "x.mean(-1)\n",
    "```\n",
    "Because you write what the operation does\n",
    "```python\n",
    "bm.ein_reduce(x, 'b h w c -> b h w', 'mean')\n",
    "```\n",
    "\n",
    "if axis is not present in the output — you guessed it — axis was reduced."
   ]
  },
  {
   "cell_type": "code",
   "execution_count": 18,
   "metadata": {
    "ExecuteTime": {
     "end_time": "2024-01-09T03:16:52.354728900Z",
     "start_time": "2024-01-09T03:16:52.298014600Z"
    }
   },
   "outputs": [
    {
     "data": {
      "text/plain": [
       "(96, 96, 3)"
      ]
     },
     "execution_count": 18,
     "metadata": {},
     "output_type": "execute_result"
    }
   ],
   "source": [
    "# average over batch\n",
    "bm.ein_reduce(ims, 'b h w c -> h w c', 'mean').shape"
   ]
  },
  {
   "cell_type": "code",
   "execution_count": 19,
   "metadata": {
    "ExecuteTime": {
     "end_time": "2024-01-09T03:16:52.355832600Z",
     "start_time": "2024-01-09T03:16:52.340237700Z"
    }
   },
   "outputs": [
    {
     "data": {
      "text/plain": [
       "(96, 96, 3)"
      ]
     },
     "execution_count": 19,
     "metadata": {},
     "output_type": "execute_result"
    }
   ],
   "source": [
    "# the previous is identical to familiar:\n",
    "ims.mean(axis=0).shape\n",
    "# but is so much more readable"
   ]
  },
  {
   "cell_type": "code",
   "execution_count": 20,
   "metadata": {
    "ExecuteTime": {
     "end_time": "2024-01-09T03:16:52.408044400Z",
     "start_time": "2024-01-09T03:16:52.345070800Z"
    },
    "pycharm": {
     "name": "#%%\n"
    }
   },
   "outputs": [
    {
     "data": {
      "text/plain": [
       "(96, 96)"
      ]
     },
     "execution_count": 20,
     "metadata": {},
     "output_type": "execute_result"
    }
   ],
   "source": [
    "# Example of reducing of several axes \n",
    "# besides mean, there are also min, max, sum, prod\n",
    "bm.ein_reduce(ims, 'b h w c -> h w', 'min').shape"
   ]
  },
  {
   "cell_type": "code",
   "execution_count": 21,
   "metadata": {
    "ExecuteTime": {
     "end_time": "2024-01-09T03:16:52.438192700Z",
     "start_time": "2024-01-09T03:16:52.365121Z"
    }
   },
   "outputs": [
    {
     "data": {
      "text/plain": [
       "(48, 288, 3)"
      ]
     },
     "execution_count": 21,
     "metadata": {},
     "output_type": "execute_result"
    }
   ],
   "source": [
    "# this is mean-pooling with 2x2 kernel\n",
    "# image is split into 2x2 patches, each patch is averaged\n",
    "bm.ein_reduce(ims, 'b (h h2) (w w2) c -> h (b w) c', 'mean', h2=2, w2=2).shape"
   ]
  },
  {
   "cell_type": "code",
   "execution_count": 22,
   "metadata": {
    "ExecuteTime": {
     "end_time": "2024-01-09T03:16:52.466068200Z",
     "start_time": "2024-01-09T03:16:52.429666600Z"
    },
    "pycharm": {
     "name": "#%%\n"
    }
   },
   "outputs": [
    {
     "data": {
      "text/plain": [
       "(48, 288, 3)"
      ]
     },
     "execution_count": 22,
     "metadata": {},
     "output_type": "execute_result"
    }
   ],
   "source": [
    "# max-pooling is similar\n",
    "# result is not as smooth as for mean-pooling\n",
    "bm.ein_reduce(ims, 'b (h h2) (w w2) c -> h (b w) c', 'max', h2=2, w2=2).shape"
   ]
  },
  {
   "cell_type": "code",
   "execution_count": 23,
   "metadata": {
    "ExecuteTime": {
     "end_time": "2024-01-09T03:16:52.508614800Z",
     "start_time": "2024-01-09T03:16:52.453429200Z"
    },
    "pycharm": {
     "name": "#%%\n"
    }
   },
   "outputs": [
    {
     "data": {
      "text/plain": [
       "(288, 192)"
      ]
     },
     "execution_count": 23,
     "metadata": {},
     "output_type": "execute_result"
    }
   ],
   "source": [
    "# yet another example. Can you compute result shape?\n",
    "bm.ein_reduce(ims, '(b1 b2) h w c -> (b2 h) (b1 w)', 'mean', b1=2).shape"
   ]
  },
  {
   "cell_type": "markdown",
   "metadata": {
    "pycharm": {
     "name": "#%%\n"
    }
   },
   "source": [
    "## Stack and concatenate"
   ]
  },
  {
   "cell_type": "code",
   "execution_count": 24,
   "metadata": {
    "ExecuteTime": {
     "end_time": "2024-01-09T03:16:52.509704200Z",
     "start_time": "2024-01-09T03:16:52.486964100Z"
    },
    "pycharm": {
     "name": "#%%\n"
    }
   },
   "outputs": [
    {
     "name": "stdout",
     "output_type": "stream",
     "text": [
      "<class 'list'> with 6 tensors of shape (96, 96, 3)\n"
     ]
    },
    {
     "data": {
      "text/plain": [
       "[(96, 96, 3), (96, 96, 3), (96, 96, 3), (96, 96, 3), (96, 96, 3), (96, 96, 3)]"
      ]
     },
     "execution_count": 24,
     "metadata": {},
     "output_type": "execute_result"
    }
   ],
   "source": [
    "# rearrange can also take care of lists of arrays with the same shape\n",
    "x = list(ims)\n",
    "print(type(x), 'with', len(x), 'tensors of shape', x[0].shape)\n",
    "# that's how we can stack inputs\n",
    "# \"list axis\" becomes first (\"b\" in this case), and we left it there\n",
    "res = bm.ein_rearrange(x, 'b h w c -> b h w c')\n",
    "\n",
    "[r.shape for r in res]"
   ]
  },
  {
   "cell_type": "code",
   "execution_count": 25,
   "metadata": {
    "ExecuteTime": {
     "end_time": "2024-01-09T03:16:52.524732200Z",
     "start_time": "2024-01-09T03:16:52.495686100Z"
    },
    "pycharm": {
     "name": "#%%\n"
    }
   },
   "outputs": [
    {
     "data": {
      "text/plain": [
       "(96, 96, 3, 6)"
      ]
     },
     "execution_count": 25,
     "metadata": {},
     "output_type": "execute_result"
    }
   ],
   "source": [
    "# but new axis can appear in the other place:\n",
    "bm.ein_rearrange(x, 'b h w c -> h w c b').shape"
   ]
  },
  {
   "cell_type": "code",
   "execution_count": 26,
   "metadata": {
    "ExecuteTime": {
     "end_time": "2024-01-09T03:16:52.528015200Z",
     "start_time": "2024-01-09T03:16:52.511870500Z"
    },
    "collapsed": false,
    "pycharm": {
     "name": "#%%\n"
    }
   },
   "outputs": [
    {
     "data": {
      "text/plain": [
       "False"
      ]
     },
     "execution_count": 26,
     "metadata": {},
     "output_type": "execute_result"
    }
   ],
   "source": [
    "# that's equivalent to numpy stacking, but written more explicitly\n",
    "numpy.array_equal(bm.ein_rearrange(x, 'b h w c -> h w c b'), numpy.stack(x, axis=3))"
   ]
  },
  {
   "cell_type": "code",
   "execution_count": 27,
   "metadata": {
    "ExecuteTime": {
     "end_time": "2024-01-09T03:16:52.586497800Z",
     "start_time": "2024-01-09T03:16:52.517938100Z"
    },
    "pycharm": {
     "name": "#%%\n"
    }
   },
   "outputs": [
    {
     "data": {
      "text/plain": [
       "(96, 576, 3)"
      ]
     },
     "execution_count": 27,
     "metadata": {},
     "output_type": "execute_result"
    }
   ],
   "source": [
    "# ... or we can concatenate along axes\n",
    "bm.ein_rearrange(x, 'b h w c -> h (b w) c').shape"
   ]
  },
  {
   "cell_type": "code",
   "execution_count": 28,
   "metadata": {
    "ExecuteTime": {
     "end_time": "2024-01-09T03:16:52.589607600Z",
     "start_time": "2024-01-09T03:16:52.524732200Z"
    },
    "pycharm": {
     "name": "#%%\n"
    }
   },
   "outputs": [
    {
     "data": {
      "text/plain": [
       "False"
      ]
     },
     "execution_count": 28,
     "metadata": {},
     "output_type": "execute_result"
    }
   ],
   "source": [
    "# which is equivalent to concatenation\n",
    "numpy.array_equal(bm.ein_rearrange(x, 'b h w c -> h (b w) c'), numpy.concatenate(x, axis=1))"
   ]
  },
  {
   "cell_type": "markdown",
   "metadata": {},
   "source": [
    "## Addition or removal of axes\n",
    "\n",
    "You can write 1 to create a new axis of length 1. Similarly you can remove such axis.\n",
    "\n",
    "There is also a synonym `()` that you can use. That's a composition of zero axes and it also has a unit length."
   ]
  },
  {
   "cell_type": "code",
   "execution_count": 29,
   "metadata": {
    "ExecuteTime": {
     "end_time": "2024-01-09T03:16:52.601830300Z",
     "start_time": "2024-01-09T03:16:52.531696500Z"
    }
   },
   "outputs": [
    {
     "name": "stdout",
     "output_type": "stream",
     "text": [
      "(6, 1, 96, 96, 1, 3)\n",
      "(6, 96, 96, 3)\n"
     ]
    }
   ],
   "source": [
    "x = bm.ein_rearrange(ims, 'b h w c -> b 1 h w 1 c') # functionality of numpy.expand_dims\n",
    "print(x.shape)\n",
    "print(bm.ein_rearrange(x, 'b 1 h w 1 c -> b h w c').shape) # functionality of numpy.squeeze"
   ]
  },
  {
   "cell_type": "code",
   "execution_count": 30,
   "metadata": {
    "ExecuteTime": {
     "end_time": "2024-01-09T03:16:52.652283400Z",
     "start_time": "2024-01-09T03:16:52.562649Z"
    }
   },
   "outputs": [
    {
     "data": {
      "text/plain": [
       "(96, 576, 3)"
      ]
     },
     "execution_count": 30,
     "metadata": {},
     "output_type": "execute_result"
    }
   ],
   "source": [
    "# compute max in each image individually, then show a difference \n",
    "x = bm.ein_reduce(ims, 'b h w c -> b () () c', 'max') - ims\n",
    "bm.ein_rearrange(x, 'b h w c -> h (b w) c').shape"
   ]
  },
  {
   "cell_type": "markdown",
   "metadata": {},
   "source": [
    "## Repeating elements\n",
    "\n",
    "Third operation we introduce is `repeat`"
   ]
  },
  {
   "cell_type": "code",
   "execution_count": 31,
   "metadata": {
    "ExecuteTime": {
     "end_time": "2024-01-09T03:16:52.708988500Z",
     "start_time": "2024-01-09T03:16:52.634965400Z"
    }
   },
   "outputs": [
    {
     "data": {
      "text/plain": [
       "(96, 5, 96, 3)"
      ]
     },
     "execution_count": 31,
     "metadata": {},
     "output_type": "execute_result"
    }
   ],
   "source": [
    "# repeat along a new axis. New axis can be placed anywhere\n",
    "bm.ein_repeat(ims[0], 'h w c -> h new_axis w c', new_axis=5).shape"
   ]
  },
  {
   "cell_type": "code",
   "execution_count": 32,
   "metadata": {
    "ExecuteTime": {
     "end_time": "2024-01-09T03:16:52.714789300Z",
     "start_time": "2024-01-09T03:16:52.710069Z"
    }
   },
   "outputs": [
    {
     "data": {
      "text/plain": [
       "(96, 5, 96, 3)"
      ]
     },
     "execution_count": 32,
     "metadata": {},
     "output_type": "execute_result"
    }
   ],
   "source": [
    "# shortcut\n",
    "bm.ein_repeat(ims[0], 'h w c -> h 5 w c').shape"
   ]
  },
  {
   "cell_type": "code",
   "execution_count": 33,
   "metadata": {
    "ExecuteTime": {
     "end_time": "2024-01-09T03:16:52.757633Z",
     "start_time": "2024-01-09T03:16:52.714789300Z"
    }
   },
   "outputs": [
    {
     "data": {
      "text/plain": [
       "(96, 288, 3)"
      ]
     },
     "execution_count": 33,
     "metadata": {},
     "output_type": "execute_result"
    }
   ],
   "source": [
    "# repeat along w (existing axis)\n",
    "bm.ein_repeat(ims[0], 'h w c -> h (repeat w) c', repeat=3).shape"
   ]
  },
  {
   "cell_type": "code",
   "execution_count": 34,
   "metadata": {
    "ExecuteTime": {
     "end_time": "2024-01-09T03:16:52.853440Z",
     "start_time": "2024-01-09T03:16:52.757633Z"
    }
   },
   "outputs": [
    {
     "data": {
      "text/plain": [
       "(192, 192, 3)"
      ]
     },
     "execution_count": 34,
     "metadata": {},
     "output_type": "execute_result"
    }
   ],
   "source": [
    "# repeat along two existing axes\n",
    "bm.ein_repeat(ims[0], 'h w c -> (2 h) (2 w) c').shape"
   ]
  },
  {
   "cell_type": "code",
   "execution_count": 35,
   "metadata": {
    "ExecuteTime": {
     "end_time": "2024-01-09T03:16:52.935098900Z",
     "start_time": "2024-01-09T03:16:52.853440Z"
    }
   },
   "outputs": [
    {
     "data": {
      "text/plain": [
       "(96, 288, 3)"
      ]
     },
     "execution_count": 35,
     "metadata": {},
     "output_type": "execute_result"
    }
   ],
   "source": [
    "# order of axes matters as usual - you can repeat each element (pixel) 3 times \n",
    "# by changing order in parenthesis\n",
    "bm.ein_repeat(ims[0], 'h w c -> h (w repeat) c', repeat=3).shape"
   ]
  },
  {
   "cell_type": "markdown",
   "metadata": {},
   "source": [
    "Note: `repeat` operation covers functionality identical to `numpy.repeat`, `numpy.tile` and actually more than that."
   ]
  },
  {
   "cell_type": "markdown",
   "metadata": {
    "pycharm": {
     "name": "#%% md\n"
    }
   },
   "source": [
    "## Reduce ⇆ repeat\n",
    "\n",
    "reduce and repeat are like opposite of each other: first one reduces amount of elements, second one increases.\n",
    "\n",
    "In the following example each image is repeated first, then we reduce over new axis to get back original tensor. Notice that operation patterns are \"reverse\" of each other"
   ]
  },
  {
   "cell_type": "code",
   "execution_count": 36,
   "metadata": {
    "ExecuteTime": {
     "end_time": "2024-01-09T03:16:53.086847800Z",
     "start_time": "2024-01-09T03:16:52.936595200Z"
    }
   },
   "outputs": [],
   "source": [
    "repeated = bm.ein_repeat(ims, 'b h w c -> b h new_axis w c', new_axis=2)\n",
    "reduced = bm.ein_reduce(repeated, 'b h new_axis w c -> b h w c', 'min')\n",
    "\n",
    "\n",
    "assert bm.allclose(ims, reduced)"
   ]
  },
  {
   "cell_type": "markdown",
   "metadata": {},
   "source": [
    "## Fancy examples in random order\n",
    "\n",
    "(a.k.a. mad designer gallery)"
   ]
  },
  {
   "cell_type": "code",
   "execution_count": 37,
   "metadata": {
    "ExecuteTime": {
     "end_time": "2024-01-09T03:16:53.124865300Z",
     "start_time": "2024-01-09T03:16:53.089018Z"
    }
   },
   "outputs": [
    {
     "data": {
      "text/plain": [
       "(192, 288, 3)"
      ]
     },
     "execution_count": 37,
     "metadata": {},
     "output_type": "execute_result"
    }
   ],
   "source": [
    "# interweaving pixels of different pictures\n",
    "# all letters are observable\n",
    "bm.ein_rearrange(ims, '(b1 b2) h w c -> (h b1) (w b2) c ', b1=2).shape"
   ]
  },
  {
   "cell_type": "code",
   "execution_count": 38,
   "metadata": {
    "ExecuteTime": {
     "end_time": "2024-01-09T03:16:53.139588200Z",
     "start_time": "2024-01-09T03:16:53.123858300Z"
    }
   },
   "outputs": [
    {
     "data": {
      "text/plain": [
       "(192, 288, 3)"
      ]
     },
     "execution_count": 38,
     "metadata": {},
     "output_type": "execute_result"
    }
   ],
   "source": [
    "# interweaving along vertical for couples of images\n",
    "bm.ein_rearrange(ims, '(b1 b2) h w c -> (h b1) (b2 w) c', b1=2).shape"
   ]
  },
  {
   "cell_type": "code",
   "execution_count": 39,
   "metadata": {
    "ExecuteTime": {
     "end_time": "2024-01-09T03:16:53.186247700Z",
     "start_time": "2024-01-09T03:16:53.140592800Z"
    }
   },
   "outputs": [
    {
     "data": {
      "text/plain": [
       "(96, 288, 3)"
      ]
     },
     "execution_count": 39,
     "metadata": {},
     "output_type": "execute_result"
    }
   ],
   "source": [
    "# interweaving lines for couples of images\n",
    "# exercise: achieve the same result without einops in your favourite framework\n",
    "bm.ein_reduce(ims, '(b1 b2) h w c -> h (b2 w) c', 'max', b1=2).shape"
   ]
  },
  {
   "cell_type": "code",
   "execution_count": 40,
   "metadata": {
    "ExecuteTime": {
     "end_time": "2024-01-09T03:16:53.232730900Z",
     "start_time": "2024-01-09T03:16:53.178674500Z"
    }
   },
   "outputs": [
    {
     "data": {
      "text/plain": [
       "(144, 288)"
      ]
     },
     "execution_count": 40,
     "metadata": {},
     "output_type": "execute_result"
    }
   ],
   "source": [
    "# color can be also composed into dimension\n",
    "# ... while image is downsampled\n",
    "bm.ein_reduce(ims, 'b (h 2) (w 2) c -> (c h) (b w)', 'mean').shape"
   ]
  },
  {
   "cell_type": "code",
   "execution_count": 41,
   "metadata": {
    "ExecuteTime": {
     "end_time": "2024-01-09T03:16:53.302503900Z",
     "start_time": "2024-01-09T03:16:53.236495100Z"
    }
   },
   "outputs": [
    {
     "data": {
      "text/plain": [
       "(24, 192)"
      ]
     },
     "execution_count": 41,
     "metadata": {},
     "output_type": "execute_result"
    }
   ],
   "source": [
    "# disproportionate resize\n",
    "bm.ein_reduce(ims, 'b (h 4) (w 3) c -> (h) (b w)', 'mean').shape"
   ]
  },
  {
   "cell_type": "code",
   "execution_count": 42,
   "metadata": {
    "ExecuteTime": {
     "end_time": "2024-01-09T03:16:53.365480400Z",
     "start_time": "2024-01-09T03:16:53.303630100Z"
    }
   },
   "outputs": [
    {
     "data": {
      "text/plain": [
       "(48, 576)"
      ]
     },
     "execution_count": 42,
     "metadata": {},
     "output_type": "execute_result"
    }
   ],
   "source": [
    "# spilt each image in two halves, compute mean of the two\n",
    "bm.ein_reduce(ims, 'b (h1 h2) w c -> h2 (b w)', 'mean', h1=2).shape"
   ]
  },
  {
   "cell_type": "code",
   "execution_count": 43,
   "metadata": {
    "ExecuteTime": {
     "end_time": "2024-01-09T03:16:53.413333100Z",
     "start_time": "2024-01-09T03:16:53.364414400Z"
    }
   },
   "outputs": [
    {
     "data": {
      "text/plain": [
       "(96, 576, 3)"
      ]
     },
     "execution_count": 43,
     "metadata": {},
     "output_type": "execute_result"
    }
   ],
   "source": [
    "# split in small patches and transpose each patch\n",
    "bm.ein_rearrange(ims, 'b (h1 h2) (w1 w2) c -> (h1 w2) (b w1 h2) c', h2=8, w2=8).shape"
   ]
  },
  {
   "cell_type": "code",
   "execution_count": 44,
   "metadata": {
    "ExecuteTime": {
     "end_time": "2024-01-09T03:16:53.499062100Z",
     "start_time": "2024-01-09T03:16:53.407925200Z"
    }
   },
   "outputs": [
    {
     "data": {
      "text/plain": [
       "(96, 576, 3)"
      ]
     },
     "execution_count": 44,
     "metadata": {},
     "output_type": "execute_result"
    }
   ],
   "source": [
    "# stop me someone!\n",
    "bm.ein_rearrange(ims, 'b (h1 h2 h3) (w1 w2 w3) c -> (h1 w2 h3) (b w1 h2 w3) c', h2=2, w2=2, w3=2, h3=2).shape"
   ]
  },
  {
   "cell_type": "code",
   "execution_count": 45,
   "metadata": {
    "ExecuteTime": {
     "end_time": "2024-01-09T03:16:53.546329400Z",
     "start_time": "2024-01-09T03:16:53.459186600Z"
    }
   },
   "outputs": [
    {
     "data": {
      "text/plain": [
       "(192, 288, 3)"
      ]
     },
     "execution_count": 45,
     "metadata": {},
     "output_type": "execute_result"
    }
   ],
   "source": [
    "bm.ein_rearrange(ims, '(b1 b2) (h1 h2) (w1 w2) c -> (h1 b1 h2) (w1 b2 w2) c', h1=3, w1=3, b2=3).shape"
   ]
  },
  {
   "cell_type": "code",
   "execution_count": 46,
   "metadata": {
    "ExecuteTime": {
     "end_time": "2024-01-09T03:16:53.587041200Z",
     "start_time": "2024-01-09T03:16:53.505732100Z"
    }
   },
   "outputs": [
    {
     "data": {
      "text/plain": [
       "(96, 576, 3)"
      ]
     },
     "execution_count": 46,
     "metadata": {},
     "output_type": "execute_result"
    }
   ],
   "source": [
    "# patterns can be arbitrarily complicated\n",
    "bm.ein_reduce(ims, '(b1 b2) (h1 h2 h3) (w1 w2 w3) c -> (h1 w1 h3) (b1 w2 h2 w3 b2) c', 'mean', \n",
    "       h2=2, w1=2, w3=2, h3=2, b2=2).shape"
   ]
  },
  {
   "cell_type": "code",
   "execution_count": 47,
   "metadata": {
    "ExecuteTime": {
     "end_time": "2024-01-09T03:16:53.608899300Z",
     "start_time": "2024-01-09T03:16:53.556416400Z"
    }
   },
   "outputs": [
    {
     "data": {
      "text/plain": [
       "(96, 576, 3)"
      ]
     },
     "execution_count": 47,
     "metadata": {},
     "output_type": "execute_result"
    }
   ],
   "source": [
    "# subtract background in each image individually and normalize\n",
    "# pay attention to () - this is composition of 0 axis, a dummy axis with 1 element.\n",
    "im2 = bm.ein_reduce(ims, 'b h w c -> b () () c', 'max') - ims\n",
    "im2 /= bm.ein_reduce(im2, 'b h w c -> b () () c', 'max')\n",
    "bm.ein_rearrange(im2, 'b h w c -> h (b w) c').shape"
   ]
  },
  {
   "cell_type": "code",
   "execution_count": 48,
   "metadata": {
    "ExecuteTime": {
     "end_time": "2024-01-09T03:16:53.742684900Z",
     "start_time": "2024-01-09T03:16:53.578494900Z"
    }
   },
   "outputs": [
    {
     "data": {
      "text/plain": [
       "(96, 576, 3)"
      ]
     },
     "execution_count": 48,
     "metadata": {},
     "output_type": "execute_result"
    }
   ],
   "source": [
    "# pixelate: first downscale by averaging, then upscale back using the same pattern\n",
    "averaged = bm.ein_reduce(ims, 'b (h h2) (w w2) c -> b h w c', 'mean', h2=6, w2=8)\n",
    "bm.ein_repeat(averaged, 'b h w c -> (h h2) (b w w2) c', h2=6, w2=8).shape"
   ]
  },
  {
   "cell_type": "code",
   "execution_count": 49,
   "metadata": {
    "ExecuteTime": {
     "end_time": "2024-01-09T03:16:53.783169200Z",
     "start_time": "2024-01-09T03:16:53.742684900Z"
    }
   },
   "outputs": [
    {
     "data": {
      "text/plain": [
       "(96, 576, 3)"
      ]
     },
     "execution_count": 49,
     "metadata": {},
     "output_type": "execute_result"
    }
   ],
   "source": [
    "bm.ein_rearrange(ims, 'b h w c -> w (b h) c').shape"
   ]
  },
  {
   "cell_type": "code",
   "execution_count": 50,
   "metadata": {
    "ExecuteTime": {
     "end_time": "2024-01-09T03:16:53.827528Z",
     "start_time": "2024-01-09T03:16:53.765960100Z"
    }
   },
   "outputs": [
    {
     "data": {
      "text/plain": [
       "(96, 576)"
      ]
     },
     "execution_count": 50,
     "metadata": {},
     "output_type": "execute_result"
    }
   ],
   "source": [
    "# let's bring color dimension as part of horizontal axis\n",
    "# at the same time horizontal axis is downsampled by 2x\n",
    "bm.ein_reduce(ims, 'b (h h2) (w w2) c -> (h w2) (b w c)', 'mean', h2=3, w2=3).shape"
   ]
  },
  {
   "cell_type": "markdown",
   "metadata": {
    "pycharm": {
     "name": "#%% md\n"
    }
   },
   "source": [
    "## Summary\n",
    "\n",
    "- `rearrange` doesn't change number of elements and covers different numpy functions (like `transpose`, `reshape`, `stack`, `concatenate`,  `squeeze` and `expand_dims`)\n",
    "- `reduce` combines same reordering syntax with reductions (`mean`, `min`, `max`, `sum`, `prod`, and any others)\n",
    "- `repeat` additionally covers repeating and tiling\n",
    "- composition and decomposition of axes are a corner stone, they can and should be used together\n"
   ]
  }
 ],
 "metadata": {
  "kernelspec": {
   "display_name": "Python 3",
   "language": "python",
   "name": "python3"
  },
  "language_info": {
   "codemirror_mode": {
    "name": "ipython",
    "version": 3
   },
   "file_extension": ".py",
   "mimetype": "text/x-python",
   "name": "python",
   "nbconvert_exporter": "python",
   "pygments_lexer": "ipython3",
   "version": "3.9.0"
  }
 },
 "nbformat": 4,
 "nbformat_minor": 4
}
