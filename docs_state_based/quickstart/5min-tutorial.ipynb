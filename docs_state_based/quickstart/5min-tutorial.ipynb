{
 "cells": [
  {
   "cell_type": "markdown",
   "metadata": {},
   "source": [
    "# 5-Minute Tutorial: Getting Started with BrainPy 3.0\n",
    "\n",
    "Welcome to BrainPy 3.0! This quick tutorial will get you up and running with your first neural simulation in just a few minutes.\n",
    "\n",
    "## What You'll Learn\n",
    "\n",
    "- How to create neurons\n",
    "- How to build simple networks\n",
    "- How to run simulations\n",
    "- How to visualize results"
   ]
  },
  {
   "cell_type": "markdown",
   "metadata": {},
   "source": [
    "## Step 1: Import Libraries\n",
    "\n",
    "First, let's import the necessary libraries:"
   ]
  },
  {
   "cell_type": "code",
   "execution_count": null,
   "metadata": {},
   "outputs": [],
   "source": [
    "import brainpy.state_based as brainpy\n",
    "import brainstate\n",
    "import brainunit as u\n",
    "import braintools\n",
    "import matplotlib.pyplot as plt\n"
   ]
  },
  {
   "cell_type": "markdown",
   "metadata": {},
   "source": [
    "## Step 2: Create Your First Neuron\n",
    "\n",
    "Let's create a simple Leaky Integrate-and-Fire (LIF) neuron:"
   ]
  },
  {
   "cell_type": "code",
   "execution_count": null,
   "metadata": {},
   "outputs": [],
   "source": [
    "# Set simulation time step\n",
    "brainstate.environ.set(dt=0.1 * u.ms)\n",
    "\n",
    "# Create a single LIF neuron\n",
    "neuron = brainpy.LIF(\n",
    "    size=1,\n",
    "    V_rest=-65. * u.mV,      # Resting potential\n",
    "    V_th=-50. * u.mV,        # Spike threshold\n",
    "    V_reset=-65. * u.mV,     # Reset potential\n",
    "    tau=10. * u.ms,          # Membrane time constant\n",
    ")\n",
    "\n",
    "print(\"Created a LIF neuron!\")"
   ]
  },
  {
   "cell_type": "markdown",
   "metadata": {},
   "source": [
    "## Step 3: Simulate the Neuron\n",
    "\n",
    "Now let's inject a constant current and see how the neuron responds:"
   ]
  },
  {
   "cell_type": "code",
   "execution_count": null,
   "metadata": {},
   "outputs": [],
   "source": [
    "# Initialize neuron state\n",
    "brainstate.nn.init_all_states(neuron)\n",
    "\n",
    "# Define simulation parameters\n",
    "duration = 200. * u.ms\n",
    "dt = brainstate.environ.get_dt()\n",
    "times = u.math.arange(0. * u.ms, duration, dt)\n",
    "\n",
    "# Input current (constant)\n",
    "I_input = 2.0 * u.nA\n",
    "\n",
    "# Run simulation and record membrane potential\n",
    "voltages = []\n",
    "spikes = []\n",
    "\n",
    "for t in times:\n",
    "    neuron(I_input)\n",
    "    voltages.append(neuron.V.value)\n",
    "    spikes.append(neuron.get_spike())\n",
    "\n",
    "voltages = u.math.asarray(voltages)\n",
    "spikes = u.math.asarray(spikes)\n",
    "\n",
    "print(f\"Simulation complete! Recorded {len(times)} time steps.\")"
   ]
  },
  {
   "cell_type": "markdown",
   "metadata": {},
   "source": [
    "## Step 4: Visualize the Results\n",
    "\n",
    "Let's plot the membrane potential over time:"
   ]
  },
  {
   "cell_type": "code",
   "execution_count": null,
   "metadata": {},
   "outputs": [],
   "source": [
    "# Convert to appropriate units for plotting\n",
    "times_plot = times.to_decimal(u.ms)\n",
    "voltages_plot = voltages.to_decimal(u.mV)\n",
    "\n",
    "# Create plot\n",
    "plt.figure(figsize=(10, 4))\n",
    "plt.plot(times_plot, voltages_plot, linewidth=2)\n",
    "plt.xlabel('Time (ms)')\n",
    "plt.ylabel('Membrane Potential (mV)')\n",
    "plt.title('LIF Neuron Response to Constant Input')\n",
    "plt.grid(True, alpha=0.3)\n",
    "plt.tight_layout()\n",
    "plt.show()\n",
    "\n",
    "# Count spikes\n",
    "n_spikes = int(u.math.sum(spikes != 0))\n",
    "firing_rate = n_spikes / (duration.to_decimal(u.second))\n",
    "print(f\"Number of spikes: {n_spikes}\")\n",
    "print(f\"Average firing rate: {firing_rate:.2f} Hz\")"
   ]
  },
  {
   "cell_type": "markdown",
   "metadata": {},
   "source": [
    "## Step 5: Create a Network of Neurons\n",
    "\n",
    "Now let's create a small network with excitatory and inhibitory populations:"
   ]
  },
  {
   "cell_type": "code",
   "execution_count": null,
   "metadata": {},
   "outputs": [],
   "source": [
    "class SimpleEINet(brainstate.nn.Module):\n",
    "    def __init__(self, n_exc=80, n_inh=20):\n",
    "        super().__init__()\n",
    "        self.n_exc = n_exc\n",
    "        self.n_inh = n_inh\n",
    "        self.num = n_exc + n_inh\n",
    "        \n",
    "        # Create neurons\n",
    "        self.neurons = brainpy.LIF(\n",
    "            self.num,\n",
    "            V_rest=-65. * u.mV,\n",
    "            V_th=-50. * u.mV,\n",
    "            V_reset=-65. * u.mV,\n",
    "            tau=10. * u.ms,\n",
    "            V_initializer=braintools.init.Normal(-65., 5., unit=u.mV)\n",
    "        )\n",
    "        \n",
    "        # Excitatory to all projection\n",
    "        self.E2all = brainpy.AlignPostProj(\n",
    "            comm=brainstate.nn.EventFixedProb(n_exc, self.num, prob=0.1, weight=0.6*u.mS),\n",
    "            syn=brainpy.Expon.desc(self.num, tau=2. * u.ms),\n",
    "            out=brainpy.CUBA.desc(),\n",
    "            post=self.neurons,\n",
    "        )\n",
    "        \n",
    "        # Inhibitory to all projection\n",
    "        self.I2all = brainpy.AlignPostProj(\n",
    "            comm=brainstate.nn.EventFixedProb(n_inh, self.num, prob=0.1, weight=-5.0*u.mS),\n",
    "            syn=brainpy.Expon.desc(self.num, tau=2. * u.ms),\n",
    "            out=brainpy.CUBA.desc(),\n",
    "            post=self.neurons,\n",
    "        )\n",
    "    \n",
    "    def update(self, input_current):\n",
    "        # Get spikes from previous time step\n",
    "        spikes = self.neurons.get_spike() != 0.\n",
    "        \n",
    "        # Update projections\n",
    "        self.E2all(spikes[:self.n_exc])  # Excitatory spikes\n",
    "        self.I2all(spikes[self.n_exc:])  # Inhibitory spikes\n",
    "        \n",
    "        # Update neurons\n",
    "        self.neurons(input_current)\n",
    "        \n",
    "        return self.neurons.get_spike()\n",
    "\n",
    "# Create network\n",
    "net = SimpleEINet(n_exc=80, n_inh=20)\n",
    "print(f\"Created network with {net.num} neurons\")"
   ]
  },
  {
   "cell_type": "markdown",
   "metadata": {},
   "source": [
    "## Step 6: Simulate the Network\n",
    "\n",
    "Let's run the network and visualize its activity:"
   ]
  },
  {
   "cell_type": "code",
   "execution_count": null,
   "metadata": {},
   "outputs": [],
   "source": [
    "# Initialize network states\n",
    "brainstate.nn.init_all_states(net)\n",
    "\n",
    "# Simulation parameters\n",
    "duration = 500. * u.ms\n",
    "times = u.math.arange(0. * u.ms, duration, dt)\n",
    "I_ext = 1.5 * u.nA  # External input current\n",
    "\n",
    "# Run simulation\n",
    "spike_history = brainstate.transform.for_loop(\n",
    "    lambda t: net.update(I_ext),\n",
    "    times,\n",
    "    pbar=brainstate.transform.ProgressBar(10)\n",
    ")\n",
    "\n",
    "print(\"Network simulation complete!\")"
   ]
  },
  {
   "cell_type": "markdown",
   "metadata": {},
   "source": [
    "## Step 7: Visualize Network Activity (Raster Plot)\n",
    "\n",
    "Create a raster plot showing when each neuron fired:"
   ]
  },
  {
   "cell_type": "code",
   "execution_count": null,
   "metadata": {},
   "outputs": [],
   "source": [
    "# Find spike times and neuron indices\n",
    "t_indices, n_indices = u.math.where(spike_history != 0)\n",
    "\n",
    "# Convert to plottable format\n",
    "spike_times = times[t_indices].to_decimal(u.ms)\n",
    "\n",
    "# Create raster plot\n",
    "plt.figure(figsize=(12, 6))\n",
    "plt.scatter(spike_times, n_indices, s=1, c='black', alpha=0.5)\n",
    "\n",
    "# Mark excitatory and inhibitory populations\n",
    "plt.axhline(y=net.n_exc, color='red', linestyle='--', alpha=0.5, label='E/I boundary')\n",
    "\n",
    "plt.xlabel('Time (ms)', fontsize=12)\n",
    "plt.ylabel('Neuron Index', fontsize=12)\n",
    "plt.title('Network Activity (Raster Plot)', fontsize=14)\n",
    "plt.legend()\n",
    "plt.grid(True, alpha=0.3)\n",
    "\n",
    "# Add text annotations\n",
    "plt.text(10, net.n_exc/2, 'Excitatory', fontsize=10, bbox=dict(boxstyle='round', facecolor='wheat', alpha=0.5))\n",
    "plt.text(10, net.n_exc + net.n_inh/2, 'Inhibitory', fontsize=10, bbox=dict(boxstyle='round', facecolor='lightblue', alpha=0.5))\n",
    "\n",
    "plt.tight_layout()\n",
    "plt.show()\n",
    "\n",
    "# Calculate statistics\n",
    "total_spikes = len(t_indices)\n",
    "avg_rate = total_spikes / (net.num * duration.to_decimal(u.second))\n",
    "print(f\"Total spikes: {total_spikes}\")\n",
    "print(f\"Average firing rate: {avg_rate:.2f} Hz\")"
   ]
  },
  {
   "cell_type": "markdown",
   "metadata": {},
   "source": [
    "## Summary\n",
    "\n",
    "Congratulations! 🎉 You've just:\n",
    "\n",
    "1. ✅ Created individual neurons with physical units\n",
    "2. ✅ Simulated neuron dynamics with input currents\n",
    "3. ✅ Built a network with excitatory and inhibitory populations\n",
    "4. ✅ Connected neurons with synaptic projections\n",
    "5. ✅ Visualized network activity\n",
    "\n",
    "## Next Steps\n",
    "\n",
    "Now that you've completed your first simulation, you can:\n",
    "\n",
    "- **Learn more concepts**: Read the [Core Concepts](../core-concepts/architecture.rst) guide\n",
    "- **Follow tutorials**: Try the [Basic Tutorials](../tutorials/basic/01-lif-neuron.ipynb) for deeper understanding\n",
    "- **Explore examples**: Check out the [Examples Gallery](../examples/gallery.rst) for real-world models\n",
    "- **Experiment**: Modify the network parameters and see what happens!\n",
    "\n",
    "### Try These Experiments\n",
    "\n",
    "1. Change the connection probability in the network\n",
    "2. Adjust the excitatory/inhibitory balance\n",
    "3. Add more neuron populations\n",
    "4. Try different input currents or patterns\n",
    "\n",
    "Happy modeling! 🧠"
   ]
  }
 ],
 "metadata": {
  "kernelspec": {
   "display_name": "Python 3",
   "language": "python",
   "name": "python3"
  },
  "language_info": {
   "codemirror_mode": {
    "name": "ipython",
    "version": 3
   },
   "file_extension": ".py",
   "mimetype": "text/x-python",
   "name": "python",
   "nbconvert_exporter": "python",
   "pygments_lexer": "ipython3",
   "version": "3.10.0"
  }
 },
 "nbformat": 4,
 "nbformat_minor": 4
}
